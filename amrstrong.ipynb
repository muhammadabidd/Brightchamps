{
 "cells": [
  {
   "cell_type": "code",
   "execution_count": 18,
   "metadata": {},
   "outputs": [
    {
     "data": {
      "text/plain": [
       "153"
      ]
     },
     "execution_count": 18,
     "metadata": {},
     "output_type": "execute_result"
    }
   ],
   "source": [
    "numbr = 153\n",
    "\n",
    "temp = numbr\n",
    "thesum = 0\n",
    "\n",
    "while temp > 0:\n",
    "\n",
    "\n",
    "    last_digit = temp % 10\n",
    "    cube = last_digit ** 3\n",
    "    temp = temp // 10\n",
    "    thesum = thesum + cube\n",
    "\n",
    "thesum \n",
    "    # last_digit = temp % 10\n",
    "    # cube = last_digit ** 3\n",
    "    # temp = temp // 10\n",
    "    # thesum = thesum + cube\n",
    "\n",
    "    # last_digit = temp % 10\n",
    "    # cube = last_digit ** 3\n",
    "    # temp = temp // 10\n",
    "    # thesum = thesum + cube\n",
    "\n",
    "\n"
   ]
  },
  {
   "cell_type": "code",
   "execution_count": null,
   "metadata": {},
   "outputs": [],
   "source": []
  }
 ],
 "metadata": {
  "kernelspec": {
   "display_name": "Python 3",
   "language": "python",
   "name": "python3"
  },
  "language_info": {
   "codemirror_mode": {
    "name": "ipython",
    "version": 3
   },
   "file_extension": ".py",
   "mimetype": "text/x-python",
   "name": "python",
   "nbconvert_exporter": "python",
   "pygments_lexer": "ipython3",
   "version": "3.11.4"
  }
 },
 "nbformat": 4,
 "nbformat_minor": 2
}
