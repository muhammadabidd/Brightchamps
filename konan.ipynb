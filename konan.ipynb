{
 "cells": [
  {
   "cell_type": "code",
   "execution_count": 1,
   "metadata": {},
   "outputs": [
    {
     "name": "stdout",
     "output_type": "stream",
     "text": [
      "Abid\n"
     ]
    }
   ],
   "source": [
    "print(\"Abid\")"
   ]
  },
  {
   "cell_type": "code",
   "execution_count": 5,
   "metadata": {},
   "outputs": [
    {
     "name": "stdout",
     "output_type": "stream",
     "text": [
      "BC\n"
     ]
    }
   ],
   "source": [
    "print(chr(66) + chr(67))"
   ]
  },
  {
   "cell_type": "code",
   "execution_count": 6,
   "metadata": {},
   "outputs": [
    {
     "data": {
      "text/plain": [
       "'a'"
      ]
     },
     "execution_count": 6,
     "metadata": {},
     "output_type": "execute_result"
    }
   ],
   "source": [
    "chr(97)"
   ]
  },
  {
   "cell_type": "code",
   "execution_count": 8,
   "metadata": {},
   "outputs": [
    {
     "name": "stdout",
     "output_type": "stream",
     "text": [
      "A\n",
      "B\n",
      "C\n",
      "D\n",
      "E\n",
      "F\n",
      "G\n",
      "H\n",
      "I\n",
      "J\n",
      "K\n",
      "L\n",
      "M\n",
      "N\n",
      "O\n",
      "P\n",
      "Q\n",
      "R\n",
      "S\n",
      "T\n",
      "U\n",
      "V\n",
      "W\n",
      "X\n",
      "Y\n",
      "Z\n"
     ]
    }
   ],
   "source": [
    "for i in range(26):\n",
    "    print(chr(i+65))"
   ]
  },
  {
   "cell_type": "code",
   "execution_count": 12,
   "metadata": {},
   "outputs": [
    {
     "name": "stdout",
     "output_type": "stream",
     "text": [
      "This is line 1  This is Second Line\n"
     ]
    }
   ],
   "source": [
    "print(\"This is line 1 \", end=\" \")\n",
    "print(\"This is Second Line\")"
   ]
  },
  {
   "cell_type": "code",
   "execution_count": 19,
   "metadata": {},
   "outputs": [
    {
     "name": "stdout",
     "output_type": "stream",
     "text": [
      "A \n",
      "A B \n",
      "A B C \n"
     ]
    }
   ],
   "source": [
    "for i in range(1):\n",
    "    print(chr(i+65), end = ' ')\n",
    "print('')\n",
    "\n",
    "for i in range(2):\n",
    "    print(chr(i+65), end = ' ')\n",
    "print('')\n",
    "\n",
    "for i in range(3):\n",
    "    print(chr(i+65), end = ' ')\n",
    "print('')\n"
   ]
  },
  {
   "cell_type": "code",
   "execution_count": 25,
   "metadata": {},
   "outputs": [
    {
     "name": "stdout",
     "output_type": "stream",
     "text": [
      "A \n",
      "A B \n",
      "A B C \n",
      "A B C D \n",
      "A B C D E \n",
      "A B C D E F \n",
      "A B C D E F G \n",
      "A B C D E F G H \n",
      "A B C D E F G H I \n",
      "A B C D E F G H I J \n"
     ]
    }
   ],
   "source": [
    "for j in range(10):\n",
    "    for i in range(1+j):\n",
    "        print(chr(i+65), end = ' ')\n",
    "    print('')"
   ]
  },
  {
   "cell_type": "code",
   "execution_count": 28,
   "metadata": {},
   "outputs": [
    {
     "name": "stdout",
     "output_type": "stream",
     "text": [
      "A \n",
      "B C \n",
      "D E F \n",
      "G H I J \n",
      "K L M N O \n",
      "P Q R S T U \n",
      "V W X Y Z [ \\ \n",
      "] ^ _ ` a b c d \n",
      "e f g h i j k l m \n",
      "n o p q r s t u v w \n"
     ]
    }
   ],
   "source": [
    "letter = 65\n",
    "\n",
    "for j in range(10):\n",
    "    for i in range(1+j):\n",
    "        print(chr(letter), end = ' ')\n",
    "        letter += 1\n",
    "    print('')"
   ]
  },
  {
   "cell_type": "code",
   "execution_count": null,
   "metadata": {},
   "outputs": [],
   "source": []
  }
 ],
 "metadata": {
  "kernelspec": {
   "display_name": "Python 3",
   "language": "python",
   "name": "python3"
  },
  "language_info": {
   "codemirror_mode": {
    "name": "ipython",
    "version": 3
   },
   "file_extension": ".py",
   "mimetype": "text/x-python",
   "name": "python",
   "nbconvert_exporter": "python",
   "pygments_lexer": "ipython3",
   "version": "3.11.4"
  }
 },
 "nbformat": 4,
 "nbformat_minor": 2
}
