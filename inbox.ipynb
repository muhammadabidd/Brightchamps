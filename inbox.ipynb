{
 "cells": [
  {
   "cell_type": "code",
   "execution_count": 1,
   "metadata": {},
   "outputs": [
    {
     "name": "stdout",
     "output_type": "stream",
     "text": [
      "The Timer will begin\n"
     ]
    }
   ],
   "source": [
    "import time\n",
    "print(\"The Timer will begin\")\n",
    "for i in range(30, 0,-1):\n",
    "   print(i)\n",
    "   time.sleep(1)"
   ]
  },
  {
   "cell_type": "code",
   "execution_count": 1,
   "metadata": {},
   "outputs": [],
   "source": [
    "def luaspersegi(s):\n",
    "    return s * s"
   ]
  },
  {
   "cell_type": "code",
   "execution_count": 3,
   "metadata": {},
   "outputs": [
    {
     "data": {
      "text/plain": [
       "100"
      ]
     },
     "execution_count": 3,
     "metadata": {},
     "output_type": "execute_result"
    }
   ],
   "source": [
    "luaspersegi(10)"
   ]
  },
  {
   "cell_type": "code",
   "execution_count": 5,
   "metadata": {},
   "outputs": [
    {
     "data": {
      "text/plain": [
       "720"
      ]
     },
     "execution_count": 5,
     "metadata": {},
     "output_type": "execute_result"
    }
   ],
   "source": [
    "# factorial ?\n",
    "\n",
    "\n",
    "# tentukan faktorial dari 4\n",
    "\n",
    "\n",
    "# factorial(5)  = 5 * 4 * 3 * 2 * 1\n",
    "# factorial(4) = 4 * 3 * 2 * 1\n",
    "# factorial(3) = 3 * 2 * 1\n",
    "# factorial(2) = 2 * 1\n",
    "\n",
    "angka = 4\n",
    "# angka * 3 * 2 * 1\n",
    "# angka * factorial(angka-1)\n",
    "# 4 * 3 * 2 * 1\n",
    "# 4 * 3 * factorial(angka - 2)\n",
    "\n",
    "\n",
    "\n",
    "\n",
    "\n"
   ]
  },
  {
   "cell_type": "code",
   "execution_count": 6,
   "metadata": {},
   "outputs": [],
   "source": [
    "def factorial(angka):\n",
    "    if angka == 1:\n",
    "        return 1\n",
    "    if angka > 1:\n",
    "        return angka * factorial(angka-1)\n"
   ]
  },
  {
   "cell_type": "code",
   "execution_count": 9,
   "metadata": {},
   "outputs": [
    {
     "data": {
      "text/plain": [
       "93326215443944152681699238856266700490715968264381621468592963895217599993229915608941463976156518286253697920827223758251185210916864000000000000000000000000"
      ]
     },
     "execution_count": 9,
     "metadata": {},
     "output_type": "execute_result"
    }
   ],
   "source": [
    "factorial(100)"
   ]
  },
  {
   "cell_type": "code",
   "execution_count": null,
   "metadata": {},
   "outputs": [],
   "source": [
    "# fibonaci\n",
    "\n",
    "0 + 1 + 1 + 2 + 3 + 5 +8 + 13\n",
    "\n",
    "\n",
    "# 1 angka awal = 0\n",
    "# 2 angka awal = 1\n",
    "\n",
    "\n",
    "#  3 angka awal = 2\n",
    "#  4 angka awal = 4\n",
    "#  5 angka awal = 7\n",
    "#  6 angka awal = 12\n"
   ]
  },
  {
   "cell_type": "code",
   "execution_count": null,
   "metadata": {},
   "outputs": [],
   "source": [
    "def fibonanci(urutan):\n",
    "    if urutan == 1 | urutan == 2:\n",
    "        return 1\n",
    "    else:\n",
    "        return fibonanci(urutan - 1) + fibonanci(urutan - 2)"
   ]
  }
 ],
 "metadata": {
  "kernelspec": {
   "display_name": "Python 3",
   "language": "python",
   "name": "python3"
  },
  "language_info": {
   "codemirror_mode": {
    "name": "ipython",
    "version": 3
   },
   "file_extension": ".py",
   "mimetype": "text/x-python",
   "name": "python",
   "nbconvert_exporter": "python",
   "pygments_lexer": "ipython3",
   "version": "3.11.4"
  }
 },
 "nbformat": 4,
 "nbformat_minor": 2
}
