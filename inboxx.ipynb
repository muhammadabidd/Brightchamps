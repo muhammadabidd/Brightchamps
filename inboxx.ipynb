{
 "cells": [
  {
   "cell_type": "code",
   "execution_count": 1,
   "metadata": {},
   "outputs": [],
   "source": [
    "import re"
   ]
  },
  {
   "cell_type": "code",
   "execution_count": 4,
   "metadata": {},
   "outputs": [
    {
     "data": {
      "text/plain": [
       "['abid', 'abid']"
      ]
     },
     "execution_count": 4,
     "metadata": {},
     "output_type": "execute_result"
    }
   ],
   "source": [
    "re.findall('abid', \"abid is abid\")"
   ]
  },
  {
   "cell_type": "code",
   "execution_count": 22,
   "metadata": {},
   "outputs": [
    {
     "data": {
      "text/plain": [
       "['MY', 'NAME', 'abid', 'user']"
      ]
     },
     "execution_count": 22,
     "metadata": {},
     "output_type": "execute_result"
    }
   ],
   "source": [
    "re.findall('[A-Za-z]+', 'MY NAME abid   @user1')"
   ]
  },
  {
   "cell_type": "code",
   "execution_count": 17,
   "metadata": {},
   "outputs": [
    {
     "data": {
      "text/plain": [
       "['abid@gmail']"
      ]
     },
     "execution_count": 17,
     "metadata": {},
     "output_type": "execute_result"
    }
   ],
   "source": [
    "re.findall('[A-Za-z1-9]+@gmail' , 'abid@gmail    abi@yahoo')"
   ]
  },
  {
   "cell_type": "code",
   "execution_count": 23,
   "metadata": {},
   "outputs": [],
   "source": [
    "text = 'abid@gmail.com ujang@yahoo.com danu@food.id'"
   ]
  },
  {
   "cell_type": "code",
   "execution_count": 30,
   "metadata": {},
   "outputs": [
    {
     "data": {
      "text/plain": [
       "['abid@gmail.com', 'ujang@yahoo.com']"
      ]
     },
     "execution_count": 30,
     "metadata": {},
     "output_type": "execute_result"
    }
   ],
   "source": [
    "re.findall('[A-Za-z0-9]+@[A-Za-z]+.com', text)"
   ]
  },
  {
   "cell_type": "code",
   "execution_count": 51,
   "metadata": {},
   "outputs": [
    {
     "name": "stdout",
     "output_type": "stream",
     "text": [
      "I like to eat here  \n"
     ]
    }
   ],
   "source": [
    "mytext = \"I like to eat here @user1 @user2\"\n",
    "\n",
    "result = re.findall('@[A-Za-z0-9]+', mytext)\n",
    "\n",
    "# print(result[0])\n",
    "mytext = re.sub(result[0], '', mytext)\n",
    "\n",
    "# print(result[1])\n",
    "mytext = re.sub(result[1], '', mytext)\n",
    "\n",
    "\n",
    "print(mytext)\n",
    "\n",
    "\n",
    "\n",
    "\n"
   ]
  },
  {
   "cell_type": "code",
   "execution_count": 39,
   "metadata": {},
   "outputs": [
    {
     "data": {
      "text/plain": [
       "'bybm'"
      ]
     },
     "execution_count": 39,
     "metadata": {},
     "output_type": "execute_result"
    }
   ],
   "source": [
    "re.sub('a', 'b', \"ayam\")"
   ]
  },
  {
   "cell_type": "code",
   "execution_count": 2,
   "metadata": {},
   "outputs": [],
   "source": [
    "import re"
   ]
  },
  {
   "cell_type": "code",
   "execution_count": 3,
   "metadata": {},
   "outputs": [],
   "source": [
    "def removePattern(mytext, pattern):\n",
    "  result = re.findall(pattern, mytext)\n",
    "\n",
    "  for i in result:\n",
    "    mytext = re.sub(i, '', mytext)\n",
    "  return mytext"
   ]
  },
  {
   "cell_type": "code",
   "execution_count": 34,
   "metadata": {},
   "outputs": [],
   "source": [
    "newtext = removePattern(\"I like to eat @user1 @user2    ...... .....\", '@[A-Za-z0-9]+')"
   ]
  },
  {
   "cell_type": "code",
   "execution_count": 38,
   "metadata": {},
   "outputs": [
    {
     "data": {
      "text/plain": [
       "'I like to eat...... .....'"
      ]
     },
     "execution_count": 38,
     "metadata": {},
     "output_type": "execute_result"
    }
   ],
   "source": [
    "removePattern(newtext, '  ')"
   ]
  },
  {
   "cell_type": "code",
   "execution_count": 52,
   "metadata": {},
   "outputs": [
    {
     "name": "stdout",
     "output_type": "stream",
     "text": [
      "                 Strings\n",
      "0                  apple\n",
      "1                 banana\n",
      "2                 cherry\n",
      "3                   date\n",
      "4             elderberry\n",
      "5                    fig\n",
      "6                  grape\n",
      "7               honeydew\n",
      "8                   kiwi\n",
      "9                  lemon\n",
      "10                 mango\n",
      "11             nectarine\n",
      "12                orange\n",
      "13                papaya\n",
      "14                quince\n",
      "15             raspberry\n",
      "16            strawberry\n",
      "17             tangerine\n",
      "18            ugli fruit\n",
      "19               vanilla\n",
      "20            watermelon\n",
      "21                 xigua\n",
      "22  yellow passion fruit\n",
      "23              zucchini\n",
      "24               apricot\n"
     ]
    }
   ],
   "source": [
    "import pandas as pd\n",
    "\n",
    "# Generate sample data\n",
    "data = {\n",
    "    \"Strings\": [\n",
    "        \"apple\", \"banana\", \"cherry\", \"date\", \"elderberry\", \"fig\", \"grape\",\n",
    "        \"honeydew\", \"kiwi\", \"lemon\", \"mango\", \"nectarine\", \"orange\", \"papaya\",\n",
    "        \"quince\", \"raspberry\", \"strawberry\", \"tangerine\", \"ugli fruit\",\n",
    "        \"vanilla\", \"watermelon\", \"xigua\", \"yellow passion fruit\", \"zucchini\",\n",
    "        \"apricot\"\n",
    "    ]\n",
    "}\n",
    "\n",
    "# Create DataFrame\n",
    "df = pd.DataFrame(data)\n",
    "\n",
    "# Display the DataFrame\n",
    "print(df)\n"
   ]
  },
  {
   "cell_type": "code",
   "execution_count": 51,
   "metadata": {},
   "outputs": [],
   "source": [
    "def long_text(thetext, multiplication):\n",
    "    return len(thetext) * multiplication"
   ]
  },
  {
   "cell_type": "code",
   "execution_count": 46,
   "metadata": {},
   "outputs": [
    {
     "data": {
      "text/plain": [
       "20"
      ]
     },
     "execution_count": 46,
     "metadata": {},
     "output_type": "execute_result"
    }
   ],
   "source": [
    "long_text(\"ABid\", 5)"
   ]
  },
  {
   "cell_type": "code",
   "execution_count": 53,
   "metadata": {},
   "outputs": [
    {
     "data": {
      "text/plain": [
       "array([ 50,  60,  60,  40, 100,  30,  50,  80,  40,  50,  50,  90,  60,\n",
       "        60,  60,  90, 100,  90, 100,  70, 100,  50, 200,  80,  70])"
      ]
     },
     "execution_count": 53,
     "metadata": {},
     "output_type": "execute_result"
    }
   ],
   "source": [
    "import numpy as np\n",
    "\n",
    "np.vectorize(long_text)(df['Strings'], 10)"
   ]
  },
  {
   "cell_type": "code",
   "execution_count": 54,
   "metadata": {},
   "outputs": [
    {
     "data": {
      "text/plain": [
       "0                    apple\n",
       "1                   banana\n",
       "2                   cherry\n",
       "3                     date\n",
       "4               elderberry\n",
       "5                      fig\n",
       "6                    grape\n",
       "7                 honeydew\n",
       "8                     kiwi\n",
       "9                    lemon\n",
       "10                   mango\n",
       "11               nectarine\n",
       "12                  orange\n",
       "13                  papaya\n",
       "14                  quince\n",
       "15               raspberry\n",
       "16              strawberry\n",
       "17               tangerine\n",
       "18              ugli fruit\n",
       "19                 vanilla\n",
       "20              watermelon\n",
       "21                   xigua\n",
       "22    yellow passion fruit\n",
       "23                zucchini\n",
       "24                 apricot\n",
       "Name: Strings, dtype: object"
      ]
     },
     "execution_count": 54,
     "metadata": {},
     "output_type": "execute_result"
    }
   ],
   "source": [
    "df['Strings']"
   ]
  },
  {
   "cell_type": "code",
   "execution_count": 56,
   "metadata": {},
   "outputs": [
    {
     "name": "stdout",
     "output_type": "stream",
     "text": [
      "                  Strings\n",
      "0                  app@le\n",
      "1                 bana@na\n",
      "2                 cherr@y\n",
      "3                   date@\n",
      "4             elderb@erry\n",
      "5                    fi@g\n",
      "6                  gra@pe\n",
      "7               hone@ydew\n",
      "8                   ki@wi\n",
      "9                  lem@on\n",
      "10                 mang@o\n",
      "11             nectarin@e\n",
      "12                ora%nge\n",
      "13                @papaya\n",
      "14                quin%ce\n",
      "15             r%aspberry\n",
      "16            strawberry%\n",
      "17             tangeri@ne\n",
      "18            @ugli fruit\n",
      "19               vani%lla\n",
      "20            wate@rmelon\n",
      "21                 xigu@a\n",
      "22  yel@low passion fruit\n",
      "23              zucchin%i\n",
      "24               apricot@\n"
     ]
    }
   ],
   "source": [
    "import pandas as pd\n",
    "import random\n",
    "\n",
    "# Original strings\n",
    "fruits = [\n",
    "    \"apple\", \"banana\", \"cherry\", \"date\", \"elderberry\", \"fig\", \"grape\",\n",
    "    \"honeydew\", \"kiwi\", \"lemon\", \"mango\", \"nectarine\", \"orange\", \"papaya\",\n",
    "    \"quince\", \"raspberry\", \"strawberry\", \"tangerine\", \"ugli fruit\",\n",
    "    \"vanilla\", \"watermelon\", \"xigua\", \"yellow passion fruit\", \"zucchini\",\n",
    "    \"apricot\"\n",
    "]\n",
    "\n",
    "# Function to insert random @ or % into the strings\n",
    "def insert_random_chars(s):\n",
    "    chars = ['@', '%']\n",
    "    index = random.randint(0, len(s))\n",
    "    char = random.choice(chars)\n",
    "    return s[:index] + char + s[index:]\n",
    "\n",
    "# Apply the function to the list\n",
    "noisy_fruits = [insert_random_chars(fruit) for fruit in fruits]\n",
    "\n",
    "# Create DataFrame\n",
    "data = {\n",
    "    \"Strings\": noisy_fruits\n",
    "}\n",
    "df = pd.DataFrame(data)\n",
    "\n",
    "# Display the DataFrame\n",
    "print(df)\n"
   ]
  },
  {
   "cell_type": "code",
   "execution_count": 68,
   "metadata": {},
   "outputs": [
    {
     "data": {
      "text/plain": [
       "0                  apple\n",
       "1                 banana\n",
       "2                 cherry\n",
       "3                   date\n",
       "4             elderberry\n",
       "5                    fig\n",
       "6                  grape\n",
       "7               honeydew\n",
       "8                   kiwi\n",
       "9                  lemon\n",
       "10                 mango\n",
       "11             nectarine\n",
       "12                orange\n",
       "13                papaya\n",
       "14                quince\n",
       "15             raspberry\n",
       "16            strawberry\n",
       "17             tangerine\n",
       "18             uglifruit\n",
       "19               vanilla\n",
       "20            watermelon\n",
       "21                 xigua\n",
       "22    yellowpassionfruit\n",
       "23              zucchini\n",
       "24               apricot\n",
       "Name: Strings, dtype: object"
      ]
     },
     "execution_count": 68,
     "metadata": {},
     "output_type": "execute_result"
    }
   ],
   "source": [
    "df['Strings'].str.replace('[^A-Za-z1-9#]', '', regex=True)"
   ]
  },
  {
   "cell_type": "code",
   "execution_count": 69,
   "metadata": {},
   "outputs": [
    {
     "name": "stdout",
     "output_type": "stream",
     "text": [
      "                                             Sentence\n",
      "0        The quick brown fox jumps over the lazy dog.\n",
      "1                She sells seashells by the seashore.\n",
      "2   How much wood would a woodchuck chuck if a woo...\n",
      "3           To be or not to be, that is the question.\n",
      "4                      All that glitters is not gold.\n",
      "5   A journey of a thousand miles begins with a si...\n",
      "6                             Better late than never.\n",
      "7                    Actions speak louder than words.\n",
      "8               Beauty is in the eye of the beholder.\n",
      "9                  Birds of a feather flock together.\n",
      "10                           Fortune favors the bold.\n",
      "11                 When in Rome, do as the Romans do.\n",
      "12                The pen is mightier than the sword.\n",
      "13               You can't judge a book by its cover.\n",
      "14                   The early bird catches the worm.\n",
      "15               A picture is worth a thousand words.\n",
      "16                            Practice makes perfect.\n",
      "17                   Every cloud has a silver lining.\n",
      "18                         A watched pot never boils.\n",
      "19    When the going gets tough, the tough get going.\n"
     ]
    }
   ],
   "source": [
    "import pandas as pd\n",
    "\n",
    "# List of sentences\n",
    "sentences = [\n",
    "    \"The quick brown fox jumps over the lazy dog.\",\n",
    "    \"She sells seashells by the seashore.\",\n",
    "    \"How much wood would a woodchuck chuck if a woodchuck could chuck wood?\",\n",
    "    \"To be or not to be, that is the question.\",\n",
    "    \"All that glitters is not gold.\",\n",
    "    \"A journey of a thousand miles begins with a single step.\",\n",
    "    \"Better late than never.\",\n",
    "    \"Actions speak louder than words.\",\n",
    "    \"Beauty is in the eye of the beholder.\",\n",
    "    \"Birds of a feather flock together.\",\n",
    "    \"Fortune favors the bold.\",\n",
    "    \"When in Rome, do as the Romans do.\",\n",
    "    \"The pen is mightier than the sword.\",\n",
    "    \"You can't judge a book by its cover.\",\n",
    "    \"The early bird catches the worm.\",\n",
    "    \"A picture is worth a thousand words.\",\n",
    "    \"Practice makes perfect.\",\n",
    "    \"Every cloud has a silver lining.\",\n",
    "    \"A watched pot never boils.\",\n",
    "    \"When the going gets tough, the tough get going.\"\n",
    "]\n",
    "\n",
    "# Creating a DataFrame\n",
    "df = pd.DataFrame(sentences, columns=['Sentence'])\n",
    "\n",
    "# Display the DataFrame\n",
    "print(df)\n"
   ]
  },
  {
   "cell_type": "code",
   "execution_count": 75,
   "metadata": {},
   "outputs": [
    {
     "data": {
      "text/plain": [
       "['this', 'is', 'my', 'string']"
      ]
     },
     "execution_count": 75,
     "metadata": {},
     "output_type": "execute_result"
    }
   ],
   "source": [
    "# we want to seperate each sentences in a list\n",
    "\n",
    "\"this is my string\".split()"
   ]
  },
  {
   "cell_type": "code",
   "execution_count": 76,
   "metadata": {},
   "outputs": [],
   "source": [
    "def split_thetext(text):\n",
    "    return text.split()"
   ]
  },
  {
   "cell_type": "code",
   "execution_count": 77,
   "metadata": {},
   "outputs": [
    {
     "data": {
      "text/plain": [
       "['This', 'is', 'my', 'string']"
      ]
     },
     "execution_count": 77,
     "metadata": {},
     "output_type": "execute_result"
    }
   ],
   "source": [
    "split_thetext(\"This is my string\")"
   ]
  },
  {
   "cell_type": "code",
   "execution_count": 78,
   "metadata": {},
   "outputs": [
    {
     "data": {
      "text/plain": [
       "0     [The, quick, brown, fox, jumps, over, the, laz...\n",
       "1           [She, sells, seashells, by, the, seashore.]\n",
       "2     [How, much, wood, would, a, woodchuck, chuck, ...\n",
       "3     [To, be, or, not, to, be,, that, is, the, ques...\n",
       "4                 [All, that, glitters, is, not, gold.]\n",
       "5     [A, journey, of, a, thousand, miles, begins, w...\n",
       "6                          [Better, late, than, never.]\n",
       "7                [Actions, speak, louder, than, words.]\n",
       "8        [Beauty, is, in, the, eye, of, the, beholder.]\n",
       "9             [Birds, of, a, feather, flock, together.]\n",
       "10                        [Fortune, favors, the, bold.]\n",
       "11          [When, in, Rome,, do, as, the, Romans, do.]\n",
       "12          [The, pen, is, mightier, than, the, sword.]\n",
       "13        [You, can't, judge, a, book, by, its, cover.]\n",
       "14              [The, early, bird, catches, the, worm.]\n",
       "15         [A, picture, is, worth, a, thousand, words.]\n",
       "16                          [Practice, makes, perfect.]\n",
       "17              [Every, cloud, has, a, silver, lining.]\n",
       "18                     [A, watched, pot, never, boils.]\n",
       "19    [When, the, going, gets, tough,, the, tough, g...\n",
       "Name: Sentence, dtype: object"
      ]
     },
     "execution_count": 78,
     "metadata": {},
     "output_type": "execute_result"
    }
   ],
   "source": [
    "df['Sentence'].apply(split_thetext)"
   ]
  },
  {
   "cell_type": "code",
   "execution_count": 79,
   "metadata": {},
   "outputs": [
    {
     "data": {
      "text/plain": [
       "0     [The, quick, brown, fox, jumps, over, the, laz...\n",
       "1           [She, sells, seashells, by, the, seashore.]\n",
       "2     [How, much, wood, would, a, woodchuck, chuck, ...\n",
       "3     [To, be, or, not, to, be,, that, is, the, ques...\n",
       "4                 [All, that, glitters, is, not, gold.]\n",
       "5     [A, journey, of, a, thousand, miles, begins, w...\n",
       "6                          [Better, late, than, never.]\n",
       "7                [Actions, speak, louder, than, words.]\n",
       "8        [Beauty, is, in, the, eye, of, the, beholder.]\n",
       "9             [Birds, of, a, feather, flock, together.]\n",
       "10                        [Fortune, favors, the, bold.]\n",
       "11          [When, in, Rome,, do, as, the, Romans, do.]\n",
       "12          [The, pen, is, mightier, than, the, sword.]\n",
       "13        [You, can't, judge, a, book, by, its, cover.]\n",
       "14              [The, early, bird, catches, the, worm.]\n",
       "15         [A, picture, is, worth, a, thousand, words.]\n",
       "16                          [Practice, makes, perfect.]\n",
       "17              [Every, cloud, has, a, silver, lining.]\n",
       "18                     [A, watched, pot, never, boils.]\n",
       "19    [When, the, going, gets, tough,, the, tough, g...\n",
       "Name: Sentence, dtype: object"
      ]
     },
     "execution_count": 79,
     "metadata": {},
     "output_type": "execute_result"
    }
   ],
   "source": [
    "df['Sentence'].apply(lambda x: x.split())"
   ]
  },
  {
   "cell_type": "code",
   "execution_count": 81,
   "metadata": {},
   "outputs": [
    {
     "ename": "ModuleNotFoundError",
     "evalue": "No module named 'nltk'",
     "output_type": "error",
     "traceback": [
      "\u001b[0;31m---------------------------------------------------------------------------\u001b[0m",
      "\u001b[0;31mModuleNotFoundError\u001b[0m                       Traceback (most recent call last)",
      "Cell \u001b[0;32mIn[81], line 5\u001b[0m\n\u001b[1;32m      1\u001b[0m \u001b[38;5;66;03m# nltk > stemporter\u001b[39;00m\n\u001b[0;32m----> 5\u001b[0m \u001b[38;5;28;01mfrom\u001b[39;00m \u001b[38;5;21;01mnltk\u001b[39;00m\u001b[38;5;21;01m.\u001b[39;00m\u001b[38;5;21;01mstem\u001b[39;00m\u001b[38;5;21;01m.\u001b[39;00m\u001b[38;5;21;01mporter\u001b[39;00m \u001b[38;5;28;01mimport\u001b[39;00m PorterStemmer\n",
      "\u001b[0;31mModuleNotFoundError\u001b[0m: No module named 'nltk'"
     ]
    }
   ],
   "source": [
    "# nltk > stemporter\n",
    "\n",
    "\n",
    "\n",
    "from nltk.stem.porter import PorterStemmer\n",
    "\n",
    "stemmer = PorterStemmer()\n",
    "\n",
    "stemmer.stem(\"running\")"
   ]
  },
  {
   "cell_type": "code",
   "execution_count": null,
   "metadata": {},
   "outputs": [],
   "source": []
  }
 ],
 "metadata": {
  "kernelspec": {
   "display_name": "Python 3",
   "language": "python",
   "name": "python3"
  },
  "language_info": {
   "codemirror_mode": {
    "name": "ipython",
    "version": 3
   },
   "file_extension": ".py",
   "mimetype": "text/x-python",
   "name": "python",
   "nbconvert_exporter": "python",
   "pygments_lexer": "ipython3",
   "version": "3.11.4"
  }
 },
 "nbformat": 4,
 "nbformat_minor": 2
}
