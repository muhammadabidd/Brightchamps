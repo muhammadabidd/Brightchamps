{
 "cells": [
  {
   "cell_type": "code",
   "execution_count": 1,
   "metadata": {},
   "outputs": [],
   "source": [
    "import numpy as np # linear algebra\n",
    "import pandas as pd # data processing, CSV file I/O (e.g. pd.read_csv)\n",
    "import matplotlib.pyplot as plt # data visualization\n",
    "import seaborn as sns # statistical data visualization\n",
    "%matplotlib inline\n",
    "\n"
   ]
  },
  {
   "cell_type": "code",
   "execution_count": 1,
   "metadata": {},
   "outputs": [
    {
     "name": "stdout",
     "output_type": "stream",
     "text": [
      "[0]\n"
     ]
    }
   ],
   "source": [
    "from sklearn.feature_extraction.text import CountVectorizer\n",
    "from sklearn.naive_bayes import MultinomialNB\n",
    "import numpy as np\n",
    "\n",
    "# Example training data\n",
    "X_train = [\"This is a sample sentence\", \"This is another example\"]\n",
    "y_train = [0, 1]\n",
    "\n",
    "# Create and fit the vectorizer\n",
    "vectorizer = CountVectorizer()\n",
    "X_train_vectorized = vectorizer.fit_transform(X_train)\n",
    "\n",
    "# Create and fit the model\n",
    "model_naive = MultinomialNB()\n",
    "model_naive.fit(X_train_vectorized, y_train)\n",
    "\n",
    "# New sentence to classify\n",
    "new_sentence = \"This is a new example sentence\"\n",
    "\n",
    "# Preprocess and vectorize the new sentence\n",
    "new_sentence_vectorized = vectorizer.transform([new_sentence])\n",
    "\n",
    "# Predict the class\n",
    "predicted_class = model_naive.predict(new_sentence_vectorized)\n",
    "\n",
    "print(predicted_class)  # Output: [1]\n"
   ]
  },
  {
   "cell_type": "code",
   "execution_count": 8,
   "metadata": {},
   "outputs": [
    {
     "name": "stdout",
     "output_type": "stream",
     "text": [
      "Welcome to Airline Boarding System\n",
      "-------------\n",
      "Enter Your Name\n",
      "Enter Your Seat Number\n",
      "Economy Class\n"
     ]
    }
   ],
   "source": [
    "\n",
    "\n",
    "\n",
    "print(\"Welcome to Airline Boarding System\")\n",
    "\n",
    "print(\"-------------\")\n",
    "\n",
    "print(\"Enter Your Name\")\n",
    "\n",
    "\n",
    "print(\"Enter Your Seat Number\")\n",
    "\n",
    "seatnumber = int(input())\n",
    "\n",
    "\n",
    "if seatnumber <= 10 : \n",
    "    print(\"First Class\")\n",
    "elif seatnumber <= 30:\n",
    "    print(\"Business Class\")\n",
    "elif seatnumber <= 100:\n",
    "    print(\"Economy Class\")"
   ]
  },
  {
   "cell_type": "code",
   "execution_count": null,
   "metadata": {},
   "outputs": [],
   "source": []
  },
  {
   "cell_type": "code",
   "execution_count": null,
   "metadata": {},
   "outputs": [],
   "source": []
  }
 ],
 "metadata": {
  "kernelspec": {
   "display_name": "Python 3",
   "language": "python",
   "name": "python3"
  },
  "language_info": {
   "codemirror_mode": {
    "name": "ipython",
    "version": 3
   },
   "file_extension": ".py",
   "mimetype": "text/x-python",
   "name": "python",
   "nbconvert_exporter": "python",
   "pygments_lexer": "ipython3",
   "version": "3.11.4"
  }
 },
 "nbformat": 4,
 "nbformat_minor": 2
}
