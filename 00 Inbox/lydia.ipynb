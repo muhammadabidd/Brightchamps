{
 "cells": [
  {
   "cell_type": "code",
   "execution_count": 12,
   "metadata": {},
   "outputs": [
    {
     "name": "stdout",
     "output_type": "stream",
     "text": [
      "30\n",
      "49\n"
     ]
    }
   ],
   "source": [
    "import random\n",
    "import datetime\n",
    "\n",
    "LastTime = datetime.datetime.now().minute\n",
    "Index = random.randint(1, 100)\n",
    "\n",
    "\n",
    "print(LastTime)\n",
    "print(Index)\n"
   ]
  },
  {
   "cell_type": "code",
   "execution_count": 22,
   "metadata": {},
   "outputs": [
    {
     "name": "stdout",
     "output_type": "stream",
     "text": [
      "Current Time : 41\n",
      "Current Index : 19\n",
      "I attribute my success to this: I never gave or took any excuse. - Florence Nightingale\n"
     ]
    }
   ],
   "source": [
    "quotes = [\n",
    "    \"The only way to do great work is to love what you do. - Steve Jobs\",\n",
    "    \"In the midst of movement and chaos, keep stillness inside of you. - Deepak Chopra\",\n",
    "    \"Believe you can and you're halfway there. - Theodore Roosevelt\",\n",
    "    \"The future belongs to those who believe in the beauty of their dreams. - Eleanor Roosevelt\",\n",
    "    \"Success is not final, failure is not fatal: It is the courage to continue that counts. - Winston Churchill\",\n",
    "    \"The only limit to our realization of tomorrow will be our doubts of today. - Franklin D. Roosevelt\",\n",
    "    \"In the end, it's not the years in your life that count. It's the life in your years. - Abraham Lincoln\",\n",
    "    \"The greatest glory in living lies not in never falling, but in rising every time we fall. - Nelson Mandela\",\n",
    "    \"The only impossible journey is the one you never begin. - Tony Robbins\",\n",
    "    \"It does not matter how slowly you go as long as you do not stop. - Confucius\",\n",
    "    \"Your time is limited, don't waste it living someone else's life. - Steve Jobs\",\n",
    "    \"Strive not to be a success, but rather to be of value. - Albert Einstein\",\n",
    "    \"The best revenge is massive success. - Frank Sinatra\",\n",
    "    \"The only person you are destined to become is the person you decide to be. - Ralph Waldo Emerson\",\n",
    "    \"Don't watch the clock; do what it does. Keep going. - Sam Levenson\",\n",
    "    \"The way to get started is to quit talking and begin doing. - Walt Disney\",\n",
    "    \"What you get by achieving your goals is not as important as what you become by achieving your goals. - Zig Ziglar\",\n",
    "    \"You miss 100% of the shots you don't take. - Wayne Gretzky\",\n",
    "    \"The secret of getting ahead is getting started. - Mark Twain\",\n",
    "    \"I attribute my success to this: I never gave or took any excuse. - Florence Nightingale\"\n",
    "]\n",
    "\n",
    "\n",
    "\n",
    "\n",
    "if LastTime != datetime.datetime.now().minute:\n",
    "    LastTime = datetime.datetime.now().minute\n",
    "    Index = random.randint(0, 19)\n",
    "    \n",
    "print(\"Current Time : \" +  str(LastTime))\n",
    "print(\"Current Index : \" +  str(Index))\n",
    "print(quotes[Index])\n",
    "\n",
    "\n",
    "        "
   ]
  },
  {
   "cell_type": "code",
   "execution_count": null,
   "metadata": {},
   "outputs": [],
   "source": []
  }
 ],
 "metadata": {
  "kernelspec": {
   "display_name": "Python 3",
   "language": "python",
   "name": "python3"
  },
  "language_info": {
   "codemirror_mode": {
    "name": "ipython",
    "version": 3
   },
   "file_extension": ".py",
   "mimetype": "text/x-python",
   "name": "python",
   "nbconvert_exporter": "python",
   "pygments_lexer": "ipython3",
   "version": "3.10.6"
  }
 },
 "nbformat": 4,
 "nbformat_minor": 2
}
