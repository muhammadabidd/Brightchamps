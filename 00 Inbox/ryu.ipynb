{
 "cells": [
  {
   "cell_type": "code",
   "execution_count": 6,
   "metadata": {},
   "outputs": [
    {
     "name": "stdout",
     "output_type": "stream",
     "text": [
      "Helloo Semuanyaaaa\n",
      "Hello semuanya, nama saya : Abid\n",
      "Hobi saya adalah : Football\n",
      "Sya berumur : 22\n"
     ]
    }
   ],
   "source": [
    "# Pertemuan Python Advance 1 (Shopping Chatbox)\n",
    "\n",
    "print(\"Helloo Semuanyaaaa\")\n",
    "\n",
    "nama = \"Abid\"\n",
    "\n",
    "print(\"Hello semuanya, nama saya : \" + nama)\n",
    "\n",
    "hobi = \"Football\"\n",
    "\n",
    "print(\"Hobi saya adalah : \" + hobi)\n",
    "\n",
    "umur = 22\n",
    "\n",
    "print(\"Sya berumur : \" + str(umur))"
   ]
  },
  {
   "cell_type": "code",
   "execution_count": 8,
   "metadata": {},
   "outputs": [
    {
     "name": "stdout",
     "output_type": "stream",
     "text": [
      "Baiklah sekarang saya tahu namamu : Ujang\n"
     ]
    }
   ],
   "source": [
    "nama = input(\"Siapakah nama mu?\")\n",
    "\n",
    "print(\"Baiklah sekarang saya tahu namamu : \" + nama)"
   ]
  },
  {
   "cell_type": "code",
   "execution_count": 12,
   "metadata": {},
   "outputs": [
    {
     "name": "stdout",
     "output_type": "stream",
     "text": [
      "WElcome to our store, please choose the item that you would like to buy\n",
      "1. Pokeball\n",
      "2. Full Potion\n",
      "3. Ultra Ball\n",
      "Thankyou for chosing item number 2\n",
      "See you later\n"
     ]
    }
   ],
   "source": [
    "print(\"WElcome to our store, please choose the item that you would like to buy\")\n",
    "\n",
    "print(\"1. Pokeball\")\n",
    "print(\"2. Full Potion\")\n",
    "print(\"3. Ultra Ball\")\n",
    "\n",
    "item = input(\"please insert : \")\n",
    "\n",
    "print(\"Thankyou for chosing item number \" + item)\n",
    "print(\"See you later\")"
   ]
  },
  {
   "cell_type": "code",
   "execution_count": 1,
   "metadata": {},
   "outputs": [],
   "source": [
    "# Pertemuan 2 (Watch your step)\n",
    "\n"
   ]
  },
  {
   "cell_type": "code",
   "execution_count": 7,
   "metadata": {},
   "outputs": [
    {
     "data": {
      "text/plain": [
       "int"
      ]
     },
     "execution_count": 7,
     "metadata": {},
     "output_type": "execute_result"
    }
   ],
   "source": [
    "# Pertemuan 3 (Swapping Values)\n",
    "\n",
    "\n",
    "umur = 12\n",
    "umurRyu = int(input(\"berapa umurmu ryu?\"))\n",
    "\n",
    "\n",
    "type(umurRyu)\n"
   ]
  },
  {
   "cell_type": "code",
   "execution_count": 8,
   "metadata": {},
   "outputs": [
    {
     "data": {
      "text/plain": [
       "24"
      ]
     },
     "execution_count": 8,
     "metadata": {},
     "output_type": "execute_result"
    }
   ],
   "source": [
    "umurRyu + umurRyu"
   ]
  },
  {
   "cell_type": "code",
   "execution_count": 10,
   "metadata": {},
   "outputs": [],
   "source": [
    "umur = input(\"Berapa umurmu?\")"
   ]
  },
  {
   "cell_type": "code",
   "execution_count": 12,
   "metadata": {},
   "outputs": [
    {
     "data": {
      "text/plain": [
       "str"
      ]
     },
     "execution_count": 12,
     "metadata": {},
     "output_type": "execute_result"
    }
   ],
   "source": [
    "type(umur)"
   ]
  },
  {
   "cell_type": "code",
   "execution_count": 17,
   "metadata": {},
   "outputs": [
    {
     "name": "stdout",
     "output_type": "stream",
     "text": [
      "Jadi Umurmua adalah : \n",
      "19\n",
      "Kamu sudah boleh mengendarai sepak bola\n"
     ]
    }
   ],
   "source": [
    "umur = int(input(\"Berapa umurmu?\"))\n",
    "\n",
    "if umur > 17 :\n",
    "    print(\"Jadi Umurmua adalah : \")\n",
    "    print(umur)\n",
    "    print(\"Kamu sudah boleh mengendarai sepak bola\")"
   ]
  },
  {
   "cell_type": "code",
   "execution_count": 14,
   "metadata": {},
   "outputs": [
    {
     "data": {
      "text/plain": [
       "int"
      ]
     },
     "execution_count": 14,
     "metadata": {},
     "output_type": "execute_result"
    }
   ],
   "source": [
    "type(umur)"
   ]
  },
  {
   "cell_type": "code",
   "execution_count": 18,
   "metadata": {},
   "outputs": [],
   "source": [
    "# Aturan Menamai Variable\n",
    "\n",
    "#1. Boleh dimulai dari huruf apa saja\n",
    "angka = 12\n",
    "\n",
    "#2. Boleh menggunakan \"_\" atau simbol lain\n",
    "_angka = 12\n",
    "angka_kesukaan = 12\n",
    "\n",
    "# 3. Boleh menggunakan angka di akhir variable\n",
    "angka1 = 12\n",
    "angka2 = 13\n",
    "\n",
    "\n",
    "# 4. Boleh menggunakan huruf besar di awal variable\n",
    "Angka = 12\n",
    "\n",
    "\n",
    "\n"
   ]
  },
  {
   "cell_type": "code",
   "execution_count": 21,
   "metadata": {},
   "outputs": [
    {
     "ename": "SyntaxError",
     "evalue": "invalid syntax (616095082.py, line 7)",
     "output_type": "error",
     "traceback": [
      "\u001b[0;36m  Cell \u001b[0;32mIn[21], line 7\u001b[0;36m\u001b[0m\n\u001b[0;31m    nilai kesukaan = 15\u001b[0m\n\u001b[0m          ^\u001b[0m\n\u001b[0;31mSyntaxError\u001b[0m\u001b[0;31m:\u001b[0m invalid syntax\n"
     ]
    }
   ],
   "source": [
    "\n",
    "#Yang tidak boleh :\n",
    "#1. Boleh menggunakan angka di awal variable\n",
    "# 1nilai = 12\n",
    "\n",
    "#2. Boleh menggunakan spasi di variable\n",
    "\n",
    "# nilai kesukaan = 15"
   ]
  },
  {
   "cell_type": "code",
   "execution_count": 22,
   "metadata": {},
   "outputs": [
    {
     "name": "stdout",
     "output_type": "stream",
     "text": [
      "12\n",
      "13\n",
      "14\n"
     ]
    }
   ],
   "source": [
    "# Cara bikin variable yang banyak : \n",
    "\n",
    "\n",
    "\n",
    "var1, var2, var3 = 12, 13, 14\n",
    "\n",
    "\n",
    "\n",
    "print(var1)\n",
    "print(var2)\n",
    "print(var3)"
   ]
  },
  {
   "attachments": {
    "image.png": {
     "image/png": "[encoded data removed]"
    }
   },
   "cell_type": "markdown",
   "metadata": {},
   "source": [
    "![image.png](attachment:image.png)"
   ]
  },
  {
   "cell_type": "code",
   "execution_count": 7,
   "metadata": {},
   "outputs": [
    {
     "data": {
      "text/plain": [
       "10"
      ]
     },
     "execution_count": 7,
     "metadata": {},
     "output_type": "execute_result"
    }
   ],
   "source": [
    "15 & 10"
   ]
  },
  {
   "cell_type": "code",
   "execution_count": null,
   "metadata": {},
   "outputs": [],
   "source": [
    "000000001 = "
   ]
  },
  {
   "cell_type": "code",
   "execution_count": 5,
   "metadata": {},
   "outputs": [
    {
     "data": {
      "text/plain": [
       "1"
      ]
     },
     "execution_count": 5,
     "metadata": {},
     "output_type": "execute_result"
    }
   ],
   "source": [
    "1 & 1 "
   ]
  },
  {
   "cell_type": "code",
   "execution_count": 10,
   "metadata": {},
   "outputs": [
    {
     "name": "stdout",
     "output_type": "stream",
     "text": [
      "12\n",
      "<class 'int'>\n",
      "ini adalah nilai dari angka2 : -123123 , dan type datanya adalah : <class 'int'>\n"
     ]
    }
   ],
   "source": [
    "# Ada beberapa type data : \n",
    "# 1. Integer dan Desimal(Float)\n",
    "\n",
    "angka1 = 12\n",
    "\n",
    "print(angka1)\n",
    "print(type(angka1))\n",
    "\n",
    "angka2 = -123123\n",
    "print(f\"ini adalah nilai dari angka2 : {angka2} , dan type datanya adalah : {type(angka2)}\")\n"
   ]
  },
  {
   "cell_type": "code",
   "execution_count": 11,
   "metadata": {},
   "outputs": [
    {
     "name": "stdout",
     "output_type": "stream",
     "text": [
      "Ini nilai variablenya : 12    dan type datanya adalah : <class 'int'>\n"
     ]
    }
   ],
   "source": [
    "print(f\"Ini nilai variablenya : {angka1}    dan type datanya adalah : {type(angka1)}\")"
   ]
  },
  {
   "cell_type": "code",
   "execution_count": 12,
   "metadata": {},
   "outputs": [
    {
     "name": "stdout",
     "output_type": "stream",
     "text": [
      "Ini nilai variablenya : 222.5    dan type datanya adalah : <class 'float'>\n"
     ]
    }
   ],
   "source": [
    "#type data kedua float\n",
    "\n",
    "angka3 = 222.5\n",
    "\n",
    "print(f\"Ini nilai variablenya : {angka3}    dan type datanya adalah : {type(angka3)}\")"
   ]
  },
  {
   "cell_type": "code",
   "execution_count": 13,
   "metadata": {},
   "outputs": [
    {
     "name": "stdout",
     "output_type": "stream",
     "text": [
      "Ini nilai variablenya : A    dan type datanya adalah : <class 'str'>\n"
     ]
    }
   ],
   "source": [
    "text1 = \"A\"\n",
    "print(f\"Ini nilai variablenya : {text1}    dan type datanya adalah : {type(text1)}\")"
   ]
  },
  {
   "cell_type": "code",
   "execution_count": 14,
   "metadata": {},
   "outputs": [
    {
     "name": "stdout",
     "output_type": "stream",
     "text": [
      "Ini nilai variablenya : AYAM    dan type datanya adalah : <class 'str'>\n"
     ]
    }
   ],
   "source": [
    "text2 = \"AYAM\"\n",
    "print(f\"Ini nilai variablenya : {text2}    dan type datanya adalah : {type(text2)}\")"
   ]
  },
  {
   "cell_type": "code",
   "execution_count": 15,
   "metadata": {},
   "outputs": [
    {
     "name": "stdout",
     "output_type": "stream",
     "text": [
      "Ini nilai variablenya : Nama saya adalah hero    dan type datanya adalah : <class 'str'>\n"
     ]
    }
   ],
   "source": [
    "text3 = \"Nama saya adalah hero\"\n",
    "print(f\"Ini nilai variablenya : {text3}    dan type datanya adalah : {type(text3)}\")"
   ]
  },
  {
   "cell_type": "code",
   "execution_count": 17,
   "metadata": {},
   "outputs": [
    {
     "name": "stdout",
     "output_type": "stream",
     "text": [
      "ini adalah nilai dari angka2 : 16 , dan type datanya adalah : <class 'int'>\n",
      "ini adalah nilai dari angka2 : 8 , dan type datanya adalah : <class 'int'>\n",
      "ini adalah nilai dari angka2 : 48 , dan type datanya adalah : <class 'int'>\n",
      "ini adalah nilai dari angka2 : 3.0 , dan type datanya adalah : <class 'float'>\n"
     ]
    }
   ],
   "source": [
    "angka5 = 12\n",
    "angka4 = 4\n",
    "\n",
    "print(f\"ini adalah nilai dari angka2 : {angka5 + angka4} , dan type datanya adalah : {type(angka5 + angka4)}\")\n",
    "print(f\"ini adalah nilai dari angka2 : {angka5 - angka4} , dan type datanya adalah : {type(angka5 - angka4)}\")\n",
    "print(f\"ini adalah nilai dari angka2 : {angka5 * angka4} , dan type datanya adalah : {type(angka5 * angka4)}\")\n",
    "print(f\"ini adalah nilai dari angka2 : {angka5 / angka4} , dan type datanya adalah : {type(angka5 / angka4)}\")"
   ]
  },
  {
   "cell_type": "code",
   "execution_count": 19,
   "metadata": {},
   "outputs": [
    {
     "name": "stdout",
     "output_type": "stream",
     "text": [
      "ini adalah nilainya : True , dan type datanya adalah : <class 'bool'>\n"
     ]
    }
   ],
   "source": [
    "#Boolean\n",
    "\n",
    "\n",
    "isAbidHandsome = True\n",
    "print(f\"ini adalah nilainya : {isAbidHandsome} , dan type datanya adalah : {type(isAbidHandsome)}\")"
   ]
  },
  {
   "cell_type": "code",
   "execution_count": 20,
   "metadata": {},
   "outputs": [
    {
     "name": "stdout",
     "output_type": "stream",
     "text": [
      "ini adalah nilainya : False , dan type datanya adalah : <class 'bool'>\n"
     ]
    }
   ],
   "source": [
    "isgoToSchool = False\n",
    "print(f\"ini adalah nilainya : {isgoToSchool} , dan type datanya adalah : {type(isgoToSchool)}\")"
   ]
  },
  {
   "cell_type": "code",
   "execution_count": 23,
   "metadata": {},
   "outputs": [
    {
     "name": "stdout",
     "output_type": "stream",
     "text": [
      "ini adalah nilainya : 1 , dan type datanya adalah : <class 'int'>\n",
      "ini adalah nilainya : 1 , dan type datanya adalah : <class 'int'>\n",
      "ini adalah nilainya : 0 , dan type datanya adalah : <class 'int'>\n"
     ]
    }
   ],
   "source": [
    "print(f\"ini adalah nilainya : {isAbidHandsome + isgoToSchool} , dan type datanya adalah : {type(isAbidHandsome + isgoToSchool)}\")\n",
    "print(f\"ini adalah nilainya : {isAbidHandsome - isgoToSchool} , dan type datanya adalah : {type(isAbidHandsome - isgoToSchool)}\")\n",
    "print(f\"ini adalah nilainya : {isAbidHandsome * isgoToSchool} , dan type datanya adalah : {type(isAbidHandsome * isgoToSchool)}\")\n"
   ]
  },
  {
   "cell_type": "code",
   "execution_count": 1,
   "metadata": {},
   "outputs": [
    {
     "name": "stdout",
     "output_type": "stream",
     "text": [
      "[1, 2, 3, 4, 5]\n",
      "['Abid', 'Budi', 'Rei', 'Ryu']\n"
     ]
    }
   ],
   "source": [
    "#Type data gabungan\n",
    "\n",
    "# yang pertama ada list\n",
    "#ditandai dengan kurung siku\n",
    "\n",
    "listsaya = [1, 2, 3, 4, 5]\n",
    "listkedua = [\"Abid\", \"Budi\", 'Rei', \"Ryu\"]\n",
    "\n",
    "print(listsaya)\n",
    "print(listkedua)"
   ]
  },
  {
   "cell_type": "code",
   "execution_count": 2,
   "metadata": {},
   "outputs": [
    {
     "name": "stdout",
     "output_type": "stream",
     "text": [
      "(1, 2, 3, 4, 5, 6)\n",
      "('ayam', 'bebek', 'angsa', 'burung', 'kuda')\n"
     ]
    }
   ],
   "source": [
    "#kedua, ada TUPLE\n",
    "#Mirip dengan list, tapi menggunakan kurung biasa \"()\"\n",
    "\n",
    "tuplesaya = (1, 2, 3, 4, 5, 6)\n",
    "tupledia= (\"ayam\", \"bebek\", \"angsa\", \"burung\", \"kuda\")\n",
    "\n",
    "print(tuplesaya)\n",
    "print(tupledia)"
   ]
  },
  {
   "cell_type": "code",
   "execution_count": 3,
   "metadata": {},
   "outputs": [
    {
     "name": "stdout",
     "output_type": "stream",
     "text": [
      "{'Student1': 'Abid', 'Student2': 'Ryu', 'Student3': 'Rei'}\n"
     ]
    }
   ],
   "source": [
    "#DICTIONARY (bukan kamus)\n",
    "#menggunakan kurung kurawal '{}'\n",
    "\n",
    "dict1 = {\"Student1\" : \"Abid\", \"Student2\" : \"Ryu\", \"Student3\" : \"Rei\"}\n",
    "\n",
    "print(dict1)"
   ]
  },
  {
   "cell_type": "code",
   "execution_count": null,
   "metadata": {},
   "outputs": [],
   "source": [
    "#bikin dictionary isinya tipe data python\n",
    "\n",
    "type1 = {\"DataTyp1\" : 'Integer(Int)'}\n",
    "typedatagabungan = ...."
   ]
  },
  {
   "cell_type": "code",
   "execution_count": 2,
   "metadata": {},
   "outputs": [
    {
     "name": "stdout",
     "output_type": "stream",
     "text": [
      " tipe data angka1 adalah <class 'int'>\n"
     ]
    }
   ],
   "source": [
    "angka1 = 12\n",
    "angka2 = 22\n",
    "\n",
    "text1 = \"Abid\"\n",
    "text2 = \"Sekolah\"\n",
    "text3 = \"True\"\n",
    "text4 = \"False\" \n",
    "\n",
    "\n",
    "\n",
    "print(f' tipe data angka1 adalah { type(angka1)}')"
   ]
  },
  {
   "cell_type": "code",
   "execution_count": 9,
   "metadata": {},
   "outputs": [
    {
     "name": "stdout",
     "output_type": "stream",
     "text": [
      " tipe data angkabaru1 adalah <class 'str'>\n",
      " tipe data angkabaru1 adalah <class 'str'>\n"
     ]
    }
   ],
   "source": [
    "angkabaru1 = str(angka1)\n",
    "angkabaru2 = str(angka2)\n",
    "\n",
    "print(f' tipe data angkabaru1 adalah { type(angkabaru1)}')\n",
    "print(f' tipe data angkabaru1 adalah { type(angkabaru2)}')\n",
    "\n"
   ]
  },
  {
   "cell_type": "code",
   "execution_count": 11,
   "metadata": {},
   "outputs": [
    {
     "name": "stdout",
     "output_type": "stream",
     "text": [
      "24\n",
      "1212\n",
      " Hasil penjumlahan dari dua int adalah <class 'int'>\n",
      " Hasil penjumlahan dari dua str adalah <class 'str'>\n"
     ]
    }
   ],
   "source": [
    "print(angka1 + angka1)\n",
    "print(angkabaru1 + angkabaru1)\n",
    "\n",
    "\n",
    "print(f\"Hasil penjumlahan dari dua int adalah { type(angka1 + angka2) }\")\n",
    "print(f\"Hasil penjumlahan dari dua str adalah { type(angkabaru1 + angkabaru2) }\")\n"
   ]
  },
  {
   "cell_type": "code",
   "execution_count": 14,
   "metadata": {},
   "outputs": [
    {
     "name": "stdout",
     "output_type": "stream",
     "text": [
      "24\n"
     ]
    }
   ],
   "source": [
    "print(angka1 + int(angkabaru1))"
   ]
  },
  {
   "cell_type": "code",
   "execution_count": 17,
   "metadata": {},
   "outputs": [
    {
     "name": "stdout",
     "output_type": "stream",
     "text": [
      " tipe data text1 adalah <class 'str'>\n",
      " tipe data text1 adalah <class 'str'>\n",
      " tipe data text1 adalah <class 'str'>\n",
      " tipe data text1 adalah <class 'str'>\n",
      " tipe data True adalah <class 'bool'>\n",
      " tipe data True adalah <class 'bool'>\n",
      " tipe data True adalah <class 'bool'>\n",
      " tipe data True adalah <class 'bool'>\n"
     ]
    }
   ],
   "source": [
    "text1 = \"Abid\"\n",
    "text2 = \"Sekolah\"\n",
    "text3 = \"True\"\n",
    "text4 = \"False\" \n",
    "\n",
    "print(f' tipe data text1 adalah { type(text1)}')\n",
    "print(f' tipe data text1 adalah { type(text2)}')\n",
    "print(f' tipe data text1 adalah { type(text3)}')\n",
    "print(f' tipe data text1 adalah { type(text4)}')\n",
    "\n",
    "textbaru1 = bool(text1)\n",
    "textbaru2 = bool(text2)\n",
    "textbaru3 = bool(text3)\n",
    "textbaru4 = bool(text4)\n",
    "\n",
    "print(f' tipe data {textbaru1} adalah { type(textbaru1)}')\n",
    "print(f' tipe data {textbaru2} adalah { type(textbaru2)}')\n",
    "print(f' tipe data {textbaru3} adalah { type(textbaru3)}')\n",
    "print(f' tipe data {textbaru4} adalah { type(textbaru4)}')"
   ]
  },
  {
   "cell_type": "code",
   "execution_count": 21,
   "metadata": {},
   "outputs": [
    {
     "name": "stdout",
     "output_type": "stream",
     "text": [
      " tipe data boolean1 adalah <class 'bool'>\n",
      " tipe data boolean2 adalah <class 'bool'>\n",
      " tipe data booleanbaru1 adalah <class 'int'>\n",
      " tipe data booleanbaru2 adalah <class 'int'>\n",
      "1\n",
      "0\n"
     ]
    }
   ],
   "source": [
    "boolean1 = True\n",
    "boolean2 = False\n",
    "\n",
    "\n",
    "print(f' tipe data boolean1 adalah { type(boolean1)}')\n",
    "print(f' tipe data boolean2 adalah { type(boolean2)}')\n",
    "\n",
    "\n",
    "\n",
    "booleanbaru1 = int(True)\n",
    "booleanbaru2 = int(False)\n",
    "\n",
    "\n",
    "print(f' tipe data booleanbaru1 adalah { type(booleanbaru1)}')\n",
    "print(f' tipe data booleanbaru2 adalah { type(booleanbaru2)}')\n",
    "\n",
    "print(booleanbaru1)\n",
    "print(booleanbaru2)"
   ]
  },
  {
   "cell_type": "code",
   "execution_count": 1,
   "metadata": {},
   "outputs": [
    {
     "name": "stdout",
     "output_type": "stream",
     "text": [
      "Nama saya :  ABid umur saya 15\n"
     ]
    }
   ],
   "source": [
    "#cara cara untuk print\n",
    "\n",
    "\n",
    "nama = 'ABid'\n",
    "umur = 15\n",
    "\n",
    "print(\"Nama saya : \", nama, \"umur saya\", umur)"
   ]
  },
  {
   "cell_type": "code",
   "execution_count": 5,
   "metadata": {},
   "outputs": [
    {
     "name": "stdout",
     "output_type": "stream",
     "text": [
      "Nama saya ABidumur saya :  15\n"
     ]
    }
   ],
   "source": [
    "#pakai tambah\n",
    "print(\"Nama saya \" + nama + \"umur saya :  \" + str(umur))"
   ]
  },
  {
   "cell_type": "code",
   "execution_count": 13,
   "metadata": {},
   "outputs": [
    {
     "name": "stdout",
     "output_type": "stream",
     "text": [
      "Nama saya ABid, umur saya : 15\n"
     ]
    }
   ],
   "source": [
    "# menggunakan f function\n",
    "\n",
    "print(f\"Nama saya {nama}, umur saya : {umur}\")"
   ]
  },
  {
   "cell_type": "code",
   "execution_count": 18,
   "metadata": {},
   "outputs": [
    {
     "name": "stdout",
     "output_type": "stream",
     "text": [
      "Nama saya ABid, umur saya 15\n"
     ]
    }
   ],
   "source": [
    "# mnggunakan \"format\"\n",
    "\n",
    "\n",
    "print(\"Nama saya {}, umur saya {}\".format(nama, umur))"
   ]
  },
  {
   "cell_type": "code",
   "execution_count": 19,
   "metadata": {},
   "outputs": [
    {
     "name": "stdout",
     "output_type": "stream",
     "text": [
      "36\n",
      "AbidAbidAbid\n",
      "60\n",
      "ayamayamayam\n"
     ]
    }
   ],
   "source": [
    "#Repetition \n",
    "\n",
    "num = 12\n",
    "text = \"Abid\"\n",
    "\n",
    "\n",
    "#yang pakai variable\n",
    "print(num * 3)\n",
    "print(text * 3)\n",
    "\n",
    "\n",
    "# yang tidak pakai variable\n",
    "print(15 * 4)\n",
    "print(\"ayam\" * 3)"
   ]
  },
  {
   "cell_type": "code",
   "execution_count": 25,
   "metadata": {},
   "outputs": [
    {
     "name": "stdout",
     "output_type": "stream",
     "text": [
      "Omaewa\n",
      "mou \n"
     ]
    }
   ],
   "source": [
    "# slicing text\n",
    "\n",
    "\n",
    "text_panjang = \"Omaewa mou shin deiru\"\n",
    "\n",
    "print(text_panjang[0:6])\n",
    "print(text_panjang[7:11])"
   ]
  },
  {
   "cell_type": "code",
   "execution_count": 34,
   "metadata": {},
   "outputs": [
    {
     "name": "stdout",
     "output_type": "stream",
     "text": [
      "True\n",
      "True\n",
      "True\n",
      "False\n"
     ]
    }
   ],
   "source": [
    "# membership\n",
    "\n",
    "\n",
    "#d di string\n",
    "mytext = \"I love Brightchamps\"\n",
    "\n",
    "print(\"I\" in mytext)\n",
    "print(\"love\" in mytext)\n",
    "\n",
    "\n",
    "\n",
    "\n",
    "# di list dan tuple\n",
    "mylist = ['ayam', 'B', \"bagas\", 'c']\n",
    "\n",
    "print('B' in mylist)\n",
    "print('AYAM' in mylist)"
   ]
  },
  {
   "cell_type": "code",
   "execution_count": 39,
   "metadata": {},
   "outputs": [
    {
     "name": "stdout",
     "output_type": "stream",
     "text": [
      "Kamu sudah boleh buat sim\n"
     ]
    }
   ],
   "source": [
    "umur = 123\n",
    "\n",
    "\n",
    "\n",
    "\n",
    "if umur > 17:\n",
    "    print(\"Kamu sudah boleh buat sim\")\n",
    "else:\n",
    "    print(\"Masih kecil kamu iki\")\n"
   ]
  },
  {
   "cell_type": "code",
   "execution_count": 8,
   "metadata": {},
   "outputs": [
    {
     "name": "stdout",
     "output_type": "stream",
     "text": [
      "Masih kecil kamu iki\n"
     ]
    }
   ],
   "source": [
    "umur = int(input(\"masukkan umurmu \"))\n",
    "\n",
    "\n",
    "if umur >= 17:\n",
    "    print(\"Kamu sudah boleh buat sim\")\n",
    "elif umur == 16 :\n",
    "    print(\"Satu tahun lagi deq, sabar ya\")\n",
    "elif umur == 15:\n",
    "    print(\"dua tahun lagi deqs, sabar ya\")\n",
    "else:\n",
    "    print(\"Masih kecil kamu iki\")\n"
   ]
  },
  {
   "cell_type": "code",
   "execution_count": null,
   "metadata": {},
   "outputs": [],
   "source": [
    "mathscore = int(input(\"insert your math score : \"))\n",
    "\n",
    "\n",
    "\n",
    "\n",
    "# > 80 lulus\n",
    "#  70 - 80 lulus bersyarat\n",
    "#  50 - 70 remedial (ulang)\n",
    "#else tidak lulus"
   ]
  },
  {
   "cell_type": "code",
   "execution_count": 13,
   "metadata": {},
   "outputs": [
    {
     "name": "stdout",
     "output_type": "stream",
     "text": [
      "## Penjumlahan ##\n",
      "16\n",
      "16\n",
      "16\n",
      "## pengurangan ##\n",
      "8\n",
      "8\n",
      "8\n",
      "## pPerpangkatan ##\n",
      "20736\n",
      "20736\n",
      "20736\n",
      "## sisa(modulus) ##\n",
      "0\n",
      "0\n",
      "0\n"
     ]
    }
   ],
   "source": [
    "# Lesson 8 (Operator to the rescue 1)\n",
    "\n",
    "# Arithmatics Operation\n",
    "\n",
    "angka1 = 12\n",
    "angka2 = 4\n",
    "\n",
    "\n",
    "print(\"## Penjumlahan ##\")\n",
    "print(angka1 + angka2)      # variable dengan variable\n",
    "print(12 + 4)               # angka dengan angka\n",
    "print(angka1 + 4)           # variable dengan angka\n",
    "\n",
    "\n",
    "print(\"## pengurangan ##\")\n",
    "print(angka1 - angka2)      # variable dengan variable\n",
    "print(12 - 4)               # angka dengan angka\n",
    "print(angka1 - 4)           # variable dengan angka\n",
    "\n",
    "\n",
    "print(\"## pPerpangkatan ##\")\n",
    "print(angka1 ** angka2)      # variable dengan variable\n",
    "print(12** 4)               # angka dengan angka\n",
    "print(angka1 ** 4)           # variable dengan angka\n",
    "\n",
    "\n",
    "\n",
    "\n",
    "print(\"## sisa(modulus) ##\")\n",
    "print(angka1 % angka2)      # variable dengan variable\n",
    "print(12 % 4)               # angka dengan angka\n",
    "print(angka1 % 4)           # variable dengan angka\n"
   ]
  },
  {
   "cell_type": "code",
   "execution_count": 25,
   "metadata": {},
   "outputs": [
    {
     "name": "stdout",
     "output_type": "stream",
     "text": [
      "### More than(>) ###\n",
      "True\n",
      "False\n",
      "True\n",
      "True\n"
     ]
    }
   ],
   "source": [
    "# Comparison Operator\n",
    "\n",
    "angka1 = 12\n",
    "angka2 = 4\n",
    "\n",
    "string1 = 'A'\n",
    "string2 = 'B'\n",
    "\n",
    "boolean1 = True\n",
    "boolean2 = False\n",
    "\n",
    "\n",
    "\n",
    "print(\"### More than(>) ###\")\n",
    "print(angka1 > angka2)       # angka dengan angka\n",
    "print(string1 > string2)    #string dengan string\n",
    "print(boolean1 > boolean2)   # boolean dengan boolean\n",
    "\n",
    "\n",
    "# print(angka1 > string1)   #tidak bisa, tandai dengan tanda # didepan\n",
    "print(angka1 > boolean1)   # angka dengan boolean\n",
    "# print(string1 > boolean1)   # tidak bisa, (string dan boolean)\n",
    "\n",
    "\n"
   ]
  },
  {
   "cell_type": "code",
   "execution_count": 10,
   "metadata": {},
   "outputs": [
    {
     "name": "stdout",
     "output_type": "stream",
     "text": [
      "True\n",
      "False\n",
      "True\n",
      "False\n",
      "True\n",
      "False\n",
      "False\n",
      "False\n",
      "False\n"
     ]
    }
   ],
   "source": [
    "angka1 = 12\n",
    "angka2 = 4\n",
    "\n",
    "string1 = 'A'\n",
    "string2 = 'B'\n",
    "\n",
    "boolean1 = True\n",
    "boolean2 = False\n",
    "\n",
    "\n",
    "\n",
    "print(angka1 == angka1)               # == membandingkan dua object\n",
    "print(angka1 == angka2)\n",
    "\n",
    "print(string1 == string1)               # == membandingkan dua object\n",
    "print(string1 == string2)\n",
    "\n",
    "print(boolean1 == boolean1)               # == membandingkan dua object\n",
    "print(boolean1 == boolean2)\n",
    "\n",
    "\n",
    "print(string1 == angka1)\n",
    "print(angka1 == boolean1)\n",
    "print(string1 == boolean1)"
   ]
  },
  {
   "cell_type": "code",
   "execution_count": 11,
   "metadata": {},
   "outputs": [
    {
     "name": "stdout",
     "output_type": "stream",
     "text": [
      "False\n",
      "True\n",
      "False\n",
      "True\n",
      "False\n",
      "True\n",
      "True\n",
      "True\n",
      "True\n"
     ]
    }
   ],
   "source": [
    "angka1 = 12\n",
    "angka2 = 4\n",
    "\n",
    "string1 = 'A'\n",
    "string2 = 'B'\n",
    "\n",
    "boolean1 = True\n",
    "boolean2 = False\n",
    "\n",
    "\n",
    "\n",
    "print(angka1 !=  angka1)               # == membandingkan dua object\n",
    "print(angka1 !=  angka2)\n",
    "\n",
    "print(string1 !=  string1)               # == membandingkan dua object\n",
    "print(string1 !=  string2)\n",
    "\n",
    "print(boolean1 !=  boolean1)               # == membandingkan dua object\n",
    "print(boolean1 !=  boolean2)\n",
    "\n",
    "\n",
    "print(string1 !=  angka1)\n",
    "print(angka1 !=  boolean1)\n",
    "print(string1 !=  boolean1)"
   ]
  },
  {
   "cell_type": "markdown",
   "metadata": {},
   "source": [
    "# Comparison Operator itu bisa membandingkan apa saja ?\n",
    "\n",
    "\n",
    "String dan String\n",
    "\n",
    "Number dengan Number\n",
    "\n",
    "Boolean dengan Boolean\n",
    "\n",
    "Float dan Float\n",
    "\n",
    "\n",
    "\n",
    "atau pun kombinasi dari beberapa tipe data diatas\n",
    "\n",
    "\n",
    "\n",
    "outputnya >  SELALU BOOLEAN"
   ]
  },
  {
   "cell_type": "code",
   "execution_count": 17,
   "metadata": {},
   "outputs": [
    {
     "name": "stdout",
     "output_type": "stream",
     "text": [
      "AND #####################################\n",
      "True\n",
      "False\n",
      "False\n",
      "False\n"
     ]
    }
   ],
   "source": [
    "# Logical Operator\n",
    "\n",
    "# membandingkan dua Boolean\n",
    "\n",
    "\n",
    "# and, or, not\n",
    "\n",
    "\n",
    "# AND\n",
    "\n",
    "\n",
    "#APAKAH KAMU AKAN PERGI PIKNIK\n",
    "print(\"AND #####################################\")\n",
    "isFriendAvailable = True\n",
    "isWeatherGood = True\n",
    "print(isFriendAvailable and isWeatherGood)\n",
    "\n",
    "isFriendAvailable = False\n",
    "isWeatherGood = False\n",
    "print(isFriendAvailable and isWeatherGood)\n",
    "\n",
    "isFriendAvailable = True\n",
    "isWeatherGood = False\n",
    "print(isFriendAvailable and isWeatherGood)\n",
    "\n",
    "isFriendAvailable = False\n",
    "isWeatherGood = True\n",
    "print(isFriendAvailable and isWeatherGood)\n",
    "\n",
    "\n",
    "\n",
    "\n"
   ]
  },
  {
   "cell_type": "code",
   "execution_count": 19,
   "metadata": {},
   "outputs": [
    {
     "name": "stdout",
     "output_type": "stream",
     "text": [
      "OR\n",
      "True\n",
      "False\n",
      "True\n",
      "True\n"
     ]
    }
   ],
   "source": [
    "# CERITANYA, mas mau jalan jalan, kalau ada uang ATAU cuacanya cerah\n",
    "\n",
    "\n",
    "print(\"OR\")\n",
    "isWeatherGood = True\n",
    "AmIHaveMoney = True\n",
    "print(isWeatherGood or AmIHaveMoney)\n",
    "\n",
    "isWeatherGood = False\n",
    "AmIHaveMoney = False\n",
    "print(isWeatherGood or AmIHaveMoney)\n",
    "\n",
    "isWeatherGood = True\n",
    "AmIHaveMoney = False\n",
    "print(isWeatherGood or AmIHaveMoney)\n",
    "#gapaplah, jalan jalan yang deket aja\n",
    "\n",
    "\n",
    "isWeatherGood = False\n",
    "AmIHaveMoney = True\n",
    "print(isWeatherGood or AmIHaveMoney)\n",
    "\n",
    "\n"
   ]
  },
  {
   "cell_type": "code",
   "execution_count": 5,
   "metadata": {},
   "outputs": [
    {
     "name": "stdout",
     "output_type": "stream",
     "text": [
      "12\n",
      "22\n"
     ]
    }
   ],
   "source": [
    "# ASSIGNMENT OPERATOR\n",
    "\n",
    "angka1 = 12\n",
    "print(angka1)\n",
    "\n",
    "# angka1 = angka1 + 10\n",
    "angka1 += 10\n",
    "print(angka1)"
   ]
  },
  {
   "cell_type": "code",
   "execution_count": 6,
   "metadata": {},
   "outputs": [
    {
     "name": "stdout",
     "output_type": "stream",
     "text": [
      "12\n",
      "2\n"
     ]
    }
   ],
   "source": [
    "angka1 = 12\n",
    "print(angka1)\n",
    "\n",
    "# angka1 = angka1 - 10\n",
    "angka1 -= 10\n",
    "print(angka1)"
   ]
  },
  {
   "cell_type": "code",
   "execution_count": 7,
   "metadata": {},
   "outputs": [
    {
     "data": {
      "text/plain": [
       "8"
      ]
     },
     "execution_count": 7,
     "metadata": {},
     "output_type": "execute_result"
    }
   ],
   "source": [
    "9 & 10"
   ]
  },
  {
   "cell_type": "code",
   "execution_count": 8,
   "metadata": {},
   "outputs": [
    {
     "data": {
      "text/plain": [
       "11"
      ]
     },
     "execution_count": 8,
     "metadata": {},
     "output_type": "execute_result"
    }
   ],
   "source": [
    "9 | 10"
   ]
  },
  {
   "cell_type": "code",
   "execution_count": null,
   "metadata": {},
   "outputs": [],
   "source": [
    "9 = 1001\n",
    "10 = 1010\n",
    "\n",
    "\n",
    "1001\n",
    "1010\n",
    "\n",
    "\n"
   ]
  },
  {
   "cell_type": "code",
   "execution_count": 10,
   "metadata": {},
   "outputs": [
    {
     "name": "stdout",
     "output_type": "stream",
     "text": [
      "8\n",
      "11\n"
     ]
    }
   ],
   "source": [
    "angka1 = 9\n",
    "angka2 = 10\n",
    "\n",
    "print(angka1 & angka2)\n",
    "print(angka1 | angka2)"
   ]
  },
  {
   "cell_type": "code",
   "execution_count": 15,
   "metadata": {},
   "outputs": [
    {
     "name": "stdout",
     "output_type": "stream",
     "text": [
      "True\n",
      "True\n",
      "False\n",
      "False\n"
     ]
    }
   ],
   "source": [
    "# Identity Operator\n",
    "\n",
    "a = 12\n",
    "b = 12\n",
    "c = 33\n",
    "d = \"AAAA\"\n",
    "\n",
    "print(a is b)\n",
    "print(a is a)\n",
    "print(a is c)\n",
    "print(a is d)"
   ]
  },
  {
   "cell_type": "code",
   "execution_count": 19,
   "metadata": {},
   "outputs": [
    {
     "name": "stdout",
     "output_type": "stream",
     "text": [
      "True\n",
      "False\n",
      "False\n",
      "True\n"
     ]
    }
   ],
   "source": [
    "# membership operator\n",
    "# bikin list dulu\n",
    "\n",
    "mylist = [1, 2, 3, 4, 5]\n",
    "\n",
    "print(2 in mylist)\n",
    "print(99 in mylist)\n",
    "\n",
    "print(2 not in mylist)\n",
    "print(99 not in mylist)"
   ]
  },
  {
   "cell_type": "code",
   "execution_count": 22,
   "metadata": {},
   "outputs": [
    {
     "name": "stdout",
     "output_type": "stream",
     "text": [
      "True\n",
      "False\n"
     ]
    }
   ],
   "source": [
    "# bisa juga pakai dictionary\n",
    "mydict = {'siswa1' : 'Ryu',\n",
    "          'siswa2' : 'Rei',\n",
    "          'siswa3' : 'Abid'}\n",
    "\n",
    "\n",
    "print('siswa1' in mydict)\n",
    "print('Ryu' in mydict)"
   ]
  },
  {
   "cell_type": "code",
   "execution_count": 9,
   "metadata": {},
   "outputs": [
    {
     "name": "stdout",
     "output_type": "stream",
     "text": [
      "sorry, your input is not valid\n"
     ]
    }
   ],
   "source": [
    "operation = input(\"what operation would you operate? \")\n",
    "num1 = int(input(\"input the first number\"))\n",
    "num2 = int(input(\"input the second number\"))\n",
    "\n",
    "\n",
    "if operation == 'Addition':\n",
    "    print( f'{num1} + {num2} = {num1 + num2}')\n",
    "elif operation == 'Substraction':              # subtraction # subztraction # sobstraction #subs #\n",
    "    print( f'{num1} - {num2} = {num1 - num2}')\n",
    "else:\n",
    "    print(\"sorry, your input is not valid\")"
   ]
  },
  {
   "cell_type": "code",
   "execution_count": 15,
   "metadata": {},
   "outputs": [
    {
     "name": "stdout",
     "output_type": "stream",
     "text": [
      "This is application to see your age\n",
      "do you appropriate in the road?\n",
      "you are not appropriate in the read\n",
      "do you have sim?\n",
      "I dont thnk you have driving license since you are below 17\n",
      "thankyou for confirming\n"
     ]
    }
   ],
   "source": [
    "age = int(input(\"Please insert your age here\"))\n",
    "\n",
    "\n",
    "print(\"This is application to see your age\")\n",
    "\n",
    "print(\"do you appropriate in the road?\")\n",
    "\n",
    "if age > 17:\n",
    "    print(\"you are appropriate in the road\")\n",
    "else:\n",
    "    print(\"you are not appropriate in the read\")\n",
    "\n",
    "\n",
    "print(\"do you have sim?\")\n",
    "if age >= 17:\n",
    "    print(\"it seems you have driving license since you are above 17\")\n",
    "else :\n",
    "    print(\"I dont thnk you have driving license since you are below 17\")\n",
    "\n",
    "\n",
    "print(\"thankyou for confirming\")"
   ]
  },
  {
   "cell_type": "code",
   "execution_count": null,
   "metadata": {},
   "outputs": [],
   "source": []
  }
 ],
 "metadata": {
  "kernelspec": {
   "display_name": "Python 3",
   "language": "python",
   "name": "python3"
  },
  "language_info": {
   "codemirror_mode": {
    "name": "ipython",
    "version": 3
   },
   "file_extension": ".py",
   "mimetype": "text/x-python",
   "name": "python",
   "nbconvert_exporter": "python",
   "pygments_lexer": "ipython3",
   "version": "3.12.3"
  }
 },
 "nbformat": 4,
 "nbformat_minor": 2
}
