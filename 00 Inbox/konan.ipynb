{
 "cells": [
  {
   "cell_type": "code",
   "execution_count": 1,
   "metadata": {},
   "outputs": [
    {
     "name": "stdout",
     "output_type": "stream",
     "text": [
      "Abid\n"
     ]
    }
   ],
   "source": [
    "print(\"Abid\")"
   ]
  },
  {
   "cell_type": "code",
   "execution_count": 5,
   "metadata": {},
   "outputs": [
    {
     "name": "stdout",
     "output_type": "stream",
     "text": [
      "BC\n"
     ]
    }
   ],
   "source": [
    "print(chr(66) + chr(67))"
   ]
  },
  {
   "cell_type": "code",
   "execution_count": 6,
   "metadata": {},
   "outputs": [
    {
     "data": {
      "text/plain": [
       "'a'"
      ]
     },
     "execution_count": 6,
     "metadata": {},
     "output_type": "execute_result"
    }
   ],
   "source": [
    "chr(97)"
   ]
  },
  {
   "cell_type": "code",
   "execution_count": 8,
   "metadata": {},
   "outputs": [
    {
     "name": "stdout",
     "output_type": "stream",
     "text": [
      "A\n",
      "B\n",
      "C\n",
      "D\n",
      "E\n",
      "F\n",
      "G\n",
      "H\n",
      "I\n",
      "J\n",
      "K\n",
      "L\n",
      "M\n",
      "N\n",
      "O\n",
      "P\n",
      "Q\n",
      "R\n",
      "S\n",
      "T\n",
      "U\n",
      "V\n",
      "W\n",
      "X\n",
      "Y\n",
      "Z\n"
     ]
    }
   ],
   "source": [
    "for i in range(26):\n",
    "    print(chr(i+65))"
   ]
  },
  {
   "cell_type": "code",
   "execution_count": 12,
   "metadata": {},
   "outputs": [
    {
     "name": "stdout",
     "output_type": "stream",
     "text": [
      "This is line 1  This is Second Line\n"
     ]
    }
   ],
   "source": [
    "print(\"This is line 1 \", end=\" \")\n",
    "print(\"This is Second Line\")"
   ]
  },
  {
   "cell_type": "code",
   "execution_count": 19,
   "metadata": {},
   "outputs": [
    {
     "name": "stdout",
     "output_type": "stream",
     "text": [
      "A \n",
      "A B \n",
      "A B C \n"
     ]
    }
   ],
   "source": [
    "for i in range(1):\n",
    "    print(chr(i+65), end = ' ')\n",
    "print('')\n",
    "\n",
    "for i in range(2):\n",
    "    print(chr(i+65), end = ' ')\n",
    "print('')\n",
    "\n",
    "for i in range(3):\n",
    "    print(chr(i+65), end = ' ')\n",
    "print('')\n"
   ]
  },
  {
   "cell_type": "code",
   "execution_count": 25,
   "metadata": {},
   "outputs": [
    {
     "name": "stdout",
     "output_type": "stream",
     "text": [
      "A \n",
      "A B \n",
      "A B C \n",
      "A B C D \n",
      "A B C D E \n",
      "A B C D E F \n",
      "A B C D E F G \n",
      "A B C D E F G H \n",
      "A B C D E F G H I \n",
      "A B C D E F G H I J \n"
     ]
    }
   ],
   "source": [
    "for j in range(10):\n",
    "    for i in range(1+j):\n",
    "        print(chr(i+65), end = ' ')\n",
    "    print('')"
   ]
  },
  {
   "cell_type": "code",
   "execution_count": 28,
   "metadata": {},
   "outputs": [
    {
     "name": "stdout",
     "output_type": "stream",
     "text": [
      "A \n",
      "B C \n",
      "D E F \n",
      "G H I J \n",
      "K L M N O \n",
      "P Q R S T U \n",
      "V W X Y Z [ \\ \n",
      "] ^ _ ` a b c d \n",
      "e f g h i j k l m \n",
      "n o p q r s t u v w \n"
     ]
    }
   ],
   "source": [
    "letter = 65\n",
    "\n",
    "for j in range(10):\n",
    "    for i in range(1+j):\n",
    "        print(chr(letter), end = ' ')\n",
    "        letter += 1\n",
    "    print('')"
   ]
  },
  {
   "cell_type": "code",
   "execution_count": 5,
   "metadata": {},
   "outputs": [
    {
     "name": "stdout",
     "output_type": "stream",
     "text": [
      "Rabu\n"
     ]
    }
   ],
   "source": [
    "hari = 3\n",
    "\n",
    "\n",
    "if hari == 1:\n",
    "    print('senin')\n",
    "elif hari == 2:\n",
    "    print('selasa')\n",
    "elif hari == 3:\n",
    "    print( \"Rabu\")"
   ]
  },
  {
   "cell_type": "code",
   "execution_count": 6,
   "metadata": {},
   "outputs": [],
   "source": [
    "mylist = ['a', 'b', 'c', 'd']"
   ]
  },
  {
   "cell_type": "code",
   "execution_count": 10,
   "metadata": {},
   "outputs": [],
   "source": [
    "var1 = mylist[0]\n",
    "var2 = mylist[1]"
   ]
  },
  {
   "cell_type": "code",
   "execution_count": 14,
   "metadata": {},
   "outputs": [],
   "source": [
    "var1, var2, var3, var4 = ['Asd', 'pkpk', 'mnmn', 'jghgh']"
   ]
  },
  {
   "cell_type": "code",
   "execution_count": 15,
   "metadata": {},
   "outputs": [
    {
     "data": {
      "text/plain": [
       "'jghgh'"
      ]
     },
     "execution_count": 15,
     "metadata": {},
     "output_type": "execute_result"
    }
   ],
   "source": [
    "var4"
   ]
  },
  {
   "cell_type": "code",
   "execution_count": 24,
   "metadata": {},
   "outputs": [
    {
     "data": {
      "text/plain": [
       "(9,)"
      ]
     },
     "execution_count": 24,
     "metadata": {},
     "output_type": "execute_result"
    }
   ],
   "source": [
    "import numpy as np\n",
    "\n",
    "\n",
    "myarr = np.array([1, 2, 3, 4, 5, 6, 7, 8, 9])\n",
    "myarr.shape"
   ]
  },
  {
   "cell_type": "code",
   "execution_count": 26,
   "metadata": {},
   "outputs": [
    {
     "data": {
      "text/plain": [
       "array([[1],\n",
       "       [2],\n",
       "       [3],\n",
       "       [4],\n",
       "       [5],\n",
       "       [6],\n",
       "       [7],\n",
       "       [8],\n",
       "       [9]])"
      ]
     },
     "execution_count": 26,
     "metadata": {},
     "output_type": "execute_result"
    }
   ],
   "source": [
    "myarr = myarr.reshape(9,1)\n",
    "\n",
    "myarr"
   ]
  },
  {
   "cell_type": "code",
   "execution_count": 20,
   "metadata": {},
   "outputs": [
    {
     "data": {
      "text/plain": [
       "array([[1, 2, 3],\n",
       "       [4, 5, 6],\n",
       "       [7, 8, 9]])"
      ]
     },
     "execution_count": 20,
     "metadata": {},
     "output_type": "execute_result"
    }
   ],
   "source": [
    "myarr.reshape(3, 3)"
   ]
  },
  {
   "cell_type": "code",
   "execution_count": 5,
   "metadata": {},
   "outputs": [
    {
     "name": "stdout",
     "output_type": "stream",
     "text": [
      "B\n",
      "rr\n",
      "iii\n",
      "gggg\n",
      "hhhhh\n",
      "tttttt\n",
      "ccccccc\n",
      "hhhhhhhh\n",
      "aaaaaaaaa\n",
      "mmmmmmmmmm\n",
      "ppppppppppp\n",
      "ssssssssssss\n"
     ]
    }
   ],
   "source": [
    "text = \"Brightchamps\"\n",
    "num = 1\n",
    "\n",
    "\n",
    "for letter in text:\n",
    "    print(letter * num)\n",
    "    num += 1"
   ]
  },
  {
   "cell_type": "code",
   "execution_count": 8,
   "metadata": {},
   "outputs": [
    {
     "name": "stdout",
     "output_type": "stream",
     "text": [
      "PP\n",
      "yy\n",
      "tt\n",
      "hh\n",
      "oo\n",
      "nn\n"
     ]
    }
   ],
   "source": [
    "for i in \"Python\":\n",
    "    print(i * 2)\n",
    "\n",
    "\n",
    "    # p\n",
    "    # y"
   ]
  },
  {
   "cell_type": "code",
   "execution_count": 9,
   "metadata": {},
   "outputs": [
    {
     "name": "stdout",
     "output_type": "stream",
     "text": [
      "0\n",
      "2\n",
      "4\n",
      "6\n",
      "8\n",
      "10\n",
      "12\n",
      "14\n",
      "16\n",
      "18\n"
     ]
    }
   ],
   "source": [
    "for i in range(10):\n",
    "    print(i * 2)"
   ]
  },
  {
   "cell_type": "code",
   "execution_count": 18,
   "metadata": {},
   "outputs": [
    {
     "name": "stdout",
     "output_type": "stream",
     "text": [
      "p 1\n",
      "yy 2\n",
      "ttt 3\n",
      "hhhh 4\n",
      "ooooo 5\n",
      "nnnnnn 6\n"
     ]
    }
   ],
   "source": [
    "counter = 1\n",
    "\n",
    "for i in 'python':\n",
    "    print(i * counter, end=' ')\n",
    "    print(counter)\n",
    "    counter = counter + 1"
   ]
  },
  {
   "cell_type": "code",
   "execution_count": 27,
   "metadata": {},
   "outputs": [
    {
     "name": "stdout",
     "output_type": "stream",
     "text": [
      "\n",
      "P\n",
      "Py\n",
      "Pyt\n",
      "Pyth\n",
      "Pytho\n",
      "Python\n"
     ]
    }
   ],
   "source": [
    "text = ''\n",
    "print(text)\n",
    "\n",
    "text = text + 'P'\n",
    "print(text)\n",
    "\n",
    "text = text + 'y'\n",
    "print(text)\n",
    "\n",
    "text = text + 't'\n",
    "print(text)\n",
    "\n",
    "text = text + 'h'\n",
    "print(text)\n",
    "\n",
    "text = text + 'o'\n",
    "print(text)\n",
    "\n",
    "text = text + 'n'\n",
    "print(text)"
   ]
  },
  {
   "cell_type": "code",
   "execution_count": 30,
   "metadata": {},
   "outputs": [
    {
     "name": "stdout",
     "output_type": "stream",
     "text": [
      "P\n",
      "Py\n",
      "Pyt\n",
      "Pyth\n",
      "Pytho\n",
      "Python\n"
     ]
    }
   ],
   "source": [
    "text = ''\n",
    "for i in \"Python\":    \n",
    "    text = text + i\n",
    "    print(text)\n"
   ]
  },
  {
   "cell_type": "code",
   "execution_count": 44,
   "metadata": {},
   "outputs": [
    {
     "name": "stdout",
     "output_type": "stream",
     "text": [
      "_______________________________________________________A \n",
      "_______________________________________________________A _______________________________________________________B \n",
      "_______________________________________________________A _______________________________________________________B _______________________________________________________C \n",
      "_______________________________________________________A _______________________________________________________B _______________________________________________________C _______________________________________________________D \n",
      "_______________________________________________________A _______________________________________________________B _______________________________________________________C _______________________________________________________D _______________________________________________________E \n",
      "_______________________________________________________A _______________________________________________________B _______________________________________________________C _______________________________________________________D _______________________________________________________E _______________________________________________________F \n",
      "_______________________________________________________A _______________________________________________________B _______________________________________________________C _______________________________________________________D _______________________________________________________E _______________________________________________________F _______________________________________________________G \n",
      "_______________________________________________________A _______________________________________________________B _______________________________________________________C _______________________________________________________D _______________________________________________________E _______________________________________________________F _______________________________________________________G _______________________________________________________H \n",
      "_______________________________________________________A _______________________________________________________B _______________________________________________________C _______________________________________________________D _______________________________________________________E _______________________________________________________F _______________________________________________________G _______________________________________________________H _______________________________________________________I \n",
      "_______________________________________________________A _______________________________________________________B _______________________________________________________C _______________________________________________________D _______________________________________________________E _______________________________________________________F _______________________________________________________G _______________________________________________________H _______________________________________________________I _______________________________________________________J \n"
     ]
    }
   ],
   "source": [
    "for j in range(10):\n",
    "\n",
    "\n",
    "    for i in range(1+j):\n",
    "        for k in range(10):\n",
    "            print('_' * (10 - k), end='')\n",
    "        print(chr(i+65), end = ' ')\n",
    "    print('')"
   ]
  },
  {
   "cell_type": "code",
   "execution_count": 56,
   "metadata": {},
   "outputs": [
    {
     "name": "stdout",
     "output_type": "stream",
     "text": [
      "**********\n",
      "*********\n",
      "********\n",
      "*******\n",
      "******\n",
      "*****\n",
      "****\n",
      "***\n",
      "**\n",
      "*\n"
     ]
    }
   ],
   "source": [
    "for i in range(10, 0, -1):\n",
    "    print('*' * i)\n",
    "    "
   ]
  },
  {
   "cell_type": "code",
   "execution_count": null,
   "metadata": {},
   "outputs": [],
   "source": []
  }
 ],
 "metadata": {
  "kernelspec": {
   "display_name": "Python 3",
   "language": "python",
   "name": "python3"
  },
  "language_info": {
   "codemirror_mode": {
    "name": "ipython",
    "version": 3
   },
   "file_extension": ".py",
   "mimetype": "text/x-python",
   "name": "python",
   "nbconvert_exporter": "python",
   "pygments_lexer": "ipython3",
   "version": "3.11.4"
  }
 },
 "nbformat": 4,
 "nbformat_minor": 2
}
