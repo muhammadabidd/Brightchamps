{
 "cells": [
  {
   "cell_type": "code",
   "execution_count": 6,
   "metadata": {},
   "outputs": [
    {
     "name": "stdout",
     "output_type": "stream",
     "text": [
      "   id  Name  Age         DOB Gender\n",
      "0   1     a   12  2024-07-04      M\n",
      "1   2  Abid   22  2024-07-11      M\n",
      "2   3     a   22  2024-07-05      M\n",
      "3   4  abid   22  2024-07-03      M\n",
      "4   5  Abid   12  2024-07-12      M\n",
      "5   6  Abid   12  2024-07-20      M\n"
     ]
    }
   ],
   "source": [
    "import pandas as pd\n",
    "import sqlite3\n",
    "\n",
    "\n",
    "conn = sqlite3.connect('students.sqlite3')\n",
    "\n",
    "\n",
    "query = \"SELECT * FROM sqlite_master WHERE type='table';\"\n",
    "query_table = \"SELECT * FROM students\"\n",
    "\n",
    "df = pd.read_sql_query(query_table, conn)\n",
    "\n",
    "cursor = conn.cursor()\n",
    "cursor.execute(query_table)\n",
    "\n",
    "\n",
    "tables = cursor.fetchall()\n",
    "\n",
    "\n",
    "print(df)\n",
    "conn.close()\n"
   ]
  },
  {
   "cell_type": "code",
   "execution_count": null,
   "metadata": {},
   "outputs": [],
   "source": []
  }
 ],
 "metadata": {
  "kernelspec": {
   "display_name": "Python 3",
   "language": "python",
   "name": "python3"
  },
  "language_info": {
   "codemirror_mode": {
    "name": "ipython",
    "version": 3
   },
   "file_extension": ".py",
   "mimetype": "text/x-python",
   "name": "python",
   "nbconvert_exporter": "python",
   "pygments_lexer": "ipython3",
   "version": "3.11.4"
  }
 },
 "nbformat": 4,
 "nbformat_minor": 2
}
