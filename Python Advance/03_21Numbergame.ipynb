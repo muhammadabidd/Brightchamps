{
 "cells": [
  {
   "cell_type": "code",
   "execution_count": 13,
   "metadata": {},
   "outputs": [
    {
     "name": "stdout",
     "output_type": "stream",
     "text": [
      "Lets play 21 number game !\n",
      "each player who reaches 21 first loses\n",
      "Each player can choose to count 1, 2, or 3 numbers in their turn.\n",
      "current number : 0\n",
      "current number : 1\n",
      "current number : 3\n",
      "Invalid input. Please enter 1, 2, or 3.\n",
      "current number : 4\n",
      "Invalid input. Please enter 1, 2, or 3.\n",
      "Invalid input. Please enter 1, 2, or 3.\n",
      "Invalid input. Please enter 1, 2, or 3.\n",
      "Invalid input. Please enter 1, 2, or 3.\n",
      "Invalid input. Please enter 1, 2, or 3.\n",
      "current number : 5\n",
      "current number : 7\n",
      "current number : 10\n",
      "current number : 13\n",
      "Invalid input. Please enter 1, 2, or 3.\n",
      "current number : 15\n",
      "current number : 17\n",
      "current number : 19\n",
      "Player 1 loses!\n"
     ]
    }
   ],
   "source": [
    "def play():\n",
    "    sum = 0\n",
    "    current_player = 1\n",
    "\n",
    "    \n",
    "    print(\"Lets play 21 number game !\")\n",
    "    print(\"each player who reaches 21 first loses\")\n",
    "    print(\"Each player can choose to count 1, 2, or 3 numbers in their turn.\")\n",
    "\n",
    "    while sum < 21:\n",
    "        print(f'current number : {sum}')\n",
    "\n",
    "\n",
    "        choice = user_turn(current_player)\n",
    "    \n",
    "        if  choice + sum >= 21:\n",
    "            print(f\"Player {current_player} loses!\")\n",
    "            break\n",
    "\n",
    "\n",
    "        sum += choice\n",
    "        current_player = 3 - current_player  \n",
    "\n",
    "\n",
    "\n",
    "def user_turn(player):\n",
    "    while True:\n",
    "        try:\n",
    "            choice =  int(input(f\"Player {player}, enter your choice (1, 2, or 3): \"))\n",
    "\n",
    "            if choice >= 1 and choice <= 3:\n",
    "                return choice\n",
    "            else :\n",
    "                print(\"Invalid input. Please enter 1, 2, or 3.\")\n",
    "        except TypeError:\n",
    "            print(\"Invalid input. Please enter a valid number.\")\n",
    "\n",
    "play()"
   ]
  },
  {
   "cell_type": "code",
   "execution_count": 8,
   "metadata": {},
   "outputs": [
    {
     "name": "stdout",
     "output_type": "stream",
     "text": [
      "2\n",
      "1\n",
      "2\n",
      "1\n",
      "2\n"
     ]
    }
   ],
   "source": [
    "current_val = 1\n",
    "\n",
    "current_val = 3 - current_val\n",
    "print(current_val)\n",
    "\n",
    "current_val = 3 - current_val\n",
    "print(current_val)\n",
    "\n",
    "current_val = 3 - current_val\n",
    "print(current_val)\n",
    "\n",
    "current_val = 3 - current_val\n",
    "print(current_val)\n",
    "\n",
    "current_val = 3 - current_val\n",
    "print(current_val)"
   ]
  },
  {
   "cell_type": "code",
   "execution_count": null,
   "metadata": {},
   "outputs": [],
   "source": []
  }
 ],
 "metadata": {
  "kernelspec": {
   "display_name": "Python 3",
   "language": "python",
   "name": "python3"
  },
  "language_info": {
   "codemirror_mode": {
    "name": "ipython",
    "version": 3
   },
   "file_extension": ".py",
   "mimetype": "text/x-python",
   "name": "python",
   "nbconvert_exporter": "python",
   "pygments_lexer": "ipython3",
   "version": "3.11.4"
  }
 },
 "nbformat": 4,
 "nbformat_minor": 2
}
