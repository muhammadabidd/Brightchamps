{
 "cells": [
  {
   "cell_type": "code",
   "execution_count": 2,
   "metadata": {},
   "outputs": [
    {
     "name": "stdout",
     "output_type": "stream",
     "text": [
      "test\n"
     ]
    }
   ],
   "source": [
    "print(\"test\")"
   ]
  },
  {
   "cell_type": "code",
   "execution_count": 2,
   "metadata": {},
   "outputs": [
    {
     "name": "stdout",
     "output_type": "stream",
     "text": [
      "0\n",
      "1\n",
      "2\n",
      "3\n",
      "4\n",
      "5\n",
      "6\n",
      "7\n",
      "8\n",
      "9\n",
      "10\n",
      "11\n",
      "12\n",
      "13\n",
      "14\n",
      "15\n",
      "16\n",
      "17\n",
      "18\n",
      "19\n"
     ]
    }
   ],
   "source": [
    "for i in range(20):\n",
    "    print(i)"
   ]
  },
  {
   "cell_type": "code",
   "execution_count": 5,
   "metadata": {},
   "outputs": [],
   "source": [
    "import pandas as pd\n",
    "import matplotlib.pyplot as plt\n",
    "import seaborn as sns\n"
   ]
  },
  {
   "cell_type": "code",
   "execution_count": null,
   "metadata": {},
   "outputs": [],
   "source": [
    "# 1                1\n",
    "# 3 3              2\n",
    "# 5 5 5            3\n",
    "# 7 7 7 7 \n",
    "# 9 9 9 9 9\n",
    "# 11 11 11 11 11 11"
   ]
  },
  {
   "cell_type": "code",
   "execution_count": null,
   "metadata": {},
   "outputs": [],
   "source": [
    "for i in range(1000):\n",
    "    print((str((i *2) + 1) + ' ')* i)"
   ]
  },
  {
   "cell_type": "code",
   "execution_count": 45,
   "metadata": {},
   "outputs": [
    {
     "name": "stdout",
     "output_type": "stream",
     "text": [
      "1 ------\n",
      "2 4 ------\n",
      "3 6 9 ------\n",
      "4 8 12 16 ------\n",
      "5 10 15 20 25 ------\n",
      "6 12 18 24 30 36 ------\n",
      "7 14 21 28 35 42 49 ------\n",
      "8 16 24 32 40 48 56 64 ------\n",
      "9 18 27 36 45 54 63 72 81 ------\n",
      "10 20 30 40 50 60 70 80 90 100 ------\n"
     ]
    }
   ],
   "source": [
    "# 1\n",
    "# 2 4\n",
    "# 3 6 9\n",
    "# 4 8 12 16\n",
    "# 5 10 15 20 25\n",
    "\n",
    "\n",
    "# 1x1\n",
    "# 2x1 2x2\n",
    "# 3x1 3x2 3x3\n",
    "# 4x1 4x2 4x3 4x4\n",
    "\n",
    "\n",
    "for i in range(1, 11):\n",
    "    # print(i)\n",
    "    for j in range(1, i+1):\n",
    "        print(j * i, end=' ')\n",
    "\n",
    "    print('------')\n",
    "\n",
    "\n",
    "\n",
    "\n",
    "\n"
   ]
  },
  {
   "cell_type": "code",
   "execution_count": 90,
   "metadata": {},
   "outputs": [
    {
     "name": "stdout",
     "output_type": "stream",
     "text": [
      "O\n",
      "U\n",
      "Y\n",
      "K\n",
      "E\n",
      "J\n",
      "G\n",
      "X\n",
      "C\n",
      "X\n",
      "I\n",
      "T\n",
      "N\n",
      "Z\n",
      "X\n",
      "R\n",
      "E\n",
      "O\n",
      "L\n",
      "K\n",
      "U\n",
      "E\n",
      "W\n",
      "N\n",
      "R\n",
      "Z\n",
      "P\n",
      "L\n",
      "J\n",
      "K\n",
      "Q\n",
      "P\n",
      "HH\n",
      "HT\n",
      "HE\n",
      "HV\n",
      "HY\n",
      "HQ\n",
      "HC\n",
      "HM\n",
      "HN\n",
      "HR\n",
      "HU\n",
      "HG\n",
      "HQ\n",
      "HW\n",
      "HW\n",
      "HX\n",
      "HG\n",
      "HY\n",
      "HT\n",
      "HD\n",
      "HK\n",
      "HP\n",
      "HD\n",
      "HW\n",
      "HV\n",
      "HB\n",
      "HI\n",
      "HZ\n",
      "HJ\n",
      "HF\n",
      "HX\n",
      "HU\n",
      "HZ\n",
      "HL\n",
      "HU\n",
      "HHH\n",
      "HHX\n",
      "HHY\n",
      "HHR\n",
      "HHN\n",
      "HHS\n",
      "HHT\n",
      "HHQ\n",
      "HHD\n",
      "HHN\n",
      "HHE\n",
      "HHB\n",
      "HHHH\n",
      "HHHB\n",
      "HHHB\n",
      "HHHHH\n",
      "HHHHQ\n",
      "HHHHV\n",
      "HHHHE\n",
      "HHHHQ\n",
      "HHHHS\n",
      "HHHHO\n",
      "HHHHL\n",
      "HHHHC\n",
      "HHHHD\n",
      "HHHHD\n",
      "HHHHQ\n",
      "HHHHS\n",
      "HHHHP\n",
      "HHHHT\n",
      "HHHHU\n",
      "HHHHQ\n",
      "HHHHZ\n"
     ]
    }
   ],
   "source": [
    "import random\n",
    "import time\n",
    "\n",
    "alphabet = 'ABCDEFGHIJKLMNOPQRSTUVWXYZ'\n",
    "word = \"HELLO WORLD\"\n",
    "goal = ''\n",
    "num = 0\n",
    "\n",
    "while num < 100:\n",
    "    letter = alphabet[random.randint(1, len(alphabet)-1)]\n",
    "    \n",
    "    time.sleep(0.1)\n",
    "\n",
    "    # if letter == alphabet[num]:\n",
    "    #     goal = goal + letter\n",
    "    #     num += 1\n",
    "    #     break\n",
    "    \n",
    "    \n",
    "    if letter == 'H':\n",
    "        goal = goal + letter\n",
    "\n",
    "\n",
    "    print(goal + letter)\n",
    "    num += 1\n",
    "    \n",
    "\n",
    "\n",
    "    \n"
   ]
  },
  {
   "cell_type": "code",
   "execution_count": null,
   "metadata": {},
   "outputs": [],
   "source": []
  }
 ],
 "metadata": {
  "kernelspec": {
   "display_name": "Python 3",
   "language": "python",
   "name": "python3"
  },
  "language_info": {
   "codemirror_mode": {
    "name": "ipython",
    "version": 3
   },
   "file_extension": ".py",
   "mimetype": "text/x-python",
   "name": "python",
   "nbconvert_exporter": "python",
   "pygments_lexer": "ipython3",
   "version": "3.11.4"
  }
 },
 "nbformat": 4,
 "nbformat_minor": 2
}
