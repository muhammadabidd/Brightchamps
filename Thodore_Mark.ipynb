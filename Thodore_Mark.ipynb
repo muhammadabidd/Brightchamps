{
 "cells": [
  {
   "cell_type": "code",
   "execution_count": 7,
   "metadata": {},
   "outputs": [
    {
     "name": "stdout",
     "output_type": "stream",
     "text": [
      "mytext type is <class 'str'>\n",
      "mynumber1 type is <class 'int'>\n",
      "mynumber2 type is <class 'float'>\n",
      "isIamHandsome type is <class 'bool'>\n"
     ]
    }
   ],
   "source": [
    "mytext = \"Abid\"\n",
    "mynumber1 = 123\n",
    "mynumber2 = 123.55\n",
    "isIamHandsome = True\n",
    "\n",
    "\n",
    "\n",
    "print(f\"mytext type is {type(mytext)}\")\n",
    "print(f\"mynumber1 type is {type(mynumber1)}\")\n",
    "print(f\"mynumber2 type is {type(mynumber2)}\")\n",
    "print(f\"isIamHandsome type is {type(isIamHandsome)}\")"
   ]
  },
  {
   "cell_type": "code",
   "execution_count": 25,
   "metadata": {},
   "outputs": [
    {
     "name": "stdout",
     "output_type": "stream",
     "text": [
      "My name is Abid and i am :  12\n",
      "My name is Abid and i am : 12\n",
      "My name is Abid,  and i am 12\n",
      "My name is Abid and I am 12 years old\n"
     ]
    }
   ],
   "source": [
    "# weh ahve several ways to print\n",
    "name = \"Abid\"\n",
    "age = 12\n",
    "\n",
    "#using comma\n",
    "print(\"My name is\", name, \"and i am : \", age)\n",
    "\n",
    "#using +\n",
    "print(\"My name is \" + name + \" and i am : \" + str(age))\n",
    "\n",
    "#using f\n",
    "print(f\"My name is {name},  and i am {age}\")\n",
    "\n",
    "\n",
    "#using \"FORMAT\"\n",
    "print(\"My name is {} and I am {} years old\".format(name, age))"
   ]
  },
  {
   "cell_type": "code",
   "execution_count": 31,
   "metadata": {},
   "outputs": [
    {
     "name": "stdout",
     "output_type": "stream",
     "text": [
      "Abid Handsome\n",
      "27\n",
      "5577\n",
      "ABid Handsome\n",
      "56\n",
      "1244\n"
     ]
    }
   ],
   "source": [
    "text1 = \"Abid\"\n",
    "text2 = \" Handsome\"\n",
    "num1 = 12\n",
    "num2 = 15\n",
    "nummm3 = \"55\"\n",
    "nummm4 = \"77\"\n",
    "\n",
    "\n",
    "\n",
    "print(text1 + text2)\n",
    "print(num1 + num2)\n",
    "print(nummm3 + nummm4)\n",
    "\n",
    "\n",
    "\n",
    "\n",
    "\n",
    "print(\"ABid\" + \" Handsome\")\n",
    "print(12 + 44)\n",
    "print(\"12\" + \"44\")\n"
   ]
  },
  {
   "cell_type": "code",
   "execution_count": 39,
   "metadata": {},
   "outputs": [
    {
     "name": "stdout",
     "output_type": "stream",
     "text": [
      "Handsome Handsome Handsome \n",
      "15\n",
      "555\n",
      "AnyText AnyText AnyText \n",
      "15\n",
      "555\n"
     ]
    }
   ],
   "source": [
    "# Repetition\n",
    "\n",
    "text1 = \"Handsome \"\n",
    "num= 5\n",
    "fake_number = \"5\"\n",
    "\n",
    "\n",
    "\n",
    "#with variables\n",
    "print(text1 * 3)\n",
    "print(num * 3)\n",
    "print(fake_number * 3)\n",
    "\n",
    "\n",
    "\n",
    "#without variable\n",
    "print(\"AnyText \" * 3)\n",
    "print(5 * 3)\n",
    "print(\"5\" * 3)\n"
   ]
  },
  {
   "cell_type": "code",
   "execution_count": 54,
   "metadata": {},
   "outputs": [
    {
     "name": "stdout",
     "output_type": "stream",
     "text": [
      "m\n",
      "a\n",
      "r\n",
      "-----\n",
      "mark\n",
      "love\n",
      "brightchamps\n"
     ]
    }
   ],
   "source": [
    "long_text = \"mark love brightchamps\"\n",
    "\n",
    "print(long_text[0])\n",
    "print(long_text[1])\n",
    "print(long_text[2])\n",
    "\n",
    "print('-----')\n",
    "print(long_text[0 : 4])\n",
    "print(long_text[5 : 9])\n",
    "print(long_text[10 : 22])"
   ]
  },
  {
   "cell_type": "code",
   "execution_count": 63,
   "metadata": {},
   "outputs": [
    {
     "name": "stdout",
     "output_type": "stream",
     "text": [
      "True\n",
      "False\n",
      "True\n",
      "False\n",
      "True\n",
      "False\n"
     ]
    }
   ],
   "source": [
    "# Membership\n",
    "\n",
    "# Membership in a string (str)\n",
    "\n",
    "mystring = \"FOX\"\n",
    "\n",
    "print('F' in mystring)\n",
    "print('f' in mystring)\n",
    "\n",
    "\n",
    "print('F' in \"FAME\")\n",
    "print('f' in \"FAME\")\n",
    "\n",
    "print(\"ayam\" in 'ayam makan bebek')\n",
    "print(\"AYAM\" in 'ayam makan bebek')"
   ]
  },
  {
   "cell_type": "code",
   "execution_count": 73,
   "metadata": {},
   "outputs": [
    {
     "name": "stdout",
     "output_type": "stream",
     "text": [
      "True\n",
      "False\n",
      "True\n",
      "False\n",
      "False\n",
      "True\n",
      "False\n"
     ]
    }
   ],
   "source": [
    "# membership in list[]/tuple()\n",
    "\n",
    "mylist1 = ['A', 'Budi', 'Cat and Dog']\n",
    "\n",
    "print(\"A\" in mylist1)\n",
    "print(\"a\" in mylist1)\n",
    "print(\"Cat and Dog\" in mylist1)\n",
    "print(\"Cat\" in mylist1)\n",
    "\n",
    "\n",
    "mytuple1  = (5, 6, 7, 88)\n",
    "print(1 in mytuple1)\n",
    "print(5 in mytuple1)\n",
    "print(\"5\" in mytuple1)\n"
   ]
  },
  {
   "cell_type": "code",
   "execution_count": null,
   "metadata": {},
   "outputs": [],
   "source": []
  }
 ],
 "metadata": {
  "kernelspec": {
   "display_name": "Python 3",
   "language": "python",
   "name": "python3"
  },
  "language_info": {
   "codemirror_mode": {
    "name": "ipython",
    "version": 3
   },
   "file_extension": ".py",
   "mimetype": "text/x-python",
   "name": "python",
   "nbconvert_exporter": "python",
   "pygments_lexer": "ipython3",
   "version": "3.11.4"
  }
 },
 "nbformat": 4,
 "nbformat_minor": 2
}
