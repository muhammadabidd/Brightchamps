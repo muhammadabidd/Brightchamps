{
 "cells": [
  {
   "cell_type": "code",
   "execution_count": 7,
   "metadata": {},
   "outputs": [
    {
     "name": "stdout",
     "output_type": "stream",
     "text": [
      "mytext type is <class 'str'>\n",
      "mynumber1 type is <class 'int'>\n",
      "mynumber2 type is <class 'float'>\n",
      "isIamHandsome type is <class 'bool'>\n"
     ]
    }
   ],
   "source": [
    "mytext = \"Abid\"\n",
    "mynumber1 = 123\n",
    "mynumber2 = 123.55\n",
    "isIamHandsome = True\n",
    "\n",
    "\n",
    "\n",
    "print(f\"mytext type is {type(mytext)}\")\n",
    "print(f\"mynumber1 type is {type(mynumber1)}\")\n",
    "print(f\"mynumber2 type is {type(mynumber2)}\")\n",
    "print(f\"isIamHandsome type is {type(isIamHandsome)}\")"
   ]
  },
  {
   "cell_type": "code",
   "execution_count": 25,
   "metadata": {},
   "outputs": [
    {
     "name": "stdout",
     "output_type": "stream",
     "text": [
      "My name is Abid and i am :  12\n",
      "My name is Abid and i am : 12\n",
      "My name is Abid,  and i am 12\n",
      "My name is Abid and I am 12 years old\n"
     ]
    }
   ],
   "source": [
    "# weh ahve several ways to print\n",
    "name = \"Abid\"\n",
    "age = 12\n",
    "\n",
    "#using comma\n",
    "print(\"My name is\", name, \"and i am : \", age)\n",
    "\n",
    "#using +\n",
    "print(\"My name is \" + name + \" and i am : \" + str(age))\n",
    "\n",
    "#using f\n",
    "print(f\"My name is {name},  and i am {age}\")\n",
    "\n",
    "\n",
    "#using \"FORMAT\"\n",
    "print(\"My name is {} and I am {} years old\".format(name, age))"
   ]
  },
  {
   "cell_type": "code",
   "execution_count": 31,
   "metadata": {},
   "outputs": [
    {
     "name": "stdout",
     "output_type": "stream",
     "text": [
      "Abid Handsome\n",
      "27\n",
      "5577\n",
      "ABid Handsome\n",
      "56\n",
      "1244\n"
     ]
    }
   ],
   "source": [
    "text1 = \"Abid\"\n",
    "text2 = \" Handsome\"\n",
    "num1 = 12\n",
    "num2 = 15\n",
    "nummm3 = \"55\"\n",
    "nummm4 = \"77\"\n",
    "\n",
    "\n",
    "\n",
    "print(text1 + text2)\n",
    "print(num1 + num2)\n",
    "print(nummm3 + nummm4)\n",
    "\n",
    "\n",
    "\n",
    "\n",
    "\n",
    "print(\"ABid\" + \" Handsome\")\n",
    "print(12 + 44)\n",
    "print(\"12\" + \"44\")\n"
   ]
  },
  {
   "cell_type": "code",
   "execution_count": 39,
   "metadata": {},
   "outputs": [
    {
     "name": "stdout",
     "output_type": "stream",
     "text": [
      "Handsome Handsome Handsome \n",
      "15\n",
      "555\n",
      "AnyText AnyText AnyText \n",
      "15\n",
      "555\n"
     ]
    }
   ],
   "source": [
    "# Repetition\n",
    "\n",
    "text1 = \"Handsome \"\n",
    "num= 5\n",
    "fake_number = \"5\"\n",
    "\n",
    "\n",
    "\n",
    "#with variables\n",
    "print(text1 * 3)\n",
    "print(num * 3)\n",
    "print(fake_number * 3)\n",
    "\n",
    "\n",
    "\n",
    "#without variable\n",
    "print(\"AnyText \" * 3)\n",
    "print(5 * 3)\n",
    "print(\"5\" * 3)\n"
   ]
  },
  {
   "cell_type": "code",
   "execution_count": 54,
   "metadata": {},
   "outputs": [
    {
     "name": "stdout",
     "output_type": "stream",
     "text": [
      "m\n",
      "a\n",
      "r\n",
      "-----\n",
      "mark\n",
      "love\n",
      "brightchamps\n"
     ]
    }
   ],
   "source": [
    "long_text = \"mark love brightchamps\"\n",
    "\n",
    "print(long_text[0])\n",
    "print(long_text[1])\n",
    "print(long_text[2])\n",
    "\n",
    "print('-----')\n",
    "print(long_text[0 : 4])\n",
    "print(long_text[5 : 9])\n",
    "print(long_text[10 : 22])"
   ]
  },
  {
   "cell_type": "code",
   "execution_count": 63,
   "metadata": {},
   "outputs": [
    {
     "name": "stdout",
     "output_type": "stream",
     "text": [
      "True\n",
      "False\n",
      "True\n",
      "False\n",
      "True\n",
      "False\n"
     ]
    }
   ],
   "source": [
    "# Membership\n",
    "\n",
    "# Membership in a string (str)\n",
    "\n",
    "mystring = \"FOX\"\n",
    "\n",
    "print('F' in mystring)\n",
    "print('f' in mystring)\n",
    "\n",
    "\n",
    "print('F' in \"FAME\")\n",
    "print('f' in \"FAME\")\n",
    "\n",
    "print(\"ayam\" in 'ayam makan bebek')\n",
    "print(\"AYAM\" in 'ayam makan bebek')"
   ]
  },
  {
   "cell_type": "code",
   "execution_count": 73,
   "metadata": {},
   "outputs": [
    {
     "name": "stdout",
     "output_type": "stream",
     "text": [
      "True\n",
      "False\n",
      "True\n",
      "False\n",
      "False\n",
      "True\n",
      "False\n"
     ]
    }
   ],
   "source": [
    "# membership in list[]/tuple()\n",
    "\n",
    "mylist1 = ['A', 'Budi', 'Cat and Dog']\n",
    "\n",
    "print(\"A\" in mylist1)\n",
    "print(\"a\" in mylist1)\n",
    "print(\"Cat and Dog\" in mylist1)\n",
    "print(\"Cat\" in mylist1)\n",
    "\n",
    "\n",
    "mytuple1  = (5, 6, 7, 88)\n",
    "print(1 in mytuple1)\n",
    "print(5 in mytuple1)\n",
    "print(\"5\" in mytuple1)\n"
   ]
  },
  {
   "cell_type": "code",
   "execution_count": 7,
   "metadata": {},
   "outputs": [
    {
     "name": "stdout",
     "output_type": "stream",
     "text": [
      "This is age confirmation program, let me know your age\n",
      "You are an adult now\n",
      "Thanks for confirming your age\n"
     ]
    }
   ],
   "source": [
    "myage = int(input(\"How old are you\"))          #str > int\n",
    "\n",
    "\n",
    "print(\"This is age confirmation program, let me know your age\")\n",
    "\n",
    "\n",
    "if myage >= 18:\n",
    "    print(\"You are an adult now\")\n",
    "elif myage >= 15:                            # else if, soo remember that we need to define the condition\n",
    "    print(\"You are teen\")\n",
    "else :                                           # no need to define the condition, becouse its not >= 18 nor >= 15\n",
    "    print(\"You are kids\")\n",
    "\n",
    "\n",
    "\n",
    "print(\"Thanks for confirming your age\")"
   ]
  },
  {
   "cell_type": "code",
   "execution_count": 19,
   "metadata": {},
   "outputs": [
    {
     "name": "stdout",
     "output_type": "stream",
     "text": [
      " <class 'int'>  +  <class 'int'>   = 16  (<class 'int'>) \n",
      " <class 'str'>  +  <class 'str'>   = IamHandsome  (<class 'str'>) \n"
     ]
    }
   ],
   "source": [
    "# LESSSON 8\n",
    "#Arithmetics Operation\n",
    "\n",
    "number1 = 12\n",
    "number2 = 4\n",
    "\n",
    "text1 = \"Iam\"\n",
    "text2 = \"Handsome\"\n",
    "\n",
    "boolean1 = True\n",
    "boolean2 = False\n",
    "\n",
    "\n",
    "#same data type\n",
    "print(f' {type(number1)}  +  {type(number2)}   = {number1 + number2}  ({type(number1 + number2)}) ')\n",
    "print(f' {type(text1)}  +  {type(text2)}   = {text1 + text2}  ({type(text1 + text2)}) ')\n",
    "# do for the boolean here\n",
    "\n",
    "# print(f' {type(asdasdasd)}  +  {type(teasdasdasdxt2)}   = {asdasd + text2}  ({type(text1 + text2)}) ')   # does not work because cannot add int and text\n",
    "#int and boolean\n",
    "# text and boolean\n"
   ]
  },
  {
   "cell_type": "code",
   "execution_count": 20,
   "metadata": {},
   "outputs": [
    {
     "name": "stdout",
     "output_type": "stream",
     "text": [
      " <class 'int'>  -  <class 'int'>   = 16  (<class 'int'>) \n"
     ]
    },
    {
     "ename": "TypeError",
     "evalue": "unsupported operand type(s) for -: 'str' and 'str'",
     "output_type": "error",
     "traceback": [
      "\u001b[1;31m---------------------------------------------------------------------------\u001b[0m",
      "\u001b[1;31mTypeError\u001b[0m                                 Traceback (most recent call last)",
      "Cell \u001b[1;32mIn[20], line 15\u001b[0m\n\u001b[0;32m     13\u001b[0m \u001b[38;5;66;03m#same data type\u001b[39;00m\n\u001b[0;32m     14\u001b[0m \u001b[38;5;28mprint\u001b[39m(\u001b[38;5;124mf\u001b[39m\u001b[38;5;124m'\u001b[39m\u001b[38;5;124m \u001b[39m\u001b[38;5;132;01m{\u001b[39;00m\u001b[38;5;28mtype\u001b[39m(number1)\u001b[38;5;132;01m}\u001b[39;00m\u001b[38;5;124m  -  \u001b[39m\u001b[38;5;132;01m{\u001b[39;00m\u001b[38;5;28mtype\u001b[39m(number2)\u001b[38;5;132;01m}\u001b[39;00m\u001b[38;5;124m   = \u001b[39m\u001b[38;5;132;01m{\u001b[39;00mnumber1\u001b[38;5;250m \u001b[39m\u001b[38;5;241m+\u001b[39m\u001b[38;5;250m \u001b[39mnumber2\u001b[38;5;132;01m}\u001b[39;00m\u001b[38;5;124m  (\u001b[39m\u001b[38;5;132;01m{\u001b[39;00m\u001b[38;5;28mtype\u001b[39m(number1\u001b[38;5;250m \u001b[39m\u001b[38;5;241m-\u001b[39m\u001b[38;5;250m \u001b[39mnumber2)\u001b[38;5;132;01m}\u001b[39;00m\u001b[38;5;124m) \u001b[39m\u001b[38;5;124m'\u001b[39m)\n\u001b[1;32m---> 15\u001b[0m \u001b[38;5;28mprint\u001b[39m(\u001b[38;5;124mf\u001b[39m\u001b[38;5;124m'\u001b[39m\u001b[38;5;124m \u001b[39m\u001b[38;5;132;01m{\u001b[39;00m\u001b[38;5;28mtype\u001b[39m(text1)\u001b[38;5;132;01m}\u001b[39;00m\u001b[38;5;124m  -  \u001b[39m\u001b[38;5;132;01m{\u001b[39;00m\u001b[38;5;28mtype\u001b[39m(text2)\u001b[38;5;132;01m}\u001b[39;00m\u001b[38;5;124m   = \u001b[39m\u001b[38;5;132;01m{\u001b[39;00mtext1\u001b[38;5;250m \u001b[39m\u001b[38;5;241m+\u001b[39m\u001b[38;5;250m \u001b[39mtext2\u001b[38;5;132;01m}\u001b[39;00m\u001b[38;5;124m  (\u001b[39m\u001b[38;5;132;01m{\u001b[39;00m\u001b[38;5;28mtype\u001b[39m(\u001b[43mtext1\u001b[49m\u001b[38;5;250;43m \u001b[39;49m\u001b[38;5;241;43m-\u001b[39;49m\u001b[38;5;250;43m \u001b[39;49m\u001b[43mtext2\u001b[49m)\u001b[38;5;132;01m}\u001b[39;00m\u001b[38;5;124m) \u001b[39m\u001b[38;5;124m'\u001b[39m)\n\u001b[0;32m     16\u001b[0m \u001b[38;5;66;03m# do for the boolean here\u001b[39;00m\n\u001b[0;32m     17\u001b[0m \n\u001b[0;32m     18\u001b[0m \u001b[38;5;66;03m# print(f' {type(asdasdasd)}  +  {type(teasdasdasdxt2)}   = {asdasd + text2}  ({type(text1 + text2)}) ')   # does not work because cannot add int and text\u001b[39;00m\n\u001b[0;32m     19\u001b[0m \u001b[38;5;66;03m#int and boolean\u001b[39;00m\n\u001b[0;32m     20\u001b[0m \u001b[38;5;66;03m# text and boolean\u001b[39;00m\n",
      "\u001b[1;31mTypeError\u001b[0m: unsupported operand type(s) for -: 'str' and 'str'"
     ]
    }
   ],
   "source": [
    "\n",
    "#Arithmetics Operation (-)\n",
    "\n",
    "number1 = 12\n",
    "number2 = 4\n",
    "\n",
    "text1 = \"Iam\"\n",
    "text2 = \"Handsome\"\n",
    "\n",
    "boolean1 = True\n",
    "boolean2 = False\n",
    "\n",
    "\n",
    "#same data type\n",
    "print(f' {type(number1)}  -  {type(number2)}   = {number1 + number2}  ({type(number1 - number2)}) ')\n",
    "print(f' {type(text1)}  -  {type(text2)}   = {text1 + text2}  ({type(text1 - text2)}) ')\n",
    "# do for the boolean here\n",
    "\n",
    "# print(f' {type(asdasdasd)}  +  {type(teasdasdasdxt2)}   = {asdasd + text2}  ({type(text1 + text2)}) ')   # does not work because cannot add int and text\n",
    "#int and boolean\n",
    "# text and boolean\n"
   ]
  },
  {
   "cell_type": "code",
   "execution_count": null,
   "metadata": {},
   "outputs": [],
   "source": []
  }
 ],
 "metadata": {
  "kernelspec": {
   "display_name": "Python 3",
   "language": "python",
   "name": "python3"
  },
  "language_info": {
   "codemirror_mode": {
    "name": "ipython",
    "version": 3
   },
   "file_extension": ".py",
   "mimetype": "text/x-python",
   "name": "python",
   "nbconvert_exporter": "python",
   "pygments_lexer": "ipython3",
   "version": "3.11.9"
  }
 },
 "nbformat": 4,
 "nbformat_minor": 2
}
