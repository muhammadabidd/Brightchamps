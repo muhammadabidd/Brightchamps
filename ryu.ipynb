{
 "cells": [
  {
   "cell_type": "code",
   "execution_count": 6,
   "metadata": {},
   "outputs": [
    {
     "name": "stdout",
     "output_type": "stream",
     "text": [
      "Helloo Semuanyaaaa\n",
      "Hello semuanya, nama saya : Abid\n",
      "Hobi saya adalah : Football\n",
      "Sya berumur : 22\n"
     ]
    }
   ],
   "source": [
    "# Pertemuan Python Advance 1 (Shopping Chatbox)\n",
    "\n",
    "print(\"Helloo Semuanyaaaa\")\n",
    "\n",
    "nama = \"Abid\"\n",
    "\n",
    "print(\"Hello semuanya, nama saya : \" + nama)\n",
    "\n",
    "hobi = \"Football\"\n",
    "\n",
    "print(\"Hobi saya adalah : \" + hobi)\n",
    "\n",
    "umur = 22\n",
    "\n",
    "print(\"Sya berumur : \" + str(umur))"
   ]
  },
  {
   "cell_type": "code",
   "execution_count": 8,
   "metadata": {},
   "outputs": [
    {
     "name": "stdout",
     "output_type": "stream",
     "text": [
      "Baiklah sekarang saya tahu namamu : Ujang\n"
     ]
    }
   ],
   "source": [
    "nama = input(\"Siapakah nama mu?\")\n",
    "\n",
    "print(\"Baiklah sekarang saya tahu namamu : \" + nama)"
   ]
  },
  {
   "cell_type": "code",
   "execution_count": 12,
   "metadata": {},
   "outputs": [
    {
     "name": "stdout",
     "output_type": "stream",
     "text": [
      "WElcome to our store, please choose the item that you would like to buy\n",
      "1. Pokeball\n",
      "2. Full Potion\n",
      "3. Ultra Ball\n",
      "Thankyou for chosing item number 2\n",
      "See you later\n"
     ]
    }
   ],
   "source": [
    "print(\"WElcome to our store, please choose the item that you would like to buy\")\n",
    "\n",
    "print(\"1. Pokeball\")\n",
    "print(\"2. Full Potion\")\n",
    "print(\"3. Ultra Ball\")\n",
    "\n",
    "item = input(\"please insert : \")\n",
    "\n",
    "print(\"Thankyou for chosing item number \" + item)\n",
    "print(\"See you later\")"
   ]
  },
  {
   "cell_type": "code",
   "execution_count": null,
   "metadata": {},
   "outputs": [],
   "source": []
  }
 ],
 "metadata": {
  "kernelspec": {
   "display_name": "Python 3",
   "language": "python",
   "name": "python3"
  },
  "language_info": {
   "codemirror_mode": {
    "name": "ipython",
    "version": 3
   },
   "file_extension": ".py",
   "mimetype": "text/x-python",
   "name": "python",
   "nbconvert_exporter": "python",
   "pygments_lexer": "ipython3",
   "version": "3.11.4"
  }
 },
 "nbformat": 4,
 "nbformat_minor": 2
}
