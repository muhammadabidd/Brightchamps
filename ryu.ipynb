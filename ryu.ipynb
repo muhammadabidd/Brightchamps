{
 "cells": [
  {
   "cell_type": "code",
   "execution_count": 6,
   "metadata": {},
   "outputs": [
    {
     "name": "stdout",
     "output_type": "stream",
     "text": [
      "Helloo Semuanyaaaa\n",
      "Hello semuanya, nama saya : Abid\n",
      "Hobi saya adalah : Football\n",
      "Sya berumur : 22\n"
     ]
    }
   ],
   "source": [
    "# Pertemuan Python Advance 1 (Shopping Chatbox)\n",
    "\n",
    "print(\"Helloo Semuanyaaaa\")\n",
    "\n",
    "nama = \"Abid\"\n",
    "\n",
    "print(\"Hello semuanya, nama saya : \" + nama)\n",
    "\n",
    "hobi = \"Football\"\n",
    "\n",
    "print(\"Hobi saya adalah : \" + hobi)\n",
    "\n",
    "umur = 22\n",
    "\n",
    "print(\"Sya berumur : \" + str(umur))"
   ]
  },
  {
   "cell_type": "code",
   "execution_count": 8,
   "metadata": {},
   "outputs": [
    {
     "name": "stdout",
     "output_type": "stream",
     "text": [
      "Baiklah sekarang saya tahu namamu : Ujang\n"
     ]
    }
   ],
   "source": [
    "nama = input(\"Siapakah nama mu?\")\n",
    "\n",
    "print(\"Baiklah sekarang saya tahu namamu : \" + nama)"
   ]
  },
  {
   "cell_type": "code",
   "execution_count": 12,
   "metadata": {},
   "outputs": [
    {
     "name": "stdout",
     "output_type": "stream",
     "text": [
      "WElcome to our store, please choose the item that you would like to buy\n",
      "1. Pokeball\n",
      "2. Full Potion\n",
      "3. Ultra Ball\n",
      "Thankyou for chosing item number 2\n",
      "See you later\n"
     ]
    }
   ],
   "source": [
    "print(\"WElcome to our store, please choose the item that you would like to buy\")\n",
    "\n",
    "print(\"1. Pokeball\")\n",
    "print(\"2. Full Potion\")\n",
    "print(\"3. Ultra Ball\")\n",
    "\n",
    "item = input(\"please insert : \")\n",
    "\n",
    "print(\"Thankyou for chosing item number \" + item)\n",
    "print(\"See you later\")"
   ]
  },
  {
   "cell_type": "code",
   "execution_count": 1,
   "metadata": {},
   "outputs": [],
   "source": [
    "# Pertemuan 2 (Watch your step)\n",
    "\n"
   ]
  },
  {
   "cell_type": "code",
   "execution_count": 7,
   "metadata": {},
   "outputs": [
    {
     "data": {
      "text/plain": [
       "int"
      ]
     },
     "execution_count": 7,
     "metadata": {},
     "output_type": "execute_result"
    }
   ],
   "source": [
    "# Pertemuan 3 (Swapping Values)\n",
    "\n",
    "\n",
    "umur = 12\n",
    "umurRyu = int(input(\"berapa umurmu ryu?\"))\n",
    "\n",
    "\n",
    "type(umurRyu)\n"
   ]
  },
  {
   "cell_type": "code",
   "execution_count": 8,
   "metadata": {},
   "outputs": [
    {
     "data": {
      "text/plain": [
       "24"
      ]
     },
     "execution_count": 8,
     "metadata": {},
     "output_type": "execute_result"
    }
   ],
   "source": [
    "umurRyu + umurRyu"
   ]
  },
  {
   "cell_type": "code",
   "execution_count": 10,
   "metadata": {},
   "outputs": [],
   "source": [
    "umur = input(\"Berapa umurmu?\")"
   ]
  },
  {
   "cell_type": "code",
   "execution_count": 12,
   "metadata": {},
   "outputs": [
    {
     "data": {
      "text/plain": [
       "str"
      ]
     },
     "execution_count": 12,
     "metadata": {},
     "output_type": "execute_result"
    }
   ],
   "source": [
    "type(umur)"
   ]
  },
  {
   "cell_type": "code",
   "execution_count": 17,
   "metadata": {},
   "outputs": [
    {
     "name": "stdout",
     "output_type": "stream",
     "text": [
      "Jadi Umurmua adalah : \n",
      "19\n",
      "Kamu sudah boleh mengendarai sepak bola\n"
     ]
    }
   ],
   "source": [
    "umur = int(input(\"Berapa umurmu?\"))\n",
    "\n",
    "if umur > 17 :\n",
    "    print(\"Jadi Umurmua adalah : \")\n",
    "    print(umur)\n",
    "    print(\"Kamu sudah boleh mengendarai sepak bola\")"
   ]
  },
  {
   "cell_type": "code",
   "execution_count": 14,
   "metadata": {},
   "outputs": [
    {
     "data": {
      "text/plain": [
       "int"
      ]
     },
     "execution_count": 14,
     "metadata": {},
     "output_type": "execute_result"
    }
   ],
   "source": [
    "type(umur)"
   ]
  },
  {
   "cell_type": "code",
   "execution_count": 18,
   "metadata": {},
   "outputs": [],
   "source": [
    "# Aturan Menamai Variable\n",
    "\n",
    "#1. Boleh dimulai dari huruf apa saja\n",
    "angka = 12\n",
    "\n",
    "#2. Boleh menggunakan \"_\" atau simbol lain\n",
    "_angka = 12\n",
    "angka_kesukaan = 12\n",
    "\n",
    "# 3. Boleh menggunakan angka di akhir variable\n",
    "angka1 = 12\n",
    "angka2 = 13\n",
    "\n",
    "\n",
    "# 4. Boleh menggunakan huruf besar di awal variable\n",
    "Angka = 12\n",
    "\n",
    "\n",
    "\n"
   ]
  },
  {
   "cell_type": "code",
   "execution_count": 21,
   "metadata": {},
   "outputs": [
    {
     "ename": "SyntaxError",
     "evalue": "invalid syntax (616095082.py, line 7)",
     "output_type": "error",
     "traceback": [
      "\u001b[0;36m  Cell \u001b[0;32mIn[21], line 7\u001b[0;36m\u001b[0m\n\u001b[0;31m    nilai kesukaan = 15\u001b[0m\n\u001b[0m          ^\u001b[0m\n\u001b[0;31mSyntaxError\u001b[0m\u001b[0;31m:\u001b[0m invalid syntax\n"
     ]
    }
   ],
   "source": [
    "\n",
    "#Yang tidak boleh :\n",
    "#1. Boleh menggunakan angka di awal variable\n",
    "# 1nilai = 12\n",
    "\n",
    "#2. Boleh menggunakan spasi di variable\n",
    "\n",
    "# nilai kesukaan = 15"
   ]
  },
  {
   "cell_type": "code",
   "execution_count": 22,
   "metadata": {},
   "outputs": [
    {
     "name": "stdout",
     "output_type": "stream",
     "text": [
      "12\n",
      "13\n",
      "14\n"
     ]
    }
   ],
   "source": [
    "# Cara bikin variable yang banyak : \n",
    "\n",
    "\n",
    "\n",
    "var1, var2, var3 = 12, 13, 14\n",
    "\n",
    "\n",
    "\n",
    "print(var1)\n",
    "print(var2)\n",
    "print(var3)"
   ]
  },
  {
   "cell_type": "code",
   "execution_count": null,
   "metadata": {},
   "outputs": [],
   "source": []
  }
 ],
 "metadata": {
  "kernelspec": {
   "display_name": "Python 3",
   "language": "python",
   "name": "python3"
  },
  "language_info": {
   "codemirror_mode": {
    "name": "ipython",
    "version": 3
   },
   "file_extension": ".py",
   "mimetype": "text/x-python",
   "name": "python",
   "nbconvert_exporter": "python",
   "pygments_lexer": "ipython3",
   "version": "3.11.4"
  }
 },
 "nbformat": 4,
 "nbformat_minor": 2
}
