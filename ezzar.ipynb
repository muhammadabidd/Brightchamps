{
 "cells": [
  {
   "cell_type": "code",
   "execution_count": 1,
   "metadata": {},
   "outputs": [
    {
     "name": "stdout",
     "output_type": "stream",
     "text": [
      "Mu name is abid\n"
     ]
    }
   ],
   "source": [
    "print(\"Mu name is abid\")"
   ]
  },
  {
   "cell_type": "code",
   "execution_count": 2,
   "metadata": {},
   "outputs": [
    {
     "name": "stdout",
     "output_type": "stream",
     "text": [
      "Not Old\n"
     ]
    }
   ],
   "source": [
    "age = 12\n",
    "\n",
    "if age > 20 :\n",
    "    print('OLDDD')\n",
    "else :\n",
    "    print(\"Not Old\")"
   ]
  },
  {
   "cell_type": "code",
   "execution_count": 3,
   "metadata": {},
   "outputs": [
    {
     "name": "stdout",
     "output_type": "stream",
     "text": [
      "Not Old\n"
     ]
    }
   ],
   "source": [
    "age = 12\n",
    "\n",
    "if age > 20 :\n",
    "    print('OLDDD')\n",
    "else :\n",
    "    print(\"Not Old\")"
   ]
  },
  {
   "cell_type": "code",
   "execution_count": 4,
   "metadata": {},
   "outputs": [
    {
     "name": "stdout",
     "output_type": "stream",
     "text": [
      "Not Old\n"
     ]
    }
   ],
   "source": [
    "age = 12\n",
    "\n",
    "if age > 20 :\n",
    "    print('OLDDD')\n",
    "else :\n",
    "    print(\"Not Old\")"
   ]
  },
  {
   "cell_type": "code",
   "execution_count": 5,
   "metadata": {},
   "outputs": [
    {
     "name": "stdout",
     "output_type": "stream",
     "text": [
      "nama saya Muhasmadmas\n"
     ]
    }
   ],
   "source": [
    "12\n",
    "\n",
    "\n",
    "print(\"nama saya Muhasmadmas\")"
   ]
  },
  {
   "cell_type": "code",
   "execution_count": 6,
   "metadata": {},
   "outputs": [
    {
     "name": "stdout",
     "output_type": "stream",
     "text": [
      "Not Old\n"
     ]
    }
   ],
   "source": [
    "age = 12\n",
    "\n",
    "if age > 20 :\n",
    "    print('OLDDD')\n",
    "else :\n",
    "    print(\"Not Old\")"
   ]
  },
  {
   "cell_type": "code",
   "execution_count": 11,
   "metadata": {},
   "outputs": [],
   "source": [
    "class Person():\n",
    "\n",
    "    def __init__(self, nama, umur, gender):\n",
    "        self.nama = nama\n",
    "        self.umur = umur\n",
    "        self.gender = gender\n",
    "\n",
    "    def menyapa_oranglain(self):\n",
    "        print(\"Halo dari saya : \", self.nama)"
   ]
  },
  {
   "cell_type": "code",
   "execution_count": 12,
   "metadata": {},
   "outputs": [],
   "source": [
    "orangkesatu = Person(\"Ezzar\", 12, \"Laki-laki\")\n",
    "orangkedua = Person(\"Elang\", 11, \"Laki-laki\")\n",
    "orangketiga = Person(\"Sutri\", 14, \"Perempuan\")"
   ]
  },
  {
   "cell_type": "code",
   "execution_count": 6,
   "metadata": {},
   "outputs": [
    {
     "name": "stdout",
     "output_type": "stream",
     "text": [
      "Ezzar\n",
      "Elang\n",
      "Sutri\n"
     ]
    }
   ],
   "source": [
    "print(orangkesatu.nama)\n",
    "print(orangkedua.nama)\n",
    "print(orangketiga.nama)"
   ]
  },
  {
   "cell_type": "code",
   "execution_count": 7,
   "metadata": {},
   "outputs": [
    {
     "name": "stdout",
     "output_type": "stream",
     "text": [
      "12\n",
      "11\n",
      "14\n"
     ]
    }
   ],
   "source": [
    "print(orangkesatu.umur)\n",
    "print(orangkedua.umur)\n",
    "print(orangketiga.umur)"
   ]
  },
  {
   "cell_type": "code",
   "execution_count": 8,
   "metadata": {},
   "outputs": [
    {
     "name": "stdout",
     "output_type": "stream",
     "text": [
      "Laki-laki\n",
      "Laki-laki\n",
      "Perempuan\n"
     ]
    }
   ],
   "source": [
    "print(orangkesatu.gender)\n",
    "print(orangkedua.gender)\n",
    "print(orangketiga.gender)"
   ]
  },
  {
   "cell_type": "code",
   "execution_count": 14,
   "metadata": {},
   "outputs": [
    {
     "name": "stdout",
     "output_type": "stream",
     "text": [
      "Halo dari saya :  Ezzar\n",
      "Halo dari saya :  Elang\n",
      "Halo dari saya :  Sutri\n"
     ]
    }
   ],
   "source": [
    "orangkesatu.menyapa_oranglain()\n",
    "orangkedua.menyapa_oranglain()\n",
    "orangketiga.menyapa_oranglain()"
   ]
  },
  {
   "cell_type": "code",
   "execution_count": 3,
   "metadata": {},
   "outputs": [],
   "source": [
    "class animal:\n",
    "    def __init__(self, nama, gerak):\n",
    "        self.nama = nama\n",
    "        self.jalan = gerak\n",
    "\n",
    "\n",
    "\n",
    "animalkesatu = animal(\"simaung\", \"lari\")\n",
    "animalkedua = animal(\"rajahutan\", \"lari\")"
   ]
  },
  {
   "cell_type": "code",
   "execution_count": 4,
   "metadata": {},
   "outputs": [],
   "source": [
    "class Harimau(animal):\n",
    "    def __init__(self, nama, gerak):\n",
    "        super().__init__(nama, gerak)\n",
    "\n",
    "\n",
    "harimaukesatu = Harimau(\"bangjago\", 'lari')\n"
   ]
  },
  {
   "cell_type": "code",
   "execution_count": 5,
   "metadata": {},
   "outputs": [
    {
     "name": "stdout",
     "output_type": "stream",
     "text": [
      "<class 'list'>\n",
      "<class 'numpy.ndarray'>\n"
     ]
    }
   ],
   "source": [
    "import numpy as np\n",
    "\n",
    "mylist = [1, 2, 3, 4, 5, 6, 7, 8, 9, 10]\n",
    "print(type(mylist))\n",
    "\n",
    "arraysaya = np.array(mylist)\n",
    "print(type(arraysaya))\n",
    "\n"
   ]
  },
  {
   "cell_type": "code",
   "execution_count": 9,
   "metadata": {},
   "outputs": [
    {
     "name": "stdout",
     "output_type": "stream",
     "text": [
      "[ 3  4  5  6  7  8  9 10 11 12]\n",
      "[-1  0  1  2  3  4  5  6  7  8]\n",
      "[ 2  4  6  8 10 12 14 16 18 20]\n",
      "[0.5 1.  1.5 2.  2.5 3.  3.5 4.  4.5 5. ]\n"
     ]
    }
   ],
   "source": [
    "print(arraysaya + 2)\n",
    "print(arraysaya - 2)\n",
    "print(arraysaya * 2)\n",
    "print(arraysaya / 2)\n"
   ]
  },
  {
   "cell_type": "code",
   "execution_count": 16,
   "metadata": {},
   "outputs": [
    {
     "data": {
      "text/plain": [
       "array([1., 1., 1., 1., 1.])"
      ]
     },
     "execution_count": 16,
     "metadata": {},
     "output_type": "execute_result"
    }
   ],
   "source": [
    "np.ones(5)"
   ]
  },
  {
   "cell_type": "code",
   "execution_count": 17,
   "metadata": {},
   "outputs": [
    {
     "data": {
      "text/plain": [
       "array([0., 0., 0., 0., 0., 0., 0., 0., 0., 0.])"
      ]
     },
     "execution_count": 17,
     "metadata": {},
     "output_type": "execute_result"
    }
   ],
   "source": [
    "np.zeros(10)"
   ]
  },
  {
   "cell_type": "code",
   "execution_count": 21,
   "metadata": {},
   "outputs": [
    {
     "data": {
      "text/plain": [
       "array([1, 2, 3, 4, 5, 6, 7, 8, 9])"
      ]
     },
     "execution_count": 21,
     "metadata": {},
     "output_type": "execute_result"
    }
   ],
   "source": [
    "np.arange(1, 10)"
   ]
  },
  {
   "cell_type": "code",
   "execution_count": 22,
   "metadata": {},
   "outputs": [
    {
     "data": {
      "text/plain": [
       "array([ 1,  2,  3,  4,  5,  6,  7,  8,  9, 10, 11, 12, 13, 14, 15, 16, 17,\n",
       "       18, 19, 20, 21, 22, 23, 24, 25, 26, 27, 28, 29, 30, 31, 32, 33, 34,\n",
       "       35, 36, 37, 38, 39, 40, 41, 42, 43, 44, 45, 46, 47, 48, 49, 50, 51,\n",
       "       52, 53, 54, 55, 56, 57, 58, 59, 60, 61, 62, 63, 64, 65, 66, 67, 68,\n",
       "       69, 70, 71, 72, 73, 74, 75, 76, 77, 78, 79, 80, 81, 82, 83, 84, 85,\n",
       "       86, 87, 88, 89, 90, 91, 92, 93, 94, 95, 96, 97, 98, 99])"
      ]
     },
     "execution_count": 22,
     "metadata": {},
     "output_type": "execute_result"
    }
   ],
   "source": [
    "np.arange(1, 100)"
   ]
  },
  {
   "cell_type": "code",
   "execution_count": 24,
   "metadata": {},
   "outputs": [
    {
     "data": {
      "text/plain": [
       "array([900, 901, 902, 903, 904, 905, 906, 907, 908, 909, 910, 911, 912,\n",
       "       913, 914, 915, 916, 917, 918, 919, 920, 921, 922, 923, 924, 925,\n",
       "       926, 927, 928, 929, 930, 931, 932, 933, 934, 935, 936, 937, 938,\n",
       "       939, 940, 941, 942, 943, 944, 945, 946, 947, 948, 949, 950, 951,\n",
       "       952, 953, 954, 955, 956, 957, 958, 959, 960, 961, 962, 963, 964,\n",
       "       965, 966, 967, 968, 969, 970, 971, 972, 973, 974, 975, 976, 977,\n",
       "       978, 979, 980, 981, 982, 983, 984, 985, 986, 987, 988, 989, 990,\n",
       "       991, 992, 993, 994, 995, 996, 997, 998, 999])"
      ]
     },
     "execution_count": 24,
     "metadata": {},
     "output_type": "execute_result"
    }
   ],
   "source": [
    "np.arange(900,1000)"
   ]
  },
  {
   "cell_type": "code",
   "execution_count": 27,
   "metadata": {},
   "outputs": [
    {
     "data": {
      "text/plain": [
       "array([ 1.,  2.,  3.,  4.,  5.,  6.,  7.,  8.,  9., 10.])"
      ]
     },
     "execution_count": 27,
     "metadata": {},
     "output_type": "execute_result"
    }
   ],
   "source": [
    "np.linspace(1,10, num = 10)"
   ]
  },
  {
   "cell_type": "code",
   "execution_count": 29,
   "metadata": {},
   "outputs": [
    {
     "data": {
      "text/plain": [
       "array([  1.        ,   1.49748744,   1.99497487,   2.49246231,\n",
       "         2.98994975,   3.48743719,   3.98492462,   4.48241206,\n",
       "         4.9798995 ,   5.47738693,   5.97487437,   6.47236181,\n",
       "         6.96984925,   7.46733668,   7.96482412,   8.46231156,\n",
       "         8.95979899,   9.45728643,   9.95477387,  10.45226131,\n",
       "        10.94974874,  11.44723618,  11.94472362,  12.44221106,\n",
       "        12.93969849,  13.43718593,  13.93467337,  14.4321608 ,\n",
       "        14.92964824,  15.42713568,  15.92462312,  16.42211055,\n",
       "        16.91959799,  17.41708543,  17.91457286,  18.4120603 ,\n",
       "        18.90954774,  19.40703518,  19.90452261,  20.40201005,\n",
       "        20.89949749,  21.39698492,  21.89447236,  22.3919598 ,\n",
       "        22.88944724,  23.38693467,  23.88442211,  24.38190955,\n",
       "        24.87939698,  25.37688442,  25.87437186,  26.3718593 ,\n",
       "        26.86934673,  27.36683417,  27.86432161,  28.36180905,\n",
       "        28.85929648,  29.35678392,  29.85427136,  30.35175879,\n",
       "        30.84924623,  31.34673367,  31.84422111,  32.34170854,\n",
       "        32.83919598,  33.33668342,  33.83417085,  34.33165829,\n",
       "        34.82914573,  35.32663317,  35.8241206 ,  36.32160804,\n",
       "        36.81909548,  37.31658291,  37.81407035,  38.31155779,\n",
       "        38.80904523,  39.30653266,  39.8040201 ,  40.30150754,\n",
       "        40.79899497,  41.29648241,  41.79396985,  42.29145729,\n",
       "        42.78894472,  43.28643216,  43.7839196 ,  44.28140704,\n",
       "        44.77889447,  45.27638191,  45.77386935,  46.27135678,\n",
       "        46.76884422,  47.26633166,  47.7638191 ,  48.26130653,\n",
       "        48.75879397,  49.25628141,  49.75376884,  50.25125628,\n",
       "        50.74874372,  51.24623116,  51.74371859,  52.24120603,\n",
       "        52.73869347,  53.2361809 ,  53.73366834,  54.23115578,\n",
       "        54.72864322,  55.22613065,  55.72361809,  56.22110553,\n",
       "        56.71859296,  57.2160804 ,  57.71356784,  58.21105528,\n",
       "        58.70854271,  59.20603015,  59.70351759,  60.20100503,\n",
       "        60.69849246,  61.1959799 ,  61.69346734,  62.19095477,\n",
       "        62.68844221,  63.18592965,  63.68341709,  64.18090452,\n",
       "        64.67839196,  65.1758794 ,  65.67336683,  66.17085427,\n",
       "        66.66834171,  67.16582915,  67.66331658,  68.16080402,\n",
       "        68.65829146,  69.15577889,  69.65326633,  70.15075377,\n",
       "        70.64824121,  71.14572864,  71.64321608,  72.14070352,\n",
       "        72.63819095,  73.13567839,  73.63316583,  74.13065327,\n",
       "        74.6281407 ,  75.12562814,  75.62311558,  76.12060302,\n",
       "        76.61809045,  77.11557789,  77.61306533,  78.11055276,\n",
       "        78.6080402 ,  79.10552764,  79.60301508,  80.10050251,\n",
       "        80.59798995,  81.09547739,  81.59296482,  82.09045226,\n",
       "        82.5879397 ,  83.08542714,  83.58291457,  84.08040201,\n",
       "        84.57788945,  85.07537688,  85.57286432,  86.07035176,\n",
       "        86.5678392 ,  87.06532663,  87.56281407,  88.06030151,\n",
       "        88.55778894,  89.05527638,  89.55276382,  90.05025126,\n",
       "        90.54773869,  91.04522613,  91.54271357,  92.04020101,\n",
       "        92.53768844,  93.03517588,  93.53266332,  94.03015075,\n",
       "        94.52763819,  95.02512563,  95.52261307,  96.0201005 ,\n",
       "        96.51758794,  97.01507538,  97.51256281,  98.01005025,\n",
       "        98.50753769,  99.00502513,  99.50251256, 100.        ])"
      ]
     },
     "execution_count": 29,
     "metadata": {},
     "output_type": "execute_result"
    }
   ],
   "source": [
    "np.linspace(1, 100, num= 200)"
   ]
  },
  {
   "cell_type": "code",
   "execution_count": 34,
   "metadata": {},
   "outputs": [
    {
     "name": "stdout",
     "output_type": "stream",
     "text": [
      "7\n",
      "8\n",
      "9\n"
     ]
    }
   ],
   "source": [
    "print(arraysaya[6])\n",
    "print(arraysaya[7])\n",
    "print(arraysaya[8])"
   ]
  },
  {
   "cell_type": "code",
   "execution_count": 8,
   "metadata": {},
   "outputs": [
    {
     "name": "stdout",
     "output_type": "stream",
     "text": [
      "11\n",
      "12\n",
      "13\n",
      "14\n",
      "15\n"
     ]
    }
   ],
   "source": [
    "import numpy as np\n",
    "# NUMPY ARRAY\n",
    "#ACCESSING ELEMENT\n",
    "\n",
    "arraysaya = np.array([ 11, 12, 13, 14, 15, 16, 17, 18, 19, 20])\n",
    "print(arraysaya[0])\n",
    "print(arraysaya[1])\n",
    "print(arraysaya[2])\n",
    "print(arraysaya[3])\n",
    "print(arraysaya[4])"
   ]
  },
  {
   "cell_type": "code",
   "execution_count": 16,
   "metadata": {},
   "outputs": [
    {
     "name": "stdout",
     "output_type": "stream",
     "text": [
      "[1 2 3]\n",
      "[4 5 6]\n",
      "[7 8 9]\n",
      "2\n",
      "5\n",
      "8\n"
     ]
    }
   ],
   "source": [
    "arraysaya2 = np.array([[1, 2, 3],\n",
    "                      [4, 5, 6],\n",
    "                      [7, 8, 9]])\n",
    "\n",
    "print(arraysaya2[0])\n",
    "print(arraysaya2[1])\n",
    "print(arraysaya2[2])\n",
    "\n",
    "\n",
    "print(arraysaya2[0][1])\n",
    "print(arraysaya2[1][1])\n",
    "print(arraysaya2[2][1])\n"
   ]
  },
  {
   "cell_type": "code",
   "execution_count": 32,
   "metadata": {},
   "outputs": [
    {
     "data": {
      "text/plain": [
       "array([3, 2, 1, 2, 3, 3, 3, 3, 3, 1, 4, 3, 4, 2, 2, 1, 4, 4, 1, 4, 2, 1,\n",
       "       2, 3, 4, 1, 2, 4, 2, 1, 2, 1, 4, 4, 2, 1, 2, 4, 2, 1, 4, 1, 3, 3,\n",
       "       3, 3, 2, 2, 4, 4, 2, 2, 2, 3, 2, 1, 1, 1, 1, 4, 3, 2, 4, 3, 3, 2,\n",
       "       3, 2, 2, 3, 2, 4, 2, 3, 2, 1, 1, 3, 4, 2, 3, 2, 4, 3, 1, 1, 4, 4,\n",
       "       1, 4, 4, 2, 4, 3, 3, 4, 4, 3, 2, 1])"
      ]
     },
     "execution_count": 32,
     "metadata": {},
     "output_type": "execute_result"
    }
   ],
   "source": [
    "np.random.randint(1, 5, size = 100)"
   ]
  },
  {
   "cell_type": "code",
   "execution_count": 33,
   "metadata": {},
   "outputs": [
    {
     "data": {
      "text/plain": [
       "array([[1, 4, 2],\n",
       "       [2, 3, 3],\n",
       "       [4, 4, 3]])"
      ]
     },
     "execution_count": 33,
     "metadata": {},
     "output_type": "execute_result"
    }
   ],
   "source": [
    "np.random.randint(1, 5, size = (3, 3))"
   ]
  },
  {
   "cell_type": "code",
   "execution_count": 34,
   "metadata": {},
   "outputs": [
    {
     "name": "stdout",
     "output_type": "stream",
     "text": [
      "[[4 2 4 1 4 1 1 4 3]\n",
      " [1 2 1 1 1 2 2 4 4]\n",
      " [4 1 1 2 2 2 1 2 4]\n",
      " [1 3 4 4 4 1 4 4 1]\n",
      " [3 2 1 2 1 3 2 3 3]\n",
      " [1 1 2 4 4 2 4 3 3]\n",
      " [3 2 4 4 4 1 2 3 1]\n",
      " [2 3 4 4 1 4 4 4 4]\n",
      " [2 2 2 3 2 3 1 4 2]]\n"
     ]
    }
   ],
   "source": [
    "simpan = np.random.randint(1, 5, size = (9, 9))\n",
    "print(simpan)"
   ]
  },
  {
   "cell_type": "code",
   "execution_count": 37,
   "metadata": {},
   "outputs": [
    {
     "data": {
      "text/plain": [
       "array([[4, 2, 4, 1, 4, 1, 1, 4, 3],\n",
       "       [1, 2, 1, 1, 1, 2, 2, 4, 4],\n",
       "       [4, 1, 1, 2, 2, 2, 1, 2, 4]])"
      ]
     },
     "execution_count": 37,
     "metadata": {},
     "output_type": "execute_result"
    }
   ],
   "source": [
    "simpan[0:3]"
   ]
  },
  {
   "cell_type": "code",
   "execution_count": 40,
   "metadata": {},
   "outputs": [
    {
     "data": {
      "text/plain": [
       "array([4, 1, 2, 4, 1, 4, 4, 1, 2])"
      ]
     },
     "execution_count": 40,
     "metadata": {},
     "output_type": "execute_result"
    }
   ],
   "source": [
    "simpan[:,4]"
   ]
  },
  {
   "cell_type": "code",
   "execution_count": 43,
   "metadata": {},
   "outputs": [
    {
     "data": {
      "text/plain": [
       "array([[1, 2],\n",
       "       [3, 4],\n",
       "       [5, 6]])"
      ]
     },
     "execution_count": 43,
     "metadata": {},
     "output_type": "execute_result"
    }
   ],
   "source": [
    "data = np.array([[1, 2],\n",
    "                [3, 4], \n",
    "                [5, 6]])\n",
    "\n",
    "data"
   ]
  },
  {
   "cell_type": "code",
   "execution_count": 44,
   "metadata": {},
   "outputs": [
    {
     "data": {
      "text/plain": [
       "2"
      ]
     },
     "execution_count": 44,
     "metadata": {},
     "output_type": "execute_result"
    }
   ],
   "source": [
    "data[0, 1]"
   ]
  },
  {
   "cell_type": "code",
   "execution_count": 45,
   "metadata": {},
   "outputs": [
    {
     "data": {
      "text/plain": [
       "array([[3, 4],\n",
       "       [5, 6]])"
      ]
     },
     "execution_count": 45,
     "metadata": {},
     "output_type": "execute_result"
    }
   ],
   "source": [
    "data[1:3]"
   ]
  },
  {
   "cell_type": "code",
   "execution_count": 46,
   "metadata": {},
   "outputs": [
    {
     "data": {
      "text/plain": [
       "array([1, 3])"
      ]
     },
     "execution_count": 46,
     "metadata": {},
     "output_type": "execute_result"
    }
   ],
   "source": [
    "data[0:2, 0]"
   ]
  },
  {
   "cell_type": "code",
   "execution_count": 1,
   "metadata": {},
   "outputs": [],
   "source": [
    "import numpy as np\n",
    "arr = np.array([[1, 2], \n",
    "                [3, 4],\n",
    "                [5, 6]])"
   ]
  },
  {
   "cell_type": "code",
   "execution_count": 2,
   "metadata": {},
   "outputs": [
    {
     "data": {
      "text/plain": [
       "array([[1, 3, 5],\n",
       "       [2, 4, 6]])"
      ]
     },
     "execution_count": 2,
     "metadata": {},
     "output_type": "execute_result"
    }
   ],
   "source": [
    "arr.transpose()"
   ]
  },
  {
   "cell_type": "code",
   "execution_count": 8,
   "metadata": {},
   "outputs": [
    {
     "name": "stdout",
     "output_type": "stream",
     "text": [
      "[[ 1  2  3  4  5]\n",
      " [ 6  7  8  9 10]]\n",
      "[[ 1  2]\n",
      " [ 3  4]\n",
      " [ 5  6]\n",
      " [ 7  8]\n",
      " [ 9 10]]\n",
      "[[ 1]\n",
      " [ 2]\n",
      " [ 3]\n",
      " [ 4]\n",
      " [ 5]\n",
      " [ 6]\n",
      " [ 7]\n",
      " [ 8]\n",
      " [ 9]\n",
      " [10]]\n",
      "[[ 1  2  3  4  5  6  7  8  9 10]]\n"
     ]
    }
   ],
   "source": [
    "arr = np.array([1, 2, 3, 4, 5, 6, 7, 8, 9, 10])\n",
    "print(arr.reshape((2, 5)))\n",
    "print(arr.reshape((5, 2)))\n",
    "print(arr.reshape((10, 1)))\n",
    "print(arr.reshape((1, 10)))"
   ]
  },
  {
   "cell_type": "code",
   "execution_count": 10,
   "metadata": {},
   "outputs": [
    {
     "data": {
      "text/plain": [
       "array([[ 1,  6],\n",
       "       [ 2,  7],\n",
       "       [ 3,  8],\n",
       "       [ 4,  9],\n",
       "       [ 5, 10]])"
      ]
     },
     "execution_count": 10,
     "metadata": {},
     "output_type": "execute_result"
    }
   ],
   "source": [
    "arr.reshape((2, 5)).T"
   ]
  },
  {
   "cell_type": "code",
   "execution_count": 15,
   "metadata": {},
   "outputs": [
    {
     "data": {
      "text/plain": [
       "array([[1, 2, 3],\n",
       "       [4, 5, 6],\n",
       "       [7, 8, 9]])"
      ]
     },
     "execution_count": 15,
     "metadata": {},
     "output_type": "execute_result"
    }
   ],
   "source": [
    "grid = np.arange(1, 10).reshape(3, 3)\n",
    "grid"
   ]
  },
  {
   "cell_type": "code",
   "execution_count": 21,
   "metadata": {},
   "outputs": [
    {
     "data": {
      "text/plain": [
       "array([[1, 2, 3, 4, 5, 6, 7, 8, 9]])"
      ]
     },
     "execution_count": 21,
     "metadata": {},
     "output_type": "execute_result"
    }
   ],
   "source": [
    "oneD = np.arange(1, 10).reshape(1, 9)\n",
    "oneD"
   ]
  },
  {
   "cell_type": "code",
   "execution_count": 27,
   "metadata": {},
   "outputs": [
    {
     "name": "stdout",
     "output_type": "stream",
     "text": [
      "[[1 2 3]]\n",
      "[[1 2 3]]\n",
      "[[1]\n",
      " [2]\n",
      " [3]]\n",
      "[[1]\n",
      " [2]\n",
      " [3]]\n"
     ]
    }
   ],
   "source": [
    "x = np.array([1, 2, 3])\n",
    "\n",
    "print(x.reshape((1,3)))\n",
    "print(x[np.newaxis, :])\n",
    "\n",
    "\n",
    "print(x.reshape((3,1)))\n",
    "print(x[:, np.newaxis])"
   ]
  },
  {
   "cell_type": "code",
   "execution_count": 33,
   "metadata": {},
   "outputs": [
    {
     "name": "stdout",
     "output_type": "stream",
     "text": [
      "[1 2 3 1 2 3 1 2 3 1 2 3]\n",
      "[[1 2 3]\n",
      " [1 2 3]]\n",
      "[1 2 3 1 2 3]\n"
     ]
    }
   ],
   "source": [
    "# Array concatination (menggabungkan array)\n",
    "\n",
    "#1 dimension\n",
    "print(np.concatenate([x, x, x, x]))\n",
    "\n",
    "print(np.vstack([x, x]))\n",
    "\n",
    "print(np.hstack([x, x]))"
   ]
  },
  {
   "cell_type": "code",
   "execution_count": 15,
   "metadata": {},
   "outputs": [
    {
     "name": "stdout",
     "output_type": "stream",
     "text": [
      "[[2 2 2]\n",
      " [2 2 2]\n",
      " [2 2 2]\n",
      " [2 2 2]]\n",
      "[[2 2 2]\n",
      " [2 2 2]\n",
      " [2 2 2]\n",
      " [2 2 2]]\n",
      "[[2 2 2]\n",
      " [2 2 2]\n",
      " [1 1 1]]\n",
      "[[2 2 2 2 2 2]\n",
      " [2 2 2 2 2 2]]\n"
     ]
    }
   ],
   "source": [
    "# Dua  dimensi : sambung pertemuan selanjutnya\n",
    "import numpy as np\n",
    "\n",
    "duadimensi = np.array([[2, 2, 2], \n",
    "                      [2, 2, 2]])\n",
    "\n",
    "satudimensi1 = np.array([1, 1])\n",
    "satudimensi2 = np.array([1, 1, 1])\n",
    "\n",
    "print(np.concatenate([duadimensi, duadimensi]))\n",
    "\n",
    "\n",
    "print(np.vstack([duadimensi, duadimensi]))\n",
    "print(np.vstack([duadimensi, satudimensi2]))\n",
    "\n",
    "print(np.hstack([duadimensi, duadimensi]))\n"
   ]
  },
  {
   "cell_type": "code",
   "execution_count": 30,
   "metadata": {},
   "outputs": [
    {
     "name": "stdout",
     "output_type": "stream",
     "text": [
      "(2, 3)\n",
      "(3, 2)\n",
      "\n",
      "Concatenate:\n",
      "[[2 2 2]\n",
      " [2 2 2]\n",
      " [2 2 2]\n",
      " [2 2 2]]\n",
      "[[2 2]\n",
      " [2 2]\n",
      " [2 2]\n",
      " [2 2]\n",
      " [2 2]\n",
      " [2 2]]\n",
      "\n",
      "hstack:\n",
      "[[2 2 2 2 2 2]\n",
      " [2 2 2 2 2 2]]\n",
      "[[2 2 2 2]\n",
      " [2 2 2 2]\n",
      " [2 2 2 2]]\n",
      "\n",
      "vstack:\n",
      "[[2 2 2]\n",
      " [2 2 2]\n",
      " [2 2 2]\n",
      " [2 2 2]]\n",
      "[[2 2]\n",
      " [2 2]\n",
      " [2 2]\n",
      " [2 2]\n",
      " [2 2]\n",
      " [2 2]]\n"
     ]
    }
   ],
   "source": [
    "duadimensi1 = np.array([[2, 2, 2], \n",
    "                        [2, 2, 2]])\n",
    "\n",
    "duadimensi2 = np.array([[2, 2], \n",
    "                        [2, 2],\n",
    "                        [2, 2]])\n",
    "\n",
    "print(duadimensi1.shape)\n",
    "print(duadimensi2.shape)\n",
    "\n",
    "print()\n",
    "print(\"Concatenate:\")\n",
    "print(np.concatenate([duadimensi1, duadimensi1]))\n",
    "print(np.concatenate([duadimensi2, duadimensi2]))\n",
    "# print(np.concatenate([duadimensi1, duadimensi2]))\n",
    "# print(np.concatenate([duadimensi2, duadimensi1]))\n",
    "\n",
    "print()\n",
    "print(\"hstack:\")\n",
    "print(np.hstack([duadimensi1, duadimensi1]))\n",
    "print(np.hstack([duadimensi2, duadimensi2]))\n",
    "# print(np.hstack([duadimensi1, duadimensi2]))\n",
    "# print(np.hstack([duadimensi2, duadimensi1]))\n",
    "\n",
    "\n",
    "\n",
    "print()\n",
    "print(\"vstack:\")\n",
    "print(np.vstack([duadimensi1, duadimensi1]))\n",
    "print(np.vstack([duadimensi2, duadimensi2]))\n",
    "# print(np.vstack([duadimensi1, duadimensi2]))\n",
    "# print(np.vstack([duadimensi2, duadimensi1]))"
   ]
  },
  {
   "cell_type": "code",
   "execution_count": 7,
   "metadata": {},
   "outputs": [
    {
     "name": "stdout",
     "output_type": "stream",
     "text": [
      "[1 2 3]\n",
      "[99 99]\n",
      "[3 2 1]\n"
     ]
    }
   ],
   "source": [
    "import numpy as np\n",
    "\n",
    "x = [1, 2, 3, 99, 99, 3, 2, 1]\n",
    "\n",
    "list1, list2, list3 = np.split(x, [3, 5])\n",
    "\n",
    "print(list1)\n",
    "print(list2)\n",
    "print(list3)"
   ]
  },
  {
   "cell_type": "code",
   "execution_count": 18,
   "metadata": {},
   "outputs": [
    {
     "name": "stdout",
     "output_type": "stream",
     "text": [
      "[[ 1  2  3]\n",
      " [ 4  5  6]\n",
      " [ 7  8  9]\n",
      " [10 11 12]\n",
      " [13 14 15]]\n",
      "[[1 2 3]\n",
      " [4 5 6]]\n",
      "[[ 7  8  9]\n",
      " [10 11 12]\n",
      " [13 14 15]]\n"
     ]
    }
   ],
   "source": [
    "grid = np.arange(1,16).reshape(5,3)\n",
    "print(grid)\n",
    "\n",
    "\n",
    "atas, bawah = np.vsplit(grid, [2])\n",
    "print(atas)\n",
    "print(bawah)"
   ]
  },
  {
   "cell_type": "code",
   "execution_count": 19,
   "metadata": {},
   "outputs": [
    {
     "name": "stdout",
     "output_type": "stream",
     "text": [
      "[[ 1]\n",
      " [ 4]\n",
      " [ 7]\n",
      " [10]\n",
      " [13]]\n",
      "[[ 2  3]\n",
      " [ 5  6]\n",
      " [ 8  9]\n",
      " [11 12]\n",
      " [14 15]]\n"
     ]
    }
   ],
   "source": [
    "kiri, kanan = np.hsplit(grid, [1])\n",
    "print(kiri)\n",
    "print(kanan)"
   ]
  },
  {
   "cell_type": "code",
   "execution_count": 23,
   "metadata": {},
   "outputs": [
    {
     "data": {
      "text/plain": [
       "[1, 2, 3, 4, 5, 2, 2, 2, 2, 2]"
      ]
     },
     "execution_count": 23,
     "metadata": {},
     "output_type": "execute_result"
    }
   ],
   "source": [
    "list1 = [1, 2, 3, 4, 5]\n",
    "list2 = [2, 2, 2, 2, 2]\n",
    "\n",
    "list1 + list2"
   ]
  },
  {
   "cell_type": "code",
   "execution_count": 25,
   "metadata": {},
   "outputs": [
    {
     "data": {
      "text/plain": [
       "array([3, 4, 5, 6, 7])"
      ]
     },
     "execution_count": 25,
     "metadata": {},
     "output_type": "execute_result"
    }
   ],
   "source": [
    "array1 = np.array([1, 2, 3, 4, 5])\n",
    "array2 = np.array([2, 2, 2, 2, 2])\n",
    "\n",
    "array1 + array2"
   ]
  },
  {
   "cell_type": "code",
   "execution_count": 2,
   "metadata": {},
   "outputs": [
    {
     "data": {
      "text/plain": [
       "array([ 2,  4,  6,  8, 10])"
      ]
     },
     "execution_count": 2,
     "metadata": {},
     "output_type": "execute_result"
    }
   ],
   "source": [
    "import numpy as np\n",
    "\n",
    "array1 = np.array([1, 2, 3, 4, 5])\n",
    "array2 = np.array([2, 2, 2, 2, 2])\n",
    "\n",
    "array1 * array2"
   ]
  },
  {
   "cell_type": "code",
   "execution_count": 3,
   "metadata": {},
   "outputs": [
    {
     "data": {
      "text/plain": [
       "array([-1,  0,  1,  2,  3])"
      ]
     },
     "execution_count": 3,
     "metadata": {},
     "output_type": "execute_result"
    }
   ],
   "source": [
    "import numpy as np\n",
    "\n",
    "array1 = np.array([1, 2, 3, 4, 5])\n",
    "array2 = np.array([2, 2, 2, 2, 2])\n",
    "\n",
    "array1 - array2"
   ]
  },
  {
   "cell_type": "code",
   "execution_count": 4,
   "metadata": {},
   "outputs": [
    {
     "data": {
      "text/plain": [
       "array([0.5, 1. , 1.5, 2. , 2.5])"
      ]
     },
     "execution_count": 4,
     "metadata": {},
     "output_type": "execute_result"
    }
   ],
   "source": [
    "import numpy as np\n",
    "\n",
    "array1 = np.array([1, 2, 3, 4, 5])\n",
    "array2 = np.array([2, 2, 2, 2, 2])\n",
    "\n",
    "array1 / array2"
   ]
  },
  {
   "cell_type": "code",
   "execution_count": 8,
   "metadata": {},
   "outputs": [
    {
     "name": "stdout",
     "output_type": "stream",
     "text": [
      "[3 4 5 6 7]\n",
      "[ 3  6  9 12 15]\n",
      "[0.33333333 0.66666667 1.         1.33333333 1.66666667]\n",
      "[-2 -1  0  1  2]\n"
     ]
    }
   ],
   "source": [
    "print(array1 + 2)\n",
    "print(array1 * 3)\n",
    "print(array1 / 3)\n",
    "print(array1 - 3)"
   ]
  },
  {
   "cell_type": "code",
   "execution_count": 10,
   "metadata": {},
   "outputs": [
    {
     "data": {
      "text/plain": [
       "5"
      ]
     },
     "execution_count": 10,
     "metadata": {},
     "output_type": "execute_result"
    }
   ],
   "source": [
    "array3 = np.array([22, 44, 66, 11, 12, 5, 66, 7, 8])\n",
    "\n",
    "np.min(array3)"
   ]
  },
  {
   "cell_type": "code",
   "execution_count": 11,
   "metadata": {},
   "outputs": [
    {
     "data": {
      "text/plain": [
       "66"
      ]
     },
     "execution_count": 11,
     "metadata": {},
     "output_type": "execute_result"
    }
   ],
   "source": [
    "np.max(array3)"
   ]
  },
  {
   "cell_type": "code",
   "execution_count": 26,
   "metadata": {},
   "outputs": [
    {
     "name": "stdout",
     "output_type": "stream",
     "text": [
      "21\n",
      "[ 6 15]\n",
      "[5 7 9]\n",
      "6\n",
      "[3 6]\n",
      "[4 5 6]\n",
      "1\n",
      "[1 4]\n",
      "[1 2 3]\n"
     ]
    }
   ],
   "source": [
    "array4 = np.array([[1, 2, 3], [4, 5, 6]])\n",
    "\n",
    "print(np.sum(array4))\n",
    "print(np.sum(array4, axis=1))\n",
    "print(np.sum(array4, axis=0))\n",
    "\n",
    "\n",
    "print(np.max(array4))\n",
    "print(np.max(array4, axis = 1))\n",
    "print(np.max(array4, axis = 0))\n",
    "\n",
    "print(np.min(array4))\n",
    "print(np.min(array4, axis = 1))\n",
    "print(np.min(array4, axis = 0))"
   ]
  },
  {
   "cell_type": "code",
   "execution_count": 28,
   "metadata": {},
   "outputs": [
    {
     "data": {
      "text/html": [
       "<div>\n",
       "<style scoped>\n",
       "    .dataframe tbody tr th:only-of-type {\n",
       "        vertical-align: middle;\n",
       "    }\n",
       "\n",
       "    .dataframe tbody tr th {\n",
       "        vertical-align: top;\n",
       "    }\n",
       "\n",
       "    .dataframe thead th {\n",
       "        text-align: right;\n",
       "    }\n",
       "</style>\n",
       "<table border=\"1\" class=\"dataframe\">\n",
       "  <thead>\n",
       "    <tr style=\"text-align: right;\">\n",
       "      <th></th>\n",
       "      <th>nama</th>\n",
       "      <th>nilai</th>\n",
       "    </tr>\n",
       "  </thead>\n",
       "  <tbody>\n",
       "    <tr>\n",
       "      <th>0</th>\n",
       "      <td>Abid</td>\n",
       "      <td>99</td>\n",
       "    </tr>\n",
       "    <tr>\n",
       "      <th>1</th>\n",
       "      <td>Ezzar</td>\n",
       "      <td>99</td>\n",
       "    </tr>\n",
       "    <tr>\n",
       "      <th>2</th>\n",
       "      <td>Elang</td>\n",
       "      <td>100</td>\n",
       "    </tr>\n",
       "  </tbody>\n",
       "</table>\n",
       "</div>"
      ],
      "text/plain": [
       "    nama  nilai\n",
       "0   Abid     99\n",
       "1  Ezzar     99\n",
       "2  Elang    100"
      ]
     },
     "execution_count": 28,
     "metadata": {},
     "output_type": "execute_result"
    }
   ],
   "source": [
    "import pandas as pd\n",
    "\n",
    "\n",
    "data = {'nama' : ['Abid', \"Ezzar\", \"Elang\"],\n",
    "        'nilai' : [99, 99, 100]}\n",
    "\n",
    "\n",
    "pd.DataFrame(data)"
   ]
  },
  {
   "cell_type": "code",
   "execution_count": 30,
   "metadata": {},
   "outputs": [
    {
     "data": {
      "text/html": [
       "<div>\n",
       "<style scoped>\n",
       "    .dataframe tbody tr th:only-of-type {\n",
       "        vertical-align: middle;\n",
       "    }\n",
       "\n",
       "    .dataframe tbody tr th {\n",
       "        vertical-align: top;\n",
       "    }\n",
       "\n",
       "    .dataframe thead th {\n",
       "        text-align: right;\n",
       "    }\n",
       "</style>\n",
       "<table border=\"1\" class=\"dataframe\">\n",
       "  <thead>\n",
       "    <tr style=\"text-align: right;\">\n",
       "      <th></th>\n",
       "      <th>nama buah</th>\n",
       "      <th>harga buah</th>\n",
       "    </tr>\n",
       "  </thead>\n",
       "  <tbody>\n",
       "    <tr>\n",
       "      <th>0</th>\n",
       "      <td>Jeruk</td>\n",
       "      <td>11000</td>\n",
       "    </tr>\n",
       "    <tr>\n",
       "      <th>1</th>\n",
       "      <td>Apple</td>\n",
       "      <td>90000</td>\n",
       "    </tr>\n",
       "    <tr>\n",
       "      <th>2</th>\n",
       "      <td>Anggur</td>\n",
       "      <td>89800</td>\n",
       "    </tr>\n",
       "  </tbody>\n",
       "</table>\n",
       "</div>"
      ],
      "text/plain": [
       "  nama buah  harga buah\n",
       "0     Jeruk       11000\n",
       "1     Apple       90000\n",
       "2    Anggur       89800"
      ]
     },
     "execution_count": 30,
     "metadata": {},
     "output_type": "execute_result"
    }
   ],
   "source": [
    "data = {'nama buah' : ['Jeruk', \"Apple\", \"Anggur\"],\n",
    "        'harga buah' : [11000, 90000, 89800]}\n",
    "\n",
    "pd.DataFrame(data)"
   ]
  },
  {
   "cell_type": "code",
   "execution_count": 2,
   "metadata": {},
   "outputs": [
    {
     "data": {
      "text/html": [
       "<div>\n",
       "<style scoped>\n",
       "    .dataframe tbody tr th:only-of-type {\n",
       "        vertical-align: middle;\n",
       "    }\n",
       "\n",
       "    .dataframe tbody tr th {\n",
       "        vertical-align: top;\n",
       "    }\n",
       "\n",
       "    .dataframe thead th {\n",
       "        text-align: right;\n",
       "    }\n",
       "</style>\n",
       "<table border=\"1\" class=\"dataframe\">\n",
       "  <thead>\n",
       "    <tr style=\"text-align: right;\">\n",
       "      <th></th>\n",
       "      <th>Ezzar</th>\n",
       "      <th>Elang</th>\n",
       "    </tr>\n",
       "  </thead>\n",
       "  <tbody>\n",
       "    <tr>\n",
       "      <th>Matematika</th>\n",
       "      <td>90</td>\n",
       "      <td>80</td>\n",
       "    </tr>\n",
       "    <tr>\n",
       "      <th>Bahasa Inggris</th>\n",
       "      <td>90</td>\n",
       "      <td>80</td>\n",
       "    </tr>\n",
       "    <tr>\n",
       "      <th>Coding</th>\n",
       "      <td>70</td>\n",
       "      <td>80</td>\n",
       "    </tr>\n",
       "    <tr>\n",
       "      <th>Ipa</th>\n",
       "      <td>80</td>\n",
       "      <td>70</td>\n",
       "    </tr>\n",
       "    <tr>\n",
       "      <th>IPS</th>\n",
       "      <td>100</td>\n",
       "      <td>90</td>\n",
       "    </tr>\n",
       "  </tbody>\n",
       "</table>\n",
       "</div>"
      ],
      "text/plain": [
       "                Ezzar  Elang\n",
       "Matematika         90     80\n",
       "Bahasa Inggris     90     80\n",
       "Coding             70     80\n",
       "Ipa                80     70\n",
       "IPS               100     90"
      ]
     },
     "execution_count": 2,
     "metadata": {},
     "output_type": "execute_result"
    }
   ],
   "source": [
    "import pandas as pd\n",
    "\n",
    "data = {'Ezzar' : [90, 90, 70, 80, 100],\n",
    "        'Elang' : [80, 80, 80, 70, 90]}\n",
    "\n",
    "pd.DataFrame(data, index = [\"Matematika\", 'Bahasa Inggris', \"Coding\", \"Ipa\", \"IPS\"])"
   ]
  },
  {
   "cell_type": "code",
   "execution_count": 8,
   "metadata": {},
   "outputs": [
    {
     "name": "stdout",
     "output_type": "stream",
     "text": [
      "Ezzar    90\n",
      "Elang    80\n",
      "Name: Matematika, dtype: int64\n",
      "#############\n",
      "\n",
      "Ezzar    80\n",
      "Elang    70\n",
      "Name: Ipa, dtype: int64\n",
      "#############\n",
      "\n",
      "Ezzar    90\n",
      "Elang    80\n",
      "Name: Bahasa Inggris, dtype: int64\n",
      "#############\n",
      "\n",
      "Ezzar    70\n",
      "Elang    80\n",
      "Name: Coding, dtype: int64\n",
      "#############\n",
      "\n",
      "Ezzar    100\n",
      "Elang     90\n",
      "Name: IPS, dtype: int64\n"
     ]
    }
   ],
   "source": [
    "import pandas as pd\n",
    "\n",
    "data = {'Ezzar' : [90, 90, 70, 80, 100],\n",
    "        'Elang' : [80, 80, 80, 70, 90]}\n",
    "\n",
    "new = pd.DataFrame(data, index = [\"Matematika\", 'Bahasa Inggris', \"Coding\", \"Ipa\", \"IPS\"])\n",
    "\n",
    "print(new.loc['Matematika'])\n",
    "print(\"#############\")\n",
    "print()\n",
    "print(new.loc['Ipa'])\n",
    "print(\"#############\")\n",
    "print()\n",
    "print(new.loc['Bahasa Inggris'])\n",
    "print(\"#############\")\n",
    "print()\n",
    "print(new.loc['Coding'])\n",
    "print(\"#############\")\n",
    "print()\n",
    "print(new.loc['IPS'])\n"
   ]
  },
  {
   "cell_type": "code",
   "execution_count": 10,
   "metadata": {},
   "outputs": [],
   "source": [
    "datasaya = pd.read_csv(\"vgsales.csv\")"
   ]
  },
  {
   "cell_type": "code",
   "execution_count": 18,
   "metadata": {},
   "outputs": [
    {
     "name": "stdout",
     "output_type": "stream",
     "text": [
      "   Rank               Name Platform    Year     Genre Publisher  NA_Sales  \\\n",
      "0     1         Wii Sports      Wii  2006.0    Sports  Nintendo     41.49   \n",
      "1     2  Super Mario Bros.      NES  1985.0  Platform  Nintendo     29.08   \n",
      "2     3     Mario Kart Wii      Wii  2008.0    Racing  Nintendo     15.85   \n",
      "\n",
      "   EU_Sales  JP_Sales  Other_Sales  Global_Sales  \n",
      "0     29.02      3.77         8.46         82.74  \n",
      "1      3.58      6.81         0.77         40.24  \n",
      "2     12.88      3.79         3.31         35.82  \n",
      "        Rank                                              Name Platform  \\\n",
      "16595  16598  SCORE International Baja 1000: The Official Game      PS2   \n",
      "16596  16599                                        Know How 2       DS   \n",
      "16597  16600                                  Spirits & Spells      GBA   \n",
      "\n",
      "         Year     Genre   Publisher  NA_Sales  EU_Sales  JP_Sales  \\\n",
      "16595  2008.0    Racing  Activision      0.00      0.00       0.0   \n",
      "16596  2010.0    Puzzle    7G//AMES      0.00      0.01       0.0   \n",
      "16597  2003.0  Platform     Wanadoo      0.01      0.00       0.0   \n",
      "\n",
      "       Other_Sales  Global_Sales  \n",
      "16595          0.0          0.01  \n",
      "16596          0.0          0.01  \n",
      "16597          0.0          0.01  \n"
     ]
    }
   ],
   "source": [
    "print(datasaya.head(3))\n",
    "print(datasaya.tail(3))"
   ]
  },
  {
   "cell_type": "code",
   "execution_count": 19,
   "metadata": {},
   "outputs": [
    {
     "name": "stdout",
     "output_type": "stream",
     "text": [
      "<class 'pandas.core.frame.DataFrame'>\n",
      "RangeIndex: 16598 entries, 0 to 16597\n",
      "Data columns (total 11 columns):\n",
      " #   Column        Non-Null Count  Dtype  \n",
      "---  ------        --------------  -----  \n",
      " 0   Rank          16598 non-null  int64  \n",
      " 1   Name          16598 non-null  object \n",
      " 2   Platform      16598 non-null  object \n",
      " 3   Year          16327 non-null  float64\n",
      " 4   Genre         16598 non-null  object \n",
      " 5   Publisher     16540 non-null  object \n",
      " 6   NA_Sales      16598 non-null  float64\n",
      " 7   EU_Sales      16598 non-null  float64\n",
      " 8   JP_Sales      16598 non-null  float64\n",
      " 9   Other_Sales   16598 non-null  float64\n",
      " 10  Global_Sales  16598 non-null  float64\n",
      "dtypes: float64(6), int64(1), object(4)\n",
      "memory usage: 1.4+ MB\n"
     ]
    }
   ],
   "source": [
    "datasaya.info()"
   ]
  },
  {
   "cell_type": "code",
   "execution_count": 20,
   "metadata": {},
   "outputs": [
    {
     "data": {
      "text/html": [
       "<div>\n",
       "<style scoped>\n",
       "    .dataframe tbody tr th:only-of-type {\n",
       "        vertical-align: middle;\n",
       "    }\n",
       "\n",
       "    .dataframe tbody tr th {\n",
       "        vertical-align: top;\n",
       "    }\n",
       "\n",
       "    .dataframe thead th {\n",
       "        text-align: right;\n",
       "    }\n",
       "</style>\n",
       "<table border=\"1\" class=\"dataframe\">\n",
       "  <thead>\n",
       "    <tr style=\"text-align: right;\">\n",
       "      <th></th>\n",
       "      <th>Rank</th>\n",
       "      <th>Year</th>\n",
       "      <th>NA_Sales</th>\n",
       "      <th>EU_Sales</th>\n",
       "      <th>JP_Sales</th>\n",
       "      <th>Other_Sales</th>\n",
       "      <th>Global_Sales</th>\n",
       "    </tr>\n",
       "  </thead>\n",
       "  <tbody>\n",
       "    <tr>\n",
       "      <th>count</th>\n",
       "      <td>16598.000000</td>\n",
       "      <td>16327.000000</td>\n",
       "      <td>16598.000000</td>\n",
       "      <td>16598.000000</td>\n",
       "      <td>16598.000000</td>\n",
       "      <td>16598.000000</td>\n",
       "      <td>16598.000000</td>\n",
       "    </tr>\n",
       "    <tr>\n",
       "      <th>mean</th>\n",
       "      <td>8300.605254</td>\n",
       "      <td>2006.406443</td>\n",
       "      <td>0.264667</td>\n",
       "      <td>0.146652</td>\n",
       "      <td>0.077782</td>\n",
       "      <td>0.048063</td>\n",
       "      <td>0.537441</td>\n",
       "    </tr>\n",
       "    <tr>\n",
       "      <th>std</th>\n",
       "      <td>4791.853933</td>\n",
       "      <td>5.828981</td>\n",
       "      <td>0.816683</td>\n",
       "      <td>0.505351</td>\n",
       "      <td>0.309291</td>\n",
       "      <td>0.188588</td>\n",
       "      <td>1.555028</td>\n",
       "    </tr>\n",
       "    <tr>\n",
       "      <th>min</th>\n",
       "      <td>1.000000</td>\n",
       "      <td>1980.000000</td>\n",
       "      <td>0.000000</td>\n",
       "      <td>0.000000</td>\n",
       "      <td>0.000000</td>\n",
       "      <td>0.000000</td>\n",
       "      <td>0.010000</td>\n",
       "    </tr>\n",
       "    <tr>\n",
       "      <th>25%</th>\n",
       "      <td>4151.250000</td>\n",
       "      <td>2003.000000</td>\n",
       "      <td>0.000000</td>\n",
       "      <td>0.000000</td>\n",
       "      <td>0.000000</td>\n",
       "      <td>0.000000</td>\n",
       "      <td>0.060000</td>\n",
       "    </tr>\n",
       "    <tr>\n",
       "      <th>50%</th>\n",
       "      <td>8300.500000</td>\n",
       "      <td>2007.000000</td>\n",
       "      <td>0.080000</td>\n",
       "      <td>0.020000</td>\n",
       "      <td>0.000000</td>\n",
       "      <td>0.010000</td>\n",
       "      <td>0.170000</td>\n",
       "    </tr>\n",
       "    <tr>\n",
       "      <th>75%</th>\n",
       "      <td>12449.750000</td>\n",
       "      <td>2010.000000</td>\n",
       "      <td>0.240000</td>\n",
       "      <td>0.110000</td>\n",
       "      <td>0.040000</td>\n",
       "      <td>0.040000</td>\n",
       "      <td>0.470000</td>\n",
       "    </tr>\n",
       "    <tr>\n",
       "      <th>max</th>\n",
       "      <td>16600.000000</td>\n",
       "      <td>2020.000000</td>\n",
       "      <td>41.490000</td>\n",
       "      <td>29.020000</td>\n",
       "      <td>10.220000</td>\n",
       "      <td>10.570000</td>\n",
       "      <td>82.740000</td>\n",
       "    </tr>\n",
       "  </tbody>\n",
       "</table>\n",
       "</div>"
      ],
      "text/plain": [
       "               Rank          Year      NA_Sales      EU_Sales      JP_Sales  \\\n",
       "count  16598.000000  16327.000000  16598.000000  16598.000000  16598.000000   \n",
       "mean    8300.605254   2006.406443      0.264667      0.146652      0.077782   \n",
       "std     4791.853933      5.828981      0.816683      0.505351      0.309291   \n",
       "min        1.000000   1980.000000      0.000000      0.000000      0.000000   \n",
       "25%     4151.250000   2003.000000      0.000000      0.000000      0.000000   \n",
       "50%     8300.500000   2007.000000      0.080000      0.020000      0.000000   \n",
       "75%    12449.750000   2010.000000      0.240000      0.110000      0.040000   \n",
       "max    16600.000000   2020.000000     41.490000     29.020000     10.220000   \n",
       "\n",
       "        Other_Sales  Global_Sales  \n",
       "count  16598.000000  16598.000000  \n",
       "mean       0.048063      0.537441  \n",
       "std        0.188588      1.555028  \n",
       "min        0.000000      0.010000  \n",
       "25%        0.000000      0.060000  \n",
       "50%        0.010000      0.170000  \n",
       "75%        0.040000      0.470000  \n",
       "max       10.570000     82.740000  "
      ]
     },
     "execution_count": 20,
     "metadata": {},
     "output_type": "execute_result"
    }
   ],
   "source": [
    "datasaya.describe()"
   ]
  },
  {
   "cell_type": "code",
   "execution_count": 22,
   "metadata": {},
   "outputs": [
    {
     "data": {
      "text/plain": [
       "(16598, 11)"
      ]
     },
     "execution_count": 22,
     "metadata": {},
     "output_type": "execute_result"
    }
   ],
   "source": [
    "datasaya.shape"
   ]
  },
  {
   "cell_type": "code",
   "execution_count": 1,
   "metadata": {},
   "outputs": [],
   "source": [
    "# Lesson MATPLOTLIB\n",
    "\n",
    "import matplotlib.pyplot as plt\n",
    "import numpy as np"
   ]
  },
  {
   "cell_type": "code",
   "execution_count": 4,
   "metadata": {},
   "outputs": [
    {
     "data": {
      "text/plain": [
       "[<matplotlib.lines.Line2D at 0x2bf695496d0>]"
      ]
     },
     "execution_count": 4,
     "metadata": {},
     "output_type": "execute_result"
    },
    {
     "data": {
      "image/png": "[encoded data removed]",
      "text/plain": [
       "<Figure size 640x480 with 1 Axes>"
      ]
     },
     "metadata": {},
     "output_type": "display_data"
    }
   ],
   "source": [
    "plt.plot([4, 5, 6, 4, 5, 6])"
   ]
  },
  {
   "cell_type": "code",
   "execution_count": 9,
   "metadata": {},
   "outputs": [
    {
     "data": {
      "text/plain": [
       "[<matplotlib.lines.Line2D at 0x2bf69611dc0>]"
      ]
     },
     "execution_count": 9,
     "metadata": {},
     "output_type": "execute_result"
    },
    {
     "data": {
      "image/png": "[encoded data removed]",
      "text/plain": [
       "<Figure size 640x480 with 1 Axes>"
      ]
     },
     "metadata": {},
     "output_type": "display_data"
    }
   ],
   "source": [
    "plt.plot([1, 2, 3, 4, 5, 6, 7, 8, 9, 10, 9, 8, 7, 6, 5, 4, 3, 2, 1])\n",
    "plt.plot([5, 5, 5, 5, 5, 5, 5, 5, 5, 5, 5, 5, 5, 5, 5, 5, 5, 5, 5, 5])\n"
   ]
  },
  {
   "cell_type": "code",
   "execution_count": null,
   "metadata": {},
   "outputs": [],
   "source": []
  }
 ],
 "metadata": {
  "kernelspec": {
   "display_name": "Python 3",
   "language": "python",
   "name": "python3"
  },
  "language_info": {
   "codemirror_mode": {
    "name": "ipython",
    "version": 3
   },
   "file_extension": ".py",
   "mimetype": "text/x-python",
   "name": "python",
   "nbconvert_exporter": "python",
   "pygments_lexer": "ipython3",
   "version": "3.12.3"
  }
 },
 "nbformat": 4,
 "nbformat_minor": 2
}
