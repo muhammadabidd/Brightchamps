{
 "cells": [
  {
   "cell_type": "code",
   "execution_count": 1,
   "metadata": {},
   "outputs": [
    {
     "name": "stdout",
     "output_type": "stream",
     "text": [
      "Mu name is abid\n"
     ]
    }
   ],
   "source": [
    "print(\"Mu name is abid\")"
   ]
  },
  {
   "cell_type": "code",
   "execution_count": 2,
   "metadata": {},
   "outputs": [
    {
     "name": "stdout",
     "output_type": "stream",
     "text": [
      "Not Old\n"
     ]
    }
   ],
   "source": [
    "age = 12\n",
    "\n",
    "if age > 20 :\n",
    "    print('OLDDD')\n",
    "else :\n",
    "    print(\"Not Old\")"
   ]
  },
  {
   "cell_type": "code",
   "execution_count": 3,
   "metadata": {},
   "outputs": [
    {
     "name": "stdout",
     "output_type": "stream",
     "text": [
      "Not Old\n"
     ]
    }
   ],
   "source": [
    "age = 12\n",
    "\n",
    "if age > 20 :\n",
    "    print('OLDDD')\n",
    "else :\n",
    "    print(\"Not Old\")"
   ]
  },
  {
   "cell_type": "code",
   "execution_count": 4,
   "metadata": {},
   "outputs": [
    {
     "name": "stdout",
     "output_type": "stream",
     "text": [
      "Not Old\n"
     ]
    }
   ],
   "source": [
    "age = 12\n",
    "\n",
    "if age > 20 :\n",
    "    print('OLDDD')\n",
    "else :\n",
    "    print(\"Not Old\")"
   ]
  },
  {
   "cell_type": "code",
   "execution_count": 5,
   "metadata": {},
   "outputs": [
    {
     "name": "stdout",
     "output_type": "stream",
     "text": [
      "nama saya Muhasmadmas\n"
     ]
    }
   ],
   "source": [
    "12\n",
    "\n",
    "\n",
    "print(\"nama saya Muhasmadmas\")"
   ]
  },
  {
   "cell_type": "code",
   "execution_count": 6,
   "metadata": {},
   "outputs": [
    {
     "name": "stdout",
     "output_type": "stream",
     "text": [
      "Not Old\n"
     ]
    }
   ],
   "source": [
    "age = 12\n",
    "\n",
    "if age > 20 :\n",
    "    print('OLDDD')\n",
    "else :\n",
    "    print(\"Not Old\")"
   ]
  },
  {
   "cell_type": "code",
   "execution_count": null,
   "metadata": {},
   "outputs": [],
   "source": []
  }
 ],
 "metadata": {
  "kernelspec": {
   "display_name": "Python 3",
   "language": "python",
   "name": "python3"
  },
  "language_info": {
   "codemirror_mode": {
    "name": "ipython",
    "version": 3
   },
   "file_extension": ".py",
   "mimetype": "text/x-python",
   "name": "python",
   "nbconvert_exporter": "python",
   "pygments_lexer": "ipython3",
   "version": "3.10.6"
  }
 },
 "nbformat": 4,
 "nbformat_minor": 2
}
