{
 "cells": [
  {
   "cell_type": "code",
   "execution_count": 1,
   "metadata": {},
   "outputs": [
    {
     "name": "stdout",
     "output_type": "stream",
     "text": [
      "Mu name is abid\n"
     ]
    }
   ],
   "source": [
    "print(\"Mu name is abid\")"
   ]
  },
  {
   "cell_type": "code",
   "execution_count": 2,
   "metadata": {},
   "outputs": [
    {
     "name": "stdout",
     "output_type": "stream",
     "text": [
      "Not Old\n"
     ]
    }
   ],
   "source": [
    "age = 12\n",
    "\n",
    "if age > 20 :\n",
    "    print('OLDDD')\n",
    "else :\n",
    "    print(\"Not Old\")"
   ]
  },
  {
   "cell_type": "code",
   "execution_count": 3,
   "metadata": {},
   "outputs": [
    {
     "name": "stdout",
     "output_type": "stream",
     "text": [
      "Not Old\n"
     ]
    }
   ],
   "source": [
    "age = 12\n",
    "\n",
    "if age > 20 :\n",
    "    print('OLDDD')\n",
    "else :\n",
    "    print(\"Not Old\")"
   ]
  },
  {
   "cell_type": "code",
   "execution_count": 4,
   "metadata": {},
   "outputs": [
    {
     "name": "stdout",
     "output_type": "stream",
     "text": [
      "Not Old\n"
     ]
    }
   ],
   "source": [
    "age = 12\n",
    "\n",
    "if age > 20 :\n",
    "    print('OLDDD')\n",
    "else :\n",
    "    print(\"Not Old\")"
   ]
  },
  {
   "cell_type": "code",
   "execution_count": 5,
   "metadata": {},
   "outputs": [
    {
     "name": "stdout",
     "output_type": "stream",
     "text": [
      "nama saya Muhasmadmas\n"
     ]
    }
   ],
   "source": [
    "12\n",
    "\n",
    "\n",
    "print(\"nama saya Muhasmadmas\")"
   ]
  },
  {
   "cell_type": "code",
   "execution_count": 6,
   "metadata": {},
   "outputs": [
    {
     "name": "stdout",
     "output_type": "stream",
     "text": [
      "Not Old\n"
     ]
    }
   ],
   "source": [
    "age = 12\n",
    "\n",
    "if age > 20 :\n",
    "    print('OLDDD')\n",
    "else :\n",
    "    print(\"Not Old\")"
   ]
  },
  {
   "cell_type": "code",
   "execution_count": 11,
   "metadata": {},
   "outputs": [],
   "source": [
    "class Person():\n",
    "\n",
    "    def __init__(self, nama, umur, gender):\n",
    "        self.nama = nama\n",
    "        self.umur = umur\n",
    "        self.gender = gender\n",
    "\n",
    "    def menyapa_oranglain(self):\n",
    "        print(\"Halo dari saya : \", self.nama)"
   ]
  },
  {
   "cell_type": "code",
   "execution_count": 12,
   "metadata": {},
   "outputs": [],
   "source": [
    "orangkesatu = Person(\"Ezzar\", 12, \"Laki-laki\")\n",
    "orangkedua = Person(\"Elang\", 11, \"Laki-laki\")\n",
    "orangketiga = Person(\"Sutri\", 14, \"Perempuan\")"
   ]
  },
  {
   "cell_type": "code",
   "execution_count": 6,
   "metadata": {},
   "outputs": [
    {
     "name": "stdout",
     "output_type": "stream",
     "text": [
      "Ezzar\n",
      "Elang\n",
      "Sutri\n"
     ]
    }
   ],
   "source": [
    "print(orangkesatu.nama)\n",
    "print(orangkedua.nama)\n",
    "print(orangketiga.nama)"
   ]
  },
  {
   "cell_type": "code",
   "execution_count": 7,
   "metadata": {},
   "outputs": [
    {
     "name": "stdout",
     "output_type": "stream",
     "text": [
      "12\n",
      "11\n",
      "14\n"
     ]
    }
   ],
   "source": [
    "print(orangkesatu.umur)\n",
    "print(orangkedua.umur)\n",
    "print(orangketiga.umur)"
   ]
  },
  {
   "cell_type": "code",
   "execution_count": 8,
   "metadata": {},
   "outputs": [
    {
     "name": "stdout",
     "output_type": "stream",
     "text": [
      "Laki-laki\n",
      "Laki-laki\n",
      "Perempuan\n"
     ]
    }
   ],
   "source": [
    "print(orangkesatu.gender)\n",
    "print(orangkedua.gender)\n",
    "print(orangketiga.gender)"
   ]
  },
  {
   "cell_type": "code",
   "execution_count": 14,
   "metadata": {},
   "outputs": [
    {
     "name": "stdout",
     "output_type": "stream",
     "text": [
      "Halo dari saya :  Ezzar\n",
      "Halo dari saya :  Elang\n",
      "Halo dari saya :  Sutri\n"
     ]
    }
   ],
   "source": [
    "orangkesatu.menyapa_oranglain()\n",
    "orangkedua.menyapa_oranglain()\n",
    "orangketiga.menyapa_oranglain()"
   ]
  },
  {
   "cell_type": "code",
   "execution_count": 3,
   "metadata": {},
   "outputs": [],
   "source": [
    "class animal:\n",
    "    def __init__(self, nama, gerak):\n",
    "        self.nama = nama\n",
    "        self.jalan = gerak\n",
    "\n",
    "\n",
    "\n",
    "animalkesatu = animal(\"simaung\", \"lari\")\n",
    "animalkedua = animal(\"rajahutan\", \"lari\")"
   ]
  },
  {
   "cell_type": "code",
   "execution_count": 4,
   "metadata": {},
   "outputs": [],
   "source": [
    "class Harimau(animal):\n",
    "    def __init__(self, nama, gerak):\n",
    "        super().__init__(nama, gerak)\n",
    "\n",
    "\n",
    "harimaukesatu = Harimau(\"bangjago\", 'lari')\n"
   ]
  },
  {
   "cell_type": "code",
   "execution_count": 5,
   "metadata": {},
   "outputs": [
    {
     "name": "stdout",
     "output_type": "stream",
     "text": [
      "<class 'list'>\n",
      "<class 'numpy.ndarray'>\n"
     ]
    }
   ],
   "source": [
    "import numpy as np\n",
    "\n",
    "mylist = [1, 2, 3, 4, 5, 6, 7, 8, 9, 10]\n",
    "print(type(mylist))\n",
    "\n",
    "arraysaya = np.array(mylist)\n",
    "print(type(arraysaya))\n",
    "\n"
   ]
  },
  {
   "cell_type": "code",
   "execution_count": 9,
   "metadata": {},
   "outputs": [
    {
     "name": "stdout",
     "output_type": "stream",
     "text": [
      "[ 3  4  5  6  7  8  9 10 11 12]\n",
      "[-1  0  1  2  3  4  5  6  7  8]\n",
      "[ 2  4  6  8 10 12 14 16 18 20]\n",
      "[0.5 1.  1.5 2.  2.5 3.  3.5 4.  4.5 5. ]\n"
     ]
    }
   ],
   "source": [
    "print(arraysaya + 2)\n",
    "print(arraysaya - 2)\n",
    "print(arraysaya * 2)\n",
    "print(arraysaya / 2)\n"
   ]
  },
  {
   "cell_type": "code",
   "execution_count": 16,
   "metadata": {},
   "outputs": [
    {
     "data": {
      "text/plain": [
       "array([1., 1., 1., 1., 1.])"
      ]
     },
     "execution_count": 16,
     "metadata": {},
     "output_type": "execute_result"
    }
   ],
   "source": [
    "np.ones(5)"
   ]
  },
  {
   "cell_type": "code",
   "execution_count": 17,
   "metadata": {},
   "outputs": [
    {
     "data": {
      "text/plain": [
       "array([0., 0., 0., 0., 0., 0., 0., 0., 0., 0.])"
      ]
     },
     "execution_count": 17,
     "metadata": {},
     "output_type": "execute_result"
    }
   ],
   "source": [
    "np.zeros(10)"
   ]
  },
  {
   "cell_type": "code",
   "execution_count": 21,
   "metadata": {},
   "outputs": [
    {
     "data": {
      "text/plain": [
       "array([1, 2, 3, 4, 5, 6, 7, 8, 9])"
      ]
     },
     "execution_count": 21,
     "metadata": {},
     "output_type": "execute_result"
    }
   ],
   "source": [
    "np.arange(1, 10)"
   ]
  },
  {
   "cell_type": "code",
   "execution_count": 22,
   "metadata": {},
   "outputs": [
    {
     "data": {
      "text/plain": [
       "array([ 1,  2,  3,  4,  5,  6,  7,  8,  9, 10, 11, 12, 13, 14, 15, 16, 17,\n",
       "       18, 19, 20, 21, 22, 23, 24, 25, 26, 27, 28, 29, 30, 31, 32, 33, 34,\n",
       "       35, 36, 37, 38, 39, 40, 41, 42, 43, 44, 45, 46, 47, 48, 49, 50, 51,\n",
       "       52, 53, 54, 55, 56, 57, 58, 59, 60, 61, 62, 63, 64, 65, 66, 67, 68,\n",
       "       69, 70, 71, 72, 73, 74, 75, 76, 77, 78, 79, 80, 81, 82, 83, 84, 85,\n",
       "       86, 87, 88, 89, 90, 91, 92, 93, 94, 95, 96, 97, 98, 99])"
      ]
     },
     "execution_count": 22,
     "metadata": {},
     "output_type": "execute_result"
    }
   ],
   "source": [
    "np.arange(1, 100)"
   ]
  },
  {
   "cell_type": "code",
   "execution_count": 24,
   "metadata": {},
   "outputs": [
    {
     "data": {
      "text/plain": [
       "array([900, 901, 902, 903, 904, 905, 906, 907, 908, 909, 910, 911, 912,\n",
       "       913, 914, 915, 916, 917, 918, 919, 920, 921, 922, 923, 924, 925,\n",
       "       926, 927, 928, 929, 930, 931, 932, 933, 934, 935, 936, 937, 938,\n",
       "       939, 940, 941, 942, 943, 944, 945, 946, 947, 948, 949, 950, 951,\n",
       "       952, 953, 954, 955, 956, 957, 958, 959, 960, 961, 962, 963, 964,\n",
       "       965, 966, 967, 968, 969, 970, 971, 972, 973, 974, 975, 976, 977,\n",
       "       978, 979, 980, 981, 982, 983, 984, 985, 986, 987, 988, 989, 990,\n",
       "       991, 992, 993, 994, 995, 996, 997, 998, 999])"
      ]
     },
     "execution_count": 24,
     "metadata": {},
     "output_type": "execute_result"
    }
   ],
   "source": [
    "np.arange(900,1000)"
   ]
  },
  {
   "cell_type": "code",
   "execution_count": 27,
   "metadata": {},
   "outputs": [
    {
     "data": {
      "text/plain": [
       "array([ 1.,  2.,  3.,  4.,  5.,  6.,  7.,  8.,  9., 10.])"
      ]
     },
     "execution_count": 27,
     "metadata": {},
     "output_type": "execute_result"
    }
   ],
   "source": [
    "np.linspace(1,10, num = 10)"
   ]
  },
  {
   "cell_type": "code",
   "execution_count": 29,
   "metadata": {},
   "outputs": [
    {
     "data": {
      "text/plain": [
       "array([  1.        ,   1.49748744,   1.99497487,   2.49246231,\n",
       "         2.98994975,   3.48743719,   3.98492462,   4.48241206,\n",
       "         4.9798995 ,   5.47738693,   5.97487437,   6.47236181,\n",
       "         6.96984925,   7.46733668,   7.96482412,   8.46231156,\n",
       "         8.95979899,   9.45728643,   9.95477387,  10.45226131,\n",
       "        10.94974874,  11.44723618,  11.94472362,  12.44221106,\n",
       "        12.93969849,  13.43718593,  13.93467337,  14.4321608 ,\n",
       "        14.92964824,  15.42713568,  15.92462312,  16.42211055,\n",
       "        16.91959799,  17.41708543,  17.91457286,  18.4120603 ,\n",
       "        18.90954774,  19.40703518,  19.90452261,  20.40201005,\n",
       "        20.89949749,  21.39698492,  21.89447236,  22.3919598 ,\n",
       "        22.88944724,  23.38693467,  23.88442211,  24.38190955,\n",
       "        24.87939698,  25.37688442,  25.87437186,  26.3718593 ,\n",
       "        26.86934673,  27.36683417,  27.86432161,  28.36180905,\n",
       "        28.85929648,  29.35678392,  29.85427136,  30.35175879,\n",
       "        30.84924623,  31.34673367,  31.84422111,  32.34170854,\n",
       "        32.83919598,  33.33668342,  33.83417085,  34.33165829,\n",
       "        34.82914573,  35.32663317,  35.8241206 ,  36.32160804,\n",
       "        36.81909548,  37.31658291,  37.81407035,  38.31155779,\n",
       "        38.80904523,  39.30653266,  39.8040201 ,  40.30150754,\n",
       "        40.79899497,  41.29648241,  41.79396985,  42.29145729,\n",
       "        42.78894472,  43.28643216,  43.7839196 ,  44.28140704,\n",
       "        44.77889447,  45.27638191,  45.77386935,  46.27135678,\n",
       "        46.76884422,  47.26633166,  47.7638191 ,  48.26130653,\n",
       "        48.75879397,  49.25628141,  49.75376884,  50.25125628,\n",
       "        50.74874372,  51.24623116,  51.74371859,  52.24120603,\n",
       "        52.73869347,  53.2361809 ,  53.73366834,  54.23115578,\n",
       "        54.72864322,  55.22613065,  55.72361809,  56.22110553,\n",
       "        56.71859296,  57.2160804 ,  57.71356784,  58.21105528,\n",
       "        58.70854271,  59.20603015,  59.70351759,  60.20100503,\n",
       "        60.69849246,  61.1959799 ,  61.69346734,  62.19095477,\n",
       "        62.68844221,  63.18592965,  63.68341709,  64.18090452,\n",
       "        64.67839196,  65.1758794 ,  65.67336683,  66.17085427,\n",
       "        66.66834171,  67.16582915,  67.66331658,  68.16080402,\n",
       "        68.65829146,  69.15577889,  69.65326633,  70.15075377,\n",
       "        70.64824121,  71.14572864,  71.64321608,  72.14070352,\n",
       "        72.63819095,  73.13567839,  73.63316583,  74.13065327,\n",
       "        74.6281407 ,  75.12562814,  75.62311558,  76.12060302,\n",
       "        76.61809045,  77.11557789,  77.61306533,  78.11055276,\n",
       "        78.6080402 ,  79.10552764,  79.60301508,  80.10050251,\n",
       "        80.59798995,  81.09547739,  81.59296482,  82.09045226,\n",
       "        82.5879397 ,  83.08542714,  83.58291457,  84.08040201,\n",
       "        84.57788945,  85.07537688,  85.57286432,  86.07035176,\n",
       "        86.5678392 ,  87.06532663,  87.56281407,  88.06030151,\n",
       "        88.55778894,  89.05527638,  89.55276382,  90.05025126,\n",
       "        90.54773869,  91.04522613,  91.54271357,  92.04020101,\n",
       "        92.53768844,  93.03517588,  93.53266332,  94.03015075,\n",
       "        94.52763819,  95.02512563,  95.52261307,  96.0201005 ,\n",
       "        96.51758794,  97.01507538,  97.51256281,  98.01005025,\n",
       "        98.50753769,  99.00502513,  99.50251256, 100.        ])"
      ]
     },
     "execution_count": 29,
     "metadata": {},
     "output_type": "execute_result"
    }
   ],
   "source": [
    "np.linspace(1, 100, num= 200)"
   ]
  },
  {
   "cell_type": "code",
   "execution_count": 34,
   "metadata": {},
   "outputs": [
    {
     "name": "stdout",
     "output_type": "stream",
     "text": [
      "7\n",
      "8\n",
      "9\n"
     ]
    }
   ],
   "source": [
    "print(arraysaya[6])\n",
    "print(arraysaya[7])\n",
    "print(arraysaya[8])"
   ]
  },
  {
   "cell_type": "code",
   "execution_count": 8,
   "metadata": {},
   "outputs": [
    {
     "name": "stdout",
     "output_type": "stream",
     "text": [
      "11\n",
      "12\n",
      "13\n",
      "14\n",
      "15\n"
     ]
    }
   ],
   "source": [
    "import numpy as np\n",
    "# NUMPY ARRAY\n",
    "#ACCESSING ELEMENT\n",
    "\n",
    "arraysaya = np.array([ 11, 12, 13, 14, 15, 16, 17, 18, 19, 20])\n",
    "print(arraysaya[0])\n",
    "print(arraysaya[1])\n",
    "print(arraysaya[2])\n",
    "print(arraysaya[3])\n",
    "print(arraysaya[4])"
   ]
  },
  {
   "cell_type": "code",
   "execution_count": 16,
   "metadata": {},
   "outputs": [
    {
     "name": "stdout",
     "output_type": "stream",
     "text": [
      "[1 2 3]\n",
      "[4 5 6]\n",
      "[7 8 9]\n",
      "2\n",
      "5\n",
      "8\n"
     ]
    }
   ],
   "source": [
    "arraysaya2 = np.array([[1, 2, 3],\n",
    "                      [4, 5, 6],\n",
    "                      [7, 8, 9]])\n",
    "\n",
    "print(arraysaya2[0])\n",
    "print(arraysaya2[1])\n",
    "print(arraysaya2[2])\n",
    "\n",
    "\n",
    "print(arraysaya2[0][1])\n",
    "print(arraysaya2[1][1])\n",
    "print(arraysaya2[2][1])\n"
   ]
  },
  {
   "cell_type": "code",
   "execution_count": 32,
   "metadata": {},
   "outputs": [
    {
     "data": {
      "text/plain": [
       "array([3, 2, 1, 2, 3, 3, 3, 3, 3, 1, 4, 3, 4, 2, 2, 1, 4, 4, 1, 4, 2, 1,\n",
       "       2, 3, 4, 1, 2, 4, 2, 1, 2, 1, 4, 4, 2, 1, 2, 4, 2, 1, 4, 1, 3, 3,\n",
       "       3, 3, 2, 2, 4, 4, 2, 2, 2, 3, 2, 1, 1, 1, 1, 4, 3, 2, 4, 3, 3, 2,\n",
       "       3, 2, 2, 3, 2, 4, 2, 3, 2, 1, 1, 3, 4, 2, 3, 2, 4, 3, 1, 1, 4, 4,\n",
       "       1, 4, 4, 2, 4, 3, 3, 4, 4, 3, 2, 1])"
      ]
     },
     "execution_count": 32,
     "metadata": {},
     "output_type": "execute_result"
    }
   ],
   "source": [
    "np.random.randint(1, 5, size = 100)"
   ]
  },
  {
   "cell_type": "code",
   "execution_count": 33,
   "metadata": {},
   "outputs": [
    {
     "data": {
      "text/plain": [
       "array([[1, 4, 2],\n",
       "       [2, 3, 3],\n",
       "       [4, 4, 3]])"
      ]
     },
     "execution_count": 33,
     "metadata": {},
     "output_type": "execute_result"
    }
   ],
   "source": [
    "np.random.randint(1, 5, size = (3, 3))"
   ]
  },
  {
   "cell_type": "code",
   "execution_count": 34,
   "metadata": {},
   "outputs": [
    {
     "name": "stdout",
     "output_type": "stream",
     "text": [
      "[[4 2 4 1 4 1 1 4 3]\n",
      " [1 2 1 1 1 2 2 4 4]\n",
      " [4 1 1 2 2 2 1 2 4]\n",
      " [1 3 4 4 4 1 4 4 1]\n",
      " [3 2 1 2 1 3 2 3 3]\n",
      " [1 1 2 4 4 2 4 3 3]\n",
      " [3 2 4 4 4 1 2 3 1]\n",
      " [2 3 4 4 1 4 4 4 4]\n",
      " [2 2 2 3 2 3 1 4 2]]\n"
     ]
    }
   ],
   "source": [
    "simpan = np.random.randint(1, 5, size = (9, 9))\n",
    "print(simpan)"
   ]
  },
  {
   "cell_type": "code",
   "execution_count": 37,
   "metadata": {},
   "outputs": [
    {
     "data": {
      "text/plain": [
       "array([[4, 2, 4, 1, 4, 1, 1, 4, 3],\n",
       "       [1, 2, 1, 1, 1, 2, 2, 4, 4],\n",
       "       [4, 1, 1, 2, 2, 2, 1, 2, 4]])"
      ]
     },
     "execution_count": 37,
     "metadata": {},
     "output_type": "execute_result"
    }
   ],
   "source": [
    "simpan[0:3]"
   ]
  },
  {
   "cell_type": "code",
   "execution_count": 40,
   "metadata": {},
   "outputs": [
    {
     "data": {
      "text/plain": [
       "array([4, 1, 2, 4, 1, 4, 4, 1, 2])"
      ]
     },
     "execution_count": 40,
     "metadata": {},
     "output_type": "execute_result"
    }
   ],
   "source": [
    "simpan[:,4]"
   ]
  },
  {
   "cell_type": "code",
   "execution_count": 43,
   "metadata": {},
   "outputs": [
    {
     "data": {
      "text/plain": [
       "array([[1, 2],\n",
       "       [3, 4],\n",
       "       [5, 6]])"
      ]
     },
     "execution_count": 43,
     "metadata": {},
     "output_type": "execute_result"
    }
   ],
   "source": [
    "data = np.array([[1, 2],\n",
    "                [3, 4], \n",
    "                [5, 6]])\n",
    "\n",
    "data"
   ]
  },
  {
   "cell_type": "code",
   "execution_count": 44,
   "metadata": {},
   "outputs": [
    {
     "data": {
      "text/plain": [
       "2"
      ]
     },
     "execution_count": 44,
     "metadata": {},
     "output_type": "execute_result"
    }
   ],
   "source": [
    "data[0, 1]"
   ]
  },
  {
   "cell_type": "code",
   "execution_count": 45,
   "metadata": {},
   "outputs": [
    {
     "data": {
      "text/plain": [
       "array([[3, 4],\n",
       "       [5, 6]])"
      ]
     },
     "execution_count": 45,
     "metadata": {},
     "output_type": "execute_result"
    }
   ],
   "source": [
    "data[1:3]"
   ]
  },
  {
   "cell_type": "code",
   "execution_count": 46,
   "metadata": {},
   "outputs": [
    {
     "data": {
      "text/plain": [
       "array([1, 3])"
      ]
     },
     "execution_count": 46,
     "metadata": {},
     "output_type": "execute_result"
    }
   ],
   "source": [
    "data[0:2, 0]"
   ]
  },
  {
   "cell_type": "code",
   "execution_count": 1,
   "metadata": {},
   "outputs": [],
   "source": [
    "import numpy as np\n",
    "arr = np.array([[1, 2], \n",
    "                [3, 4],\n",
    "                [5, 6]])"
   ]
  },
  {
   "cell_type": "code",
   "execution_count": 2,
   "metadata": {},
   "outputs": [
    {
     "data": {
      "text/plain": [
       "array([[1, 3, 5],\n",
       "       [2, 4, 6]])"
      ]
     },
     "execution_count": 2,
     "metadata": {},
     "output_type": "execute_result"
    }
   ],
   "source": [
    "arr.transpose()"
   ]
  },
  {
   "cell_type": "code",
   "execution_count": 8,
   "metadata": {},
   "outputs": [
    {
     "name": "stdout",
     "output_type": "stream",
     "text": [
      "[[ 1  2  3  4  5]\n",
      " [ 6  7  8  9 10]]\n",
      "[[ 1  2]\n",
      " [ 3  4]\n",
      " [ 5  6]\n",
      " [ 7  8]\n",
      " [ 9 10]]\n",
      "[[ 1]\n",
      " [ 2]\n",
      " [ 3]\n",
      " [ 4]\n",
      " [ 5]\n",
      " [ 6]\n",
      " [ 7]\n",
      " [ 8]\n",
      " [ 9]\n",
      " [10]]\n",
      "[[ 1  2  3  4  5  6  7  8  9 10]]\n"
     ]
    }
   ],
   "source": [
    "arr = np.array([1, 2, 3, 4, 5, 6, 7, 8, 9, 10])\n",
    "print(arr.reshape((2, 5)))\n",
    "print(arr.reshape((5, 2)))\n",
    "print(arr.reshape((10, 1)))\n",
    "print(arr.reshape((1, 10)))"
   ]
  },
  {
   "cell_type": "code",
   "execution_count": 10,
   "metadata": {},
   "outputs": [
    {
     "data": {
      "text/plain": [
       "array([[ 1,  6],\n",
       "       [ 2,  7],\n",
       "       [ 3,  8],\n",
       "       [ 4,  9],\n",
       "       [ 5, 10]])"
      ]
     },
     "execution_count": 10,
     "metadata": {},
     "output_type": "execute_result"
    }
   ],
   "source": [
    "arr.reshape((2, 5)).T"
   ]
  },
  {
   "cell_type": "code",
   "execution_count": 15,
   "metadata": {},
   "outputs": [
    {
     "data": {
      "text/plain": [
       "array([[1, 2, 3],\n",
       "       [4, 5, 6],\n",
       "       [7, 8, 9]])"
      ]
     },
     "execution_count": 15,
     "metadata": {},
     "output_type": "execute_result"
    }
   ],
   "source": [
    "grid = np.arange(1, 10).reshape(3, 3)\n",
    "grid"
   ]
  },
  {
   "cell_type": "code",
   "execution_count": 21,
   "metadata": {},
   "outputs": [
    {
     "data": {
      "text/plain": [
       "array([[1, 2, 3, 4, 5, 6, 7, 8, 9]])"
      ]
     },
     "execution_count": 21,
     "metadata": {},
     "output_type": "execute_result"
    }
   ],
   "source": [
    "oneD = np.arange(1, 10).reshape(1, 9)\n",
    "oneD"
   ]
  },
  {
   "cell_type": "code",
   "execution_count": 27,
   "metadata": {},
   "outputs": [
    {
     "name": "stdout",
     "output_type": "stream",
     "text": [
      "[[1 2 3]]\n",
      "[[1 2 3]]\n",
      "[[1]\n",
      " [2]\n",
      " [3]]\n",
      "[[1]\n",
      " [2]\n",
      " [3]]\n"
     ]
    }
   ],
   "source": [
    "x = np.array([1, 2, 3])\n",
    "\n",
    "print(x.reshape((1,3)))\n",
    "print(x[np.newaxis, :])\n",
    "\n",
    "\n",
    "print(x.reshape((3,1)))\n",
    "print(x[:, np.newaxis])"
   ]
  },
  {
   "cell_type": "code",
   "execution_count": 33,
   "metadata": {},
   "outputs": [
    {
     "name": "stdout",
     "output_type": "stream",
     "text": [
      "[1 2 3 1 2 3 1 2 3 1 2 3]\n",
      "[[1 2 3]\n",
      " [1 2 3]]\n",
      "[1 2 3 1 2 3]\n"
     ]
    }
   ],
   "source": [
    "# Array concatination (menggabungkan array)\n",
    "\n",
    "#1 dimension\n",
    "print(np.concatenate([x, x, x, x]))\n",
    "\n",
    "print(np.vstack([x, x]))\n",
    "\n",
    "print(np.hstack([x, x]))"
   ]
  },
  {
   "cell_type": "code",
   "execution_count": null,
   "metadata": {},
   "outputs": [],
   "source": [
    "# Dua  dimensi : sambung pertemuan selanjutnya\n"
   ]
  }
 ],
 "metadata": {
  "kernelspec": {
   "display_name": "Python 3",
   "language": "python",
   "name": "python3"
  },
  "language_info": {
   "codemirror_mode": {
    "name": "ipython",
    "version": 3
   },
   "file_extension": ".py",
   "mimetype": "text/x-python",
   "name": "python",
   "nbconvert_exporter": "python",
   "pygments_lexer": "ipython3",
   "version": "3.11.4"
  }
 },
 "nbformat": 4,
 "nbformat_minor": 2
}
