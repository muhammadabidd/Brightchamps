{
 "cells": [
  {
   "cell_type": "code",
   "execution_count": 1,
   "metadata": {},
   "outputs": [
    {
     "name": "stdout",
     "output_type": "stream",
     "text": [
      "Mu name is abid\n"
     ]
    }
   ],
   "source": [
    "print(\"Mu name is abid\")"
   ]
  },
  {
   "cell_type": "code",
   "execution_count": 2,
   "metadata": {},
   "outputs": [
    {
     "name": "stdout",
     "output_type": "stream",
     "text": [
      "Not Old\n"
     ]
    }
   ],
   "source": [
    "age = 12\n",
    "\n",
    "if age > 20 :\n",
    "    print('OLDDD')\n",
    "else :\n",
    "    print(\"Not Old\")"
   ]
  },
  {
   "cell_type": "code",
   "execution_count": 3,
   "metadata": {},
   "outputs": [
    {
     "name": "stdout",
     "output_type": "stream",
     "text": [
      "Not Old\n"
     ]
    }
   ],
   "source": [
    "age = 12\n",
    "\n",
    "if age > 20 :\n",
    "    print('OLDDD')\n",
    "else :\n",
    "    print(\"Not Old\")"
   ]
  },
  {
   "cell_type": "code",
   "execution_count": 4,
   "metadata": {},
   "outputs": [
    {
     "name": "stdout",
     "output_type": "stream",
     "text": [
      "Not Old\n"
     ]
    }
   ],
   "source": [
    "age = 12\n",
    "\n",
    "if age > 20 :\n",
    "    print('OLDDD')\n",
    "else :\n",
    "    print(\"Not Old\")"
   ]
  },
  {
   "cell_type": "code",
   "execution_count": 5,
   "metadata": {},
   "outputs": [
    {
     "name": "stdout",
     "output_type": "stream",
     "text": [
      "nama saya Muhasmadmas\n"
     ]
    }
   ],
   "source": [
    "12\n",
    "\n",
    "\n",
    "print(\"nama saya Muhasmadmas\")"
   ]
  },
  {
   "cell_type": "code",
   "execution_count": 6,
   "metadata": {},
   "outputs": [
    {
     "name": "stdout",
     "output_type": "stream",
     "text": [
      "Not Old\n"
     ]
    }
   ],
   "source": [
    "age = 12\n",
    "\n",
    "if age > 20 :\n",
    "    print('OLDDD')\n",
    "else :\n",
    "    print(\"Not Old\")"
   ]
  },
  {
   "cell_type": "code",
   "execution_count": 11,
   "metadata": {},
   "outputs": [],
   "source": [
    "class Person():\n",
    "\n",
    "    def __init__(self, nama, umur, gender):\n",
    "        self.nama = nama\n",
    "        self.umur = umur\n",
    "        self.gender = gender\n",
    "\n",
    "    def menyapa_oranglain(self):\n",
    "        print(\"Halo dari saya : \", self.nama)"
   ]
  },
  {
   "cell_type": "code",
   "execution_count": 12,
   "metadata": {},
   "outputs": [],
   "source": [
    "orangkesatu = Person(\"Ezzar\", 12, \"Laki-laki\")\n",
    "orangkedua = Person(\"Elang\", 11, \"Laki-laki\")\n",
    "orangketiga = Person(\"Sutri\", 14, \"Perempuan\")"
   ]
  },
  {
   "cell_type": "code",
   "execution_count": 6,
   "metadata": {},
   "outputs": [
    {
     "name": "stdout",
     "output_type": "stream",
     "text": [
      "Ezzar\n",
      "Elang\n",
      "Sutri\n"
     ]
    }
   ],
   "source": [
    "print(orangkesatu.nama)\n",
    "print(orangkedua.nama)\n",
    "print(orangketiga.nama)"
   ]
  },
  {
   "cell_type": "code",
   "execution_count": 7,
   "metadata": {},
   "outputs": [
    {
     "name": "stdout",
     "output_type": "stream",
     "text": [
      "12\n",
      "11\n",
      "14\n"
     ]
    }
   ],
   "source": [
    "print(orangkesatu.umur)\n",
    "print(orangkedua.umur)\n",
    "print(orangketiga.umur)"
   ]
  },
  {
   "cell_type": "code",
   "execution_count": 8,
   "metadata": {},
   "outputs": [
    {
     "name": "stdout",
     "output_type": "stream",
     "text": [
      "Laki-laki\n",
      "Laki-laki\n",
      "Perempuan\n"
     ]
    }
   ],
   "source": [
    "print(orangkesatu.gender)\n",
    "print(orangkedua.gender)\n",
    "print(orangketiga.gender)"
   ]
  },
  {
   "cell_type": "code",
   "execution_count": 14,
   "metadata": {},
   "outputs": [
    {
     "name": "stdout",
     "output_type": "stream",
     "text": [
      "Halo dari saya :  Ezzar\n",
      "Halo dari saya :  Elang\n",
      "Halo dari saya :  Sutri\n"
     ]
    }
   ],
   "source": [
    "orangkesatu.menyapa_oranglain()\n",
    "orangkedua.menyapa_oranglain()\n",
    "orangketiga.menyapa_oranglain()"
   ]
  },
  {
   "cell_type": "code",
   "execution_count": null,
   "metadata": {},
   "outputs": [],
   "source": []
  }
 ],
 "metadata": {
  "kernelspec": {
   "display_name": "Python 3",
   "language": "python",
   "name": "python3"
  },
  "language_info": {
   "codemirror_mode": {
    "name": "ipython",
    "version": 3
   },
   "file_extension": ".py",
   "mimetype": "text/x-python",
   "name": "python",
   "nbconvert_exporter": "python",
   "pygments_lexer": "ipython3",
   "version": "3.11.4"
  }
 },
 "nbformat": 4,
 "nbformat_minor": 2
}
