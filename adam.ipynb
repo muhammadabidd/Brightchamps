{
 "cells": [
  {
   "cell_type": "code",
   "execution_count": 3,
   "metadata": {},
   "outputs": [
    {
     "name": "stdout",
     "output_type": "stream",
     "text": [
      "HELLO SEMUANYA\n"
     ]
    }
   ],
   "source": [
    "print(\"HELLO SEMUANYA\") # ini kodingan untuk saldkjalsdkjaslkdj"
   ]
  },
  {
   "cell_type": "code",
   "execution_count": 9,
   "metadata": {},
   "outputs": [
    {
     "name": "stdout",
     "output_type": "stream",
     "text": [
      "Helo semuanyaaa, aku sudah belajar codiing pakai python\n",
      "halo semuanyaaaa\n",
      "Python was founded by guido van rosum\n"
     ]
    }
   ],
   "source": [
    "# Python Lesson 01\n",
    "\n",
    "print(\"Helo semuanyaaa, aku sudah belajar codiing pakai python\")\n",
    "print('halo semuanyaaaa')\n",
    "print(\"Python was founded by guido van rosum\")"
   ]
  },
  {
   "cell_type": "code",
   "execution_count": 23,
   "metadata": {},
   "outputs": [
    {
     "name": "stdout",
     "output_type": "stream",
     "text": [
      "12\n",
      "20\n",
      "90\n",
      "80\n",
      "90\n",
      "80\n",
      "1000\n"
     ]
    }
   ],
   "source": [
    "# cara buat variable\n",
    "\n",
    "# boleh dimulai dari huruf apa saya\n",
    "\n",
    "nilai_siswa = 12\n",
    "print(nilai_siswa)\n",
    "\n",
    "nilaiSiswa = 20\n",
    "print(nilaiSiswa)\n",
    "\n",
    "nilaiA = 90\n",
    "nilaia = 80\n",
    "\n",
    "print(nilaiA)\n",
    "print(nilaia)\n",
    "\n",
    "nilaisiswa2 = 90\n",
    "print(nilaisiswa2)\n",
    "\n",
    "_nilaisiswa = 80\n",
    "print(_nilaisiswa)\n",
    "\n",
    "\n",
    "\n",
    "\n",
    "_ = 1000\n",
    "print(_)\n",
    "\n",
    "\n"
   ]
  },
  {
   "cell_type": "code",
   "execution_count": 25,
   "metadata": {},
   "outputs": [
    {
     "name": "stdout",
     "output_type": "stream",
     "text": [
      "<class 'int'>\n"
     ]
    }
   ],
   "source": [
    "print(  type(nilaisiswa2)  )"
   ]
  },
  {
   "cell_type": "code",
   "execution_count": 28,
   "metadata": {},
   "outputs": [
    {
     "name": "stdout",
     "output_type": "stream",
     "text": [
      "<class 'str'>\n"
     ]
    }
   ],
   "source": [
    "angkatapistring = \"25\"\n",
    "\n",
    "print(type(angkatapistring) )"
   ]
  },
  {
   "cell_type": "code",
   "execution_count": 30,
   "metadata": {},
   "outputs": [
    {
     "name": "stdout",
     "output_type": "stream",
     "text": [
      "<class 'int'>\n",
      "<class 'int'>\n",
      "140\n",
      "-40\n",
      "4500\n",
      "0.5555555555555556\n"
     ]
    }
   ],
   "source": [
    "num1 = 50\n",
    "num2 = 90\n",
    "\n",
    "print(type(num1))\n",
    "print(type(num2))\n",
    "print(num1 + num2)\n",
    "print(num1 - num2)\n",
    "print(num1 * num2)\n",
    "print(num1 / num2)"
   ]
  },
  {
   "cell_type": "code",
   "execution_count": 34,
   "metadata": {},
   "outputs": [
    {
     "name": "stdout",
     "output_type": "stream",
     "text": [
      "<class 'str'>\n",
      "<class 'str'>\n",
      "Abid Ganteng\n"
     ]
    }
   ],
   "source": [
    "string1 = \"Abid\"\n",
    "string2 = ' Ganteng'\n",
    "\n",
    "print(type(string1))\n",
    "print(type(string2))\n",
    "print(string1 + string2)"
   ]
  },
  {
   "cell_type": "code",
   "execution_count": 12,
   "metadata": {},
   "outputs": [
    {
     "name": "stdout",
     "output_type": "stream",
     "text": [
      "The type of number1 is :  <class 'int'>\n",
      "The type of number1 is :  <class 'int'>\n",
      "The type of number1 is :  <class 'str'>\n",
      "The type of number1 is :  <class 'str'>\n"
     ]
    }
   ],
   "source": [
    "number1 = 20\n",
    "number2 = 40\n",
    "number3 = '15'\n",
    "number4 = '40'\n",
    "\n",
    "\n",
    "\n",
    "print(\"The type of number1 is : \", type(number1))\n",
    "print(\"The type of number1 is : \", type(number2))\n",
    "print(\"The type of number1 is : \", type(number3))\n",
    "print(\"The type of number1 is : \", type(number4))\n"
   ]
  },
  {
   "cell_type": "code",
   "execution_count": 13,
   "metadata": {},
   "outputs": [
    {
     "name": "stdout",
     "output_type": "stream",
     "text": [
      "60\n",
      "1540\n"
     ]
    }
   ],
   "source": [
    "print(number1 + number2)\n",
    "print(number3 + number4)\n"
   ]
  },
  {
   "cell_type": "code",
   "execution_count": 14,
   "metadata": {},
   "outputs": [
    {
     "name": "stdout",
     "output_type": "stream",
     "text": [
      "35\n",
      "4040\n"
     ]
    }
   ],
   "source": [
    "#Change data type\n",
    "\n",
    "print(number1 + int(number3))\n",
    "print(str(number2) + number4)"
   ]
  },
  {
   "cell_type": "code",
   "execution_count": 23,
   "metadata": {},
   "outputs": [
    {
     "name": "stdout",
     "output_type": "stream",
     "text": [
      "sigma sigma sigma sigma sigma sigma sigma\n"
     ]
    }
   ],
   "source": [
    "name = input(\"WHAT IS YOUR NAMEEEEEE!!!!\")\n",
    "\n",
    "print(name, name, name, name, name, name, name)"
   ]
  },
  {
   "cell_type": "code",
   "execution_count": 26,
   "metadata": {},
   "outputs": [
    {
     "name": "stdout",
     "output_type": "stream",
     "text": [
      "This is game store, can i help you? but before that i need to know your name\n",
      "Okay abid Thats cool name\n",
      "so you are 12 Years old\n",
      "okay, so now chose between these item\n",
      "GTA 5\n",
      "Lost Saga\n",
      "FIFA 2022\n",
      "NBA 2021\n",
      "so, you are chosing :  GTA 5\n"
     ]
    }
   ],
   "source": [
    "print(\"This is game store, can i help you? but before that i need to know your name\")\n",
    "\n",
    "name = input(\"What do people call you?\")\n",
    "\n",
    "\n",
    "print(\"Okay\", name, \"Thats cool name\")\n",
    "\n",
    "age = input(\"enter your age\")\n",
    "print(\"so you are\", age, \"Years old\")\n",
    "\n",
    "print(\"okay, so now chose between these item\")\n",
    "print(\"GTA 5\")\n",
    "print(\"Lost Saga\")\n",
    "print(\"FIFA 2022\")\n",
    "print(\"NBA 2021\")\n",
    "\n",
    "chose = input(\"Insert your chose here : \")\n",
    "\n",
    "print(\"so, you are chosing : \", chose)"
   ]
  },
  {
   "cell_type": "code",
   "execution_count": 9,
   "metadata": {},
   "outputs": [
    {
     "name": "stdout",
     "output_type": "stream",
     "text": [
      "my name is  rabbit\n"
     ]
    }
   ],
   "source": [
    "save = input(\"Who are you\")\n",
    "\n",
    "print(\"my name is \", save)"
   ]
  },
  {
   "cell_type": "code",
   "execution_count": 12,
   "metadata": {},
   "outputs": [
    {
     "name": "stdout",
     "output_type": "stream",
     "text": [
      "I am old\n"
     ]
    }
   ],
   "source": [
    "#Indentation\n",
    "\n",
    "age = input(\"How old are you\")    # it still string\n",
    "\n",
    "\n",
    "\n",
    "# turn it to integer\n",
    "\n",
    "if int(age) > 20:\n",
    "    print(\"I am old\")  # the space in the beginning called indentation\n",
    "else :\n",
    "    print(\"I am young\")"
   ]
  },
  {
   "cell_type": "code",
   "execution_count": 16,
   "metadata": {},
   "outputs": [
    {
     "name": "stdout",
     "output_type": "stream",
     "text": [
      "20\n",
      "30\n",
      "40\n",
      "20 30 40\n",
      "90\n"
     ]
    }
   ],
   "source": [
    "# Assigning multiple vaiables\n",
    "\n",
    "\n",
    "x = 20\n",
    "y = 30\n",
    "z = 40\n",
    "\n",
    "\n",
    "print(x)\n",
    "print(y)\n",
    "print(z)\n",
    "\n",
    "print(x, y, z)\n",
    "print(x + y + z)\n"
   ]
  },
  {
   "cell_type": "code",
   "execution_count": 18,
   "metadata": {},
   "outputs": [
    {
     "name": "stdout",
     "output_type": "stream",
     "text": [
      "99 88 77\n",
      "264\n"
     ]
    }
   ],
   "source": [
    "a, b, c = 99, 88, 77\n",
    "\n",
    "print(a, b, c)\n",
    "print(a + b + c)"
   ]
  },
  {
   "cell_type": "code",
   "execution_count": 20,
   "metadata": {},
   "outputs": [
    {
     "name": "stdout",
     "output_type": "stream",
     "text": [
      "50 50 50\n",
      "150\n"
     ]
    }
   ],
   "source": [
    "p = q = r = 50\n",
    "\n",
    "\n",
    "\n",
    "print(p, q, r)\n",
    "\n",
    "print(p + q + r)"
   ]
  },
  {
   "cell_type": "code",
   "execution_count": 27,
   "metadata": {},
   "outputs": [
    {
     "name": "stdout",
     "output_type": "stream",
     "text": [
      "A B C D E\n",
      "5 6 7 8 9\n",
      "AB\n",
      "13\n"
     ]
    }
   ],
   "source": [
    "# There is another data type, called list []\n",
    "\n",
    "mylist = [\"A\", \"B\", \"C\", 'D', 'E']\n",
    "mylist2 = [5, 6, 7, 8, 9]\n",
    "\n",
    "\n",
    "value1, value2, value3, value4, value5 = mylist\n",
    "value11, value12, value13, value14, value15 = mylist2\n",
    "\n",
    "print(value1, value2, value3, value4, value5 )\n",
    "print(value11, value12, value13, value14, value15 )\n",
    "\n",
    "print(value1 + value2)\n",
    "print(value12 + value13)"
   ]
  },
  {
   "cell_type": "code",
   "execution_count": 36,
   "metadata": {},
   "outputs": [
    {
     "name": "stdout",
     "output_type": "stream",
     "text": [
      "-----------\n",
      "A\n",
      "B\n",
      "-----------\n",
      "B\n",
      "A\n"
     ]
    }
   ],
   "source": [
    "#to swap value of 2 variables\n",
    "\n",
    "# example\n",
    "\n",
    "value1 = \"A\"\n",
    "value2 = \"B\"\n",
    "\n",
    "\n",
    "print(\"-----------\")\n",
    "print(value1)\n",
    "print(value2)\n",
    "\n",
    "# FIRST STEP \n",
    "empty = value2\n",
    "\n",
    "#Second Step\n",
    "value2 = value1\n",
    "\n",
    "\n",
    "#THird Step\n",
    "value1 = empty\n",
    "\n",
    "\n",
    "print(\"-----------\")\n",
    "print(value1)\n",
    "print(value2)\n"
   ]
  },
  {
   "cell_type": "code",
   "execution_count": 39,
   "metadata": {},
   "outputs": [
    {
     "name": "stdout",
     "output_type": "stream",
     "text": [
      "Num1 is bigger\n"
     ]
    }
   ],
   "source": [
    "num1 = input(\"Insert the first number\")\n",
    "num2 = input(\"Insert the second number\")\n",
    "\n",
    "\n",
    "\n",
    "if int(num1)> int(num2):\n",
    "    print(\"Num1 is bigger\")\n",
    "else:\n",
    "    print(\"Num2 is bigger\")"
   ]
  },
  {
   "cell_type": "code",
   "execution_count": 1,
   "metadata": {},
   "outputs": [
    {
     "data": {
      "text/plain": [
       "1"
      ]
     },
     "execution_count": 1,
     "metadata": {},
     "output_type": "execute_result"
    }
   ],
   "source": [
    "# Lesson 4, Binary Number\n",
    "\n",
    "\n",
    "\n",
    "9 & 5  #and, bitwise operation"
   ]
  },
  {
   "cell_type": "code",
   "execution_count": 2,
   "metadata": {},
   "outputs": [
    {
     "data": {
      "text/plain": [
       "13"
      ]
     },
     "execution_count": 2,
     "metadata": {},
     "output_type": "execute_result"
    }
   ],
   "source": [
    "9 | 5   # or, bitwise operation"
   ]
  },
  {
   "cell_type": "code",
   "execution_count": 15,
   "metadata": {},
   "outputs": [
    {
     "name": "stdout",
     "output_type": "stream",
     "text": [
      "12\n",
      "<class 'int'>\n",
      "This 12 the datatype is : <class 'int'> \n"
     ]
    }
   ],
   "source": [
    "number1 = 12\n",
    "\n",
    "\n",
    "print(number1)\n",
    "print(type(number1))\n",
    "print(f\"This {number1} datatype is : {type(number1)} \")     #f stands for format"
   ]
  },
  {
   "cell_type": "code",
   "execution_count": 16,
   "metadata": {},
   "outputs": [
    {
     "name": "stdout",
     "output_type": "stream",
     "text": [
      "Ayam\n",
      "<class 'str'>\n",
      "This Ayam datatype is : <class 'str'> \n"
     ]
    }
   ],
   "source": [
    "streing1 = \"Ayam\"\n",
    "\n",
    "\n",
    "print(streing1)\n",
    "print(type(streing1))\n",
    "print(f\"This {streing1} datatype is : {type(streing1)} \")     #f stands for format"
   ]
  },
  {
   "cell_type": "code",
   "execution_count": 19,
   "metadata": {},
   "outputs": [
    {
     "name": "stdout",
     "output_type": "stream",
     "text": [
      "True\n",
      "<class 'bool'>\n",
      "This True datatype is : <class 'bool'> \n"
     ]
    }
   ],
   "source": [
    "boolean1 = True\n",
    "\n",
    "\n",
    "print(boolean1)\n",
    "print(type(boolean1))\n",
    "print(f\"This {boolean1} datatype is : {type(boolean1)} \")     #f stands for format"
   ]
  },
  {
   "cell_type": "code",
   "execution_count": 20,
   "metadata": {},
   "outputs": [
    {
     "name": "stdout",
     "output_type": "stream",
     "text": [
      "[1, 2, 3, 4, 5, 6, 7, 8, 9, 10]\n",
      "<class 'list'>\n",
      "This [1, 2, 3, 4, 5, 6, 7, 8, 9, 10] datatype is : <class 'list'> \n"
     ]
    }
   ],
   "source": [
    "list1 = [1, 2, 3,4, 5, 6, 7, 8, 9, 10]    #using []\n",
    "\n",
    "\n",
    "print(list1)\n",
    "print(type(list1))\n",
    "print(f\"This {list1} datatype is : {type(list1)} \")     #f stands for format"
   ]
  },
  {
   "cell_type": "code",
   "execution_count": 21,
   "metadata": {},
   "outputs": [
    {
     "name": "stdout",
     "output_type": "stream",
     "text": [
      "['A', 'B', 'C', 'D', 'E']\n",
      "<class 'list'>\n",
      "This ['A', 'B', 'C', 'D', 'E'] datatype is : <class 'list'> \n"
     ]
    }
   ],
   "source": [
    "list2 = ['A', 'B', 'C', 'D', 'E']  #using []\n",
    "\n",
    "\n",
    "print(list2)\n",
    "print(type(list2))\n",
    "print(f\"This {list2} datatype is : {type(list2)} \")     #f stands for format"
   ]
  },
  {
   "cell_type": "code",
   "execution_count": 22,
   "metadata": {},
   "outputs": [
    {
     "name": "stdout",
     "output_type": "stream",
     "text": [
      "(1, 2, 3, 4, 5, 6, 7, 8, 9, 10)\n",
      "<class 'tuple'>\n",
      "This (1, 2, 3, 4, 5, 6, 7, 8, 9, 10) datatype is : <class 'tuple'> \n"
     ]
    }
   ],
   "source": [
    "tuple1 = (1, 2, 3,4, 5, 6, 7, 8, 9, 10)   #using ()\n",
    "\n",
    "\n",
    "print(tuple1)\n",
    "print(type(tuple1))\n",
    "print(f\"This {tuple1} datatype is : {type(tuple1)} \")     #f stands for format"
   ]
  },
  {
   "cell_type": "code",
   "execution_count": 23,
   "metadata": {},
   "outputs": [
    {
     "name": "stdout",
     "output_type": "stream",
     "text": [
      "('A', 'B', 'C', 'D', 'E')\n",
      "<class 'tuple'>\n",
      "This ('A', 'B', 'C', 'D', 'E') datatype is : <class 'tuple'> \n"
     ]
    }
   ],
   "source": [
    "tuple2 = ('A', 'B', 'C', 'D', 'E')  #using ()\n",
    "\n",
    "\n",
    "print(tuple2)\n",
    "print(type(tuple2))\n",
    "print(f\"This {tuple2} datatype is : {type(tuple2)} \")     #f stands for format"
   ]
  },
  {
   "cell_type": "code",
   "execution_count": 25,
   "metadata": {},
   "outputs": [
    {
     "name": "stdout",
     "output_type": "stream",
     "text": [
      "{'E', 'B', 'D', 'A', 'C'}\n",
      "<class 'set'>\n",
      "This {'E', 'B', 'D', 'A', 'C'} datatype is : <class 'set'> \n"
     ]
    }
   ],
   "source": [
    "set = {'A', 'B', 'C', 'D', 'E', 'A'}  #using {}, set will eliminate duplicate\n",
    "\n",
    "\n",
    "print(set)\n",
    "print(type(set))\n",
    "print(f\"This {set} datatype is : {type(set)} \")     #f stands for format"
   ]
  },
  {
   "cell_type": "code",
   "execution_count": 32,
   "metadata": {},
   "outputs": [
    {
     "name": "stdout",
     "output_type": "stream",
     "text": [
      "{1, 2, 3, 4, 5, 6, 7, 8, 9, 10}\n",
      "<class 'set'>\n",
      "This {1, 2, 3, 4, 5, 6, 7, 8, 9, 10} datatype is : <class 'set'> \n"
     ]
    }
   ],
   "source": [
    "set2 = {1, 2, 3,4, 5, 6, 7, 8, 9, 10, 10, 1, 2, 3, 4, 5}  #using {}\n",
    "\n",
    "print(set2)\n",
    "print(type(set2))\n",
    "print(f\"This {set2} datatype is : {type(set2)} \")     #f stands for format"
   ]
  },
  {
   "cell_type": "code",
   "execution_count": 34,
   "metadata": {},
   "outputs": [
    {
     "name": "stdout",
     "output_type": "stream",
     "text": [
      "{'Student1': 'Abid', 'Student2': 'Adam', 'Student3': 'Ryuga'}\n",
      "<class 'dict'>\n",
      "This {'Student1': 'Abid', 'Student2': 'Adam', 'Student3': 'Ryuga'} datatype is : <class 'dict'> \n"
     ]
    }
   ],
   "source": [
    "# its called dictionary, buts its not that dictionary, its different\n",
    "\n",
    "dictionaryOne = {'Student1' : \"Abid\", \n",
    "                 'Student2' : 'Adam', \n",
    "                'Student3' : 'Ryuga'  }  #using {}, it has two element { key1 : value1 , key2 : value2}, each object separated by comma\n",
    "\n",
    "print(dictionaryOne)\n",
    "print(type(dictionaryOne))\n",
    "print(f\"This {dictionaryOne} datatype is : {type(dictionaryOne)} \")     #f stands for format"
   ]
  },
  {
   "cell_type": "code",
   "execution_count": 35,
   "metadata": {},
   "outputs": [
    {
     "name": "stdout",
     "output_type": "stream",
     "text": [
      "{'Score1': 80, 'Score2': 89, 'Score3': 88}\n",
      "<class 'dict'>\n",
      "This {'Score1': 80, 'Score2': 89, 'Score3': 88} datatype is : <class 'dict'> \n"
     ]
    }
   ],
   "source": [
    "# its called dictionary, buts its not that dictionary, its different\n",
    "\n",
    "dicrtionaryTwo = {'Score1' : 80, \n",
    "                 'Score2' : 89, \n",
    "                'Score3' :  88 }  #using {}, it has two element { key1 : value1 , key2 : value2}, each object separated by comma\n",
    "\n",
    "print(dicrtionaryTwo)\n",
    "print(type(dicrtionaryTwo))\n",
    "print(f\"This {dicrtionaryTwo} datatype is : {type(dicrtionaryTwo)} \")     #f stands for format"
   ]
  },
  {
   "cell_type": "code",
   "execution_count": 4,
   "metadata": {},
   "outputs": [
    {
     "name": "stdout",
     "output_type": "stream",
     "text": [
      "<class 'str'>\n",
      "1212\n",
      "<class 'int'>\n",
      "24\n"
     ]
    }
   ],
   "source": [
    "# LESSON 6\n",
    "\n",
    "#Data Conversion\n",
    "\n",
    "var1 = \"12\"\n",
    "print(type(var1))\n",
    "print(var1 + var1)\n",
    "\n",
    "\n",
    "\n",
    "var1 = int(var1)\n",
    "print(type(var1))\n",
    "print(var1 + var1)"
   ]
  },
  {
   "cell_type": "code",
   "execution_count": 7,
   "metadata": {},
   "outputs": [
    {
     "name": "stdout",
     "output_type": "stream",
     "text": [
      "<class 'str'>\n",
      "abidabid\n"
     ]
    },
    {
     "ename": "ValueError",
     "evalue": "invalid literal for int() with base 10: 'abid'",
     "output_type": "error",
     "traceback": [
      "\u001b[1;31m---------------------------------------------------------------------------\u001b[0m",
      "\u001b[1;31mValueError\u001b[0m                                Traceback (most recent call last)",
      "Cell \u001b[1;32mIn[7], line 7\u001b[0m\n\u001b[0;32m      2\u001b[0m \u001b[38;5;28mprint\u001b[39m(\u001b[38;5;28mtype\u001b[39m(var1))\n\u001b[0;32m      3\u001b[0m \u001b[38;5;28mprint\u001b[39m(var1 \u001b[38;5;241m+\u001b[39m var1)\n\u001b[1;32m----> 7\u001b[0m var1 \u001b[38;5;241m=\u001b[39m \u001b[38;5;28;43mint\u001b[39;49m\u001b[43m(\u001b[49m\u001b[43mvar1\u001b[49m\u001b[43m)\u001b[49m\n\u001b[0;32m      8\u001b[0m \u001b[38;5;28mprint\u001b[39m(\u001b[38;5;28mtype\u001b[39m(var1))\n\u001b[0;32m      9\u001b[0m \u001b[38;5;28mprint\u001b[39m(var1 \u001b[38;5;241m+\u001b[39m var1)\n",
      "\u001b[1;31mValueError\u001b[0m: invalid literal for int() with base 10: 'abid'"
     ]
    }
   ],
   "source": [
    "var1 = \"abid\"\n",
    "print(type(var1))\n",
    "print(var1 + var1)\n",
    "\n",
    "\n",
    "\n",
    "var1 = int(var1)\n",
    "print(type(var1))\n",
    "print(var1 + var1)"
   ]
  },
  {
   "cell_type": "code",
   "execution_count": 17,
   "metadata": {},
   "outputs": [
    {
     "name": "stdout",
     "output_type": "stream",
     "text": [
      "Budi Middle HandsomeAnd he is 90\n"
     ]
    }
   ],
   "source": [
    "# Concatination\n",
    "first_text = 'Budi'\n",
    "second_text = ' Middle Handsome'\n",
    "age = 90\n",
    "\n",
    "#FIRST\n",
    "print(first_text + second_text + \"And he is \" + str(age))"
   ]
  },
  {
   "cell_type": "code",
   "execution_count": 25,
   "metadata": {},
   "outputs": [
    {
     "name": "stdout",
     "output_type": "stream",
     "text": [
      "Budi is  Middle Handsome and 90 years old\n"
     ]
    }
   ],
   "source": [
    "# SECOND \n",
    "print(\"{} is {} and {} years old\".format(first_text, second_text, age))   # no need to change into string, thats cool right"
   ]
  },
  {
   "cell_type": "code",
   "execution_count": 26,
   "metadata": {},
   "outputs": [
    {
     "name": "stdout",
     "output_type": "stream",
     "text": [
      " Middle Handsome is 90 and Budi years old\n"
     ]
    }
   ],
   "source": [
    "print(\"{} is {} and {} years old\".format( second_text, age, first_text)) "
   ]
  },
  {
   "cell_type": "code",
   "execution_count": 33,
   "metadata": {},
   "outputs": [
    {
     "name": "stdout",
     "output_type": "stream",
     "text": [
      "Budi is  Middle Handsome and 90 years old\n"
     ]
    }
   ],
   "source": [
    "# THIRD\n",
    "print(f\"{first_text} is {second_text} and {age} years old\")"
   ]
  },
  {
   "cell_type": "code",
   "execution_count": 39,
   "metadata": {},
   "outputs": [
    {
     "name": "stdout",
     "output_type": "stream",
     "text": [
      "Abid Abid Abid Abid Abid Abid Abid Abid Abid Abid \n",
      "####################################################################################################\n",
      "120\n",
      "9990\n"
     ]
    }
   ],
   "source": [
    "#REPETITION\n",
    "\n",
    "mystring = \"Abid \"\n",
    "print(mystring * 10)\n",
    "print(\"#\" * 100)\n",
    "\n",
    "\n",
    "mynumber = 12\n",
    "print(mynumber * 10)\n",
    "print(999 * 10)"
   ]
  },
  {
   "cell_type": "code",
   "execution_count": null,
   "metadata": {},
   "outputs": [],
   "source": []
  }
 ],
 "metadata": {
  "kernelspec": {
   "display_name": "Python 3",
   "language": "python",
   "name": "python3"
  },
  "language_info": {
   "codemirror_mode": {
    "name": "ipython",
    "version": 3
   },
   "file_extension": ".py",
   "mimetype": "text/x-python",
   "name": "python",
   "nbconvert_exporter": "python",
   "pygments_lexer": "ipython3",
   "version": "3.12.3"
  }
 },
 "nbformat": 4,
 "nbformat_minor": 2
}
