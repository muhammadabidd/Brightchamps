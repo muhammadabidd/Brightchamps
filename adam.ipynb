{
 "cells": [
  {
   "cell_type": "code",
   "execution_count": 3,
   "metadata": {},
   "outputs": [
    {
     "name": "stdout",
     "output_type": "stream",
     "text": [
      "HELLO SEMUANYA\n"
     ]
    }
   ],
   "source": [
    "print(\"HELLO SEMUANYA\") # ini kodingan untuk saldkjalsdkjaslkdj"
   ]
  },
  {
   "cell_type": "code",
   "execution_count": 9,
   "metadata": {},
   "outputs": [
    {
     "name": "stdout",
     "output_type": "stream",
     "text": [
      "Helo semuanyaaa, aku sudah belajar codiing pakai python\n",
      "halo semuanyaaaa\n",
      "Python was founded by guido van rosum\n"
     ]
    }
   ],
   "source": [
    "# Python Lesson 01\n",
    "\n",
    "print(\"Helo semuanyaaa, aku sudah belajar codiing pakai python\")\n",
    "print('halo semuanyaaaa')\n",
    "print(\"Python was founded by guido van rosum\")"
   ]
  },
  {
   "cell_type": "code",
   "execution_count": 23,
   "metadata": {},
   "outputs": [
    {
     "name": "stdout",
     "output_type": "stream",
     "text": [
      "12\n",
      "20\n",
      "90\n",
      "80\n",
      "90\n",
      "80\n",
      "1000\n"
     ]
    }
   ],
   "source": [
    "# cara buat variable\n",
    "\n",
    "# boleh dimulai dari huruf apa saya\n",
    "\n",
    "nilai_siswa = 12\n",
    "print(nilai_siswa)\n",
    "\n",
    "nilaiSiswa = 20\n",
    "print(nilaiSiswa)\n",
    "\n",
    "nilaiA = 90\n",
    "nilaia = 80\n",
    "\n",
    "print(nilaiA)\n",
    "print(nilaia)\n",
    "\n",
    "nilaisiswa2 = 90\n",
    "print(nilaisiswa2)\n",
    "\n",
    "_nilaisiswa = 80\n",
    "print(_nilaisiswa)\n",
    "\n",
    "\n",
    "\n",
    "\n",
    "_ = 1000\n",
    "print(_)\n",
    "\n",
    "\n"
   ]
  },
  {
   "cell_type": "code",
   "execution_count": 25,
   "metadata": {},
   "outputs": [
    {
     "name": "stdout",
     "output_type": "stream",
     "text": [
      "<class 'int'>\n"
     ]
    }
   ],
   "source": [
    "print(  type(nilaisiswa2)  )"
   ]
  },
  {
   "cell_type": "code",
   "execution_count": 28,
   "metadata": {},
   "outputs": [
    {
     "name": "stdout",
     "output_type": "stream",
     "text": [
      "<class 'str'>\n"
     ]
    }
   ],
   "source": [
    "angkatapistring = \"25\"\n",
    "\n",
    "print(type(angkatapistring) )"
   ]
  },
  {
   "cell_type": "code",
   "execution_count": 30,
   "metadata": {},
   "outputs": [
    {
     "name": "stdout",
     "output_type": "stream",
     "text": [
      "<class 'int'>\n",
      "<class 'int'>\n",
      "140\n",
      "-40\n",
      "4500\n",
      "0.5555555555555556\n"
     ]
    }
   ],
   "source": [
    "num1 = 50\n",
    "num2 = 90\n",
    "\n",
    "print(type(num1))\n",
    "print(type(num2))\n",
    "print(num1 + num2)\n",
    "print(num1 - num2)\n",
    "print(num1 * num2)\n",
    "print(num1 / num2)"
   ]
  },
  {
   "cell_type": "code",
   "execution_count": 34,
   "metadata": {},
   "outputs": [
    {
     "name": "stdout",
     "output_type": "stream",
     "text": [
      "<class 'str'>\n",
      "<class 'str'>\n",
      "Abid Ganteng\n"
     ]
    }
   ],
   "source": [
    "string1 = \"Abid\"\n",
    "string2 = ' Ganteng'\n",
    "\n",
    "print(type(string1))\n",
    "print(type(string2))\n",
    "print(string1 + string2)"
   ]
  },
  {
   "cell_type": "code",
   "execution_count": null,
   "metadata": {},
   "outputs": [],
   "source": []
  }
 ],
 "metadata": {
  "kernelspec": {
   "display_name": "Python 3",
   "language": "python",
   "name": "python3"
  },
  "language_info": {
   "codemirror_mode": {
    "name": "ipython",
    "version": 3
   },
   "file_extension": ".py",
   "mimetype": "text/x-python",
   "name": "python",
   "nbconvert_exporter": "python",
   "pygments_lexer": "ipython3",
   "version": "3.11.4"
  }
 },
 "nbformat": 4,
 "nbformat_minor": 2
}
