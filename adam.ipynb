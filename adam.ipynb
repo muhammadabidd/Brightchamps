{
 "cells": [
  {
   "cell_type": "code",
   "execution_count": 3,
   "metadata": {},
   "outputs": [
    {
     "name": "stdout",
     "output_type": "stream",
     "text": [
      "HELLO SEMUANYA\n"
     ]
    }
   ],
   "source": [
    "print(\"HELLO SEMUANYA\") # ini kodingan untuk saldkjalsdkjaslkdj"
   ]
  },
  {
   "cell_type": "code",
   "execution_count": 9,
   "metadata": {},
   "outputs": [
    {
     "name": "stdout",
     "output_type": "stream",
     "text": [
      "Helo semuanyaaa, aku sudah belajar codiing pakai python\n",
      "halo semuanyaaaa\n",
      "Python was founded by guido van rosum\n"
     ]
    }
   ],
   "source": [
    "# Python Lesson 01\n",
    "\n",
    "print(\"Helo semuanyaaa, aku sudah belajar codiing pakai python\")\n",
    "print('halo semuanyaaaa')\n",
    "print(\"Python was founded by guido van rosum\")"
   ]
  },
  {
   "cell_type": "code",
   "execution_count": 23,
   "metadata": {},
   "outputs": [
    {
     "name": "stdout",
     "output_type": "stream",
     "text": [
      "12\n",
      "20\n",
      "90\n",
      "80\n",
      "90\n",
      "80\n",
      "1000\n"
     ]
    }
   ],
   "source": [
    "# cara buat variable\n",
    "\n",
    "# boleh dimulai dari huruf apa saya\n",
    "\n",
    "nilai_siswa = 12\n",
    "print(nilai_siswa)\n",
    "\n",
    "nilaiSiswa = 20\n",
    "print(nilaiSiswa)\n",
    "\n",
    "nilaiA = 90\n",
    "nilaia = 80\n",
    "\n",
    "print(nilaiA)\n",
    "print(nilaia)\n",
    "\n",
    "nilaisiswa2 = 90\n",
    "print(nilaisiswa2)\n",
    "\n",
    "_nilaisiswa = 80\n",
    "print(_nilaisiswa)\n",
    "\n",
    "\n",
    "\n",
    "\n",
    "_ = 1000\n",
    "print(_)\n",
    "\n",
    "\n"
   ]
  },
  {
   "cell_type": "code",
   "execution_count": 25,
   "metadata": {},
   "outputs": [
    {
     "name": "stdout",
     "output_type": "stream",
     "text": [
      "<class 'int'>\n"
     ]
    }
   ],
   "source": [
    "print(  type(nilaisiswa2)  )"
   ]
  },
  {
   "cell_type": "code",
   "execution_count": 28,
   "metadata": {},
   "outputs": [
    {
     "name": "stdout",
     "output_type": "stream",
     "text": [
      "<class 'str'>\n"
     ]
    }
   ],
   "source": [
    "angkatapistring = \"25\"\n",
    "\n",
    "print(type(angkatapistring) )"
   ]
  },
  {
   "cell_type": "code",
   "execution_count": 30,
   "metadata": {},
   "outputs": [
    {
     "name": "stdout",
     "output_type": "stream",
     "text": [
      "<class 'int'>\n",
      "<class 'int'>\n",
      "140\n",
      "-40\n",
      "4500\n",
      "0.5555555555555556\n"
     ]
    }
   ],
   "source": [
    "num1 = 50\n",
    "num2 = 90\n",
    "\n",
    "print(type(num1))\n",
    "print(type(num2))\n",
    "print(num1 + num2)\n",
    "print(num1 - num2)\n",
    "print(num1 * num2)\n",
    "print(num1 / num2)"
   ]
  },
  {
   "cell_type": "code",
   "execution_count": 34,
   "metadata": {},
   "outputs": [
    {
     "name": "stdout",
     "output_type": "stream",
     "text": [
      "<class 'str'>\n",
      "<class 'str'>\n",
      "Abid Ganteng\n"
     ]
    }
   ],
   "source": [
    "string1 = \"Abid\"\n",
    "string2 = ' Ganteng'\n",
    "\n",
    "print(type(string1))\n",
    "print(type(string2))\n",
    "print(string1 + string2)"
   ]
  },
  {
   "cell_type": "code",
   "execution_count": 12,
   "metadata": {},
   "outputs": [
    {
     "name": "stdout",
     "output_type": "stream",
     "text": [
      "The type of number1 is :  <class 'int'>\n",
      "The type of number1 is :  <class 'int'>\n",
      "The type of number1 is :  <class 'str'>\n",
      "The type of number1 is :  <class 'str'>\n"
     ]
    }
   ],
   "source": [
    "number1 = 20\n",
    "number2 = 40\n",
    "number3 = '15'\n",
    "number4 = '40'\n",
    "\n",
    "\n",
    "\n",
    "print(\"The type of number1 is : \", type(number1))\n",
    "print(\"The type of number1 is : \", type(number2))\n",
    "print(\"The type of number1 is : \", type(number3))\n",
    "print(\"The type of number1 is : \", type(number4))\n"
   ]
  },
  {
   "cell_type": "code",
   "execution_count": 13,
   "metadata": {},
   "outputs": [
    {
     "name": "stdout",
     "output_type": "stream",
     "text": [
      "60\n",
      "1540\n"
     ]
    }
   ],
   "source": [
    "print(number1 + number2)\n",
    "print(number3 + number4)\n"
   ]
  },
  {
   "cell_type": "code",
   "execution_count": 14,
   "metadata": {},
   "outputs": [
    {
     "name": "stdout",
     "output_type": "stream",
     "text": [
      "35\n",
      "4040\n"
     ]
    }
   ],
   "source": [
    "#Change data type\n",
    "\n",
    "print(number1 + int(number3))\n",
    "print(str(number2) + number4)"
   ]
  },
  {
   "cell_type": "code",
   "execution_count": 23,
   "metadata": {},
   "outputs": [
    {
     "name": "stdout",
     "output_type": "stream",
     "text": [
      "sigma sigma sigma sigma sigma sigma sigma\n"
     ]
    }
   ],
   "source": [
    "name = input(\"WHAT IS YOUR NAMEEEEEE!!!!\")\n",
    "\n",
    "print(name, name, name, name, name, name, name)"
   ]
  },
  {
   "cell_type": "code",
   "execution_count": 26,
   "metadata": {},
   "outputs": [
    {
     "name": "stdout",
     "output_type": "stream",
     "text": [
      "This is game store, can i help you? but before that i need to know your name\n",
      "Okay abid Thats cool name\n",
      "so you are 12 Years old\n",
      "okay, so now chose between these item\n",
      "GTA 5\n",
      "Lost Saga\n",
      "FIFA 2022\n",
      "NBA 2021\n",
      "so, you are chosing :  GTA 5\n"
     ]
    }
   ],
   "source": [
    "print(\"This is game store, can i help you? but before that i need to know your name\")\n",
    "\n",
    "name = input(\"What do people call you?\")\n",
    "\n",
    "\n",
    "print(\"Okay\", name, \"Thats cool name\")\n",
    "\n",
    "age = input(\"enter your age\")\n",
    "print(\"so you are\", age, \"Years old\")\n",
    "\n",
    "print(\"okay, so now chose between these item\")\n",
    "print(\"GTA 5\")\n",
    "print(\"Lost Saga\")\n",
    "print(\"FIFA 2022\")\n",
    "print(\"NBA 2021\")\n",
    "\n",
    "chose = input(\"Insert your chose here : \")\n",
    "\n",
    "print(\"so, you are chosing : \", chose)"
   ]
  },
  {
   "cell_type": "code",
   "execution_count": null,
   "metadata": {},
   "outputs": [],
   "source": []
  }
 ],
 "metadata": {
  "kernelspec": {
   "display_name": "Python 3",
   "language": "python",
   "name": "python3"
  },
  "language_info": {
   "codemirror_mode": {
    "name": "ipython",
    "version": 3
   },
   "file_extension": ".py",
   "mimetype": "text/x-python",
   "name": "python",
   "nbconvert_exporter": "python",
   "pygments_lexer": "ipython3",
   "version": "3.11.4"
  }
 },
 "nbformat": 4,
 "nbformat_minor": 2
}
