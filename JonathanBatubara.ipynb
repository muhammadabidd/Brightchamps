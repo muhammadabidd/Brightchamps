{
 "cells": [
  {
   "cell_type": "code",
   "execution_count": 3,
   "metadata": {},
   "outputs": [
    {
     "name": "stdout",
     "output_type": "stream",
     "text": [
      "Hallo semuanya, perkenalkan nama saya ABID\n",
      "Saya senang sekali belajar di brightchamps, huhuy\n",
      "Kali ini saya akan belajar tentang print function and input function\n"
     ]
    }
   ],
   "source": [
    "print(\"Hallo semuanya, perkenalkan nama saya ABID\")\n",
    "print(\"Saya senang sekali belajar di brightchamps, huhuy\")\n",
    "print(\"Kali ini saya akan belajar tentang print function and input function\")"
   ]
  },
  {
   "cell_type": "code",
   "execution_count": 11,
   "metadata": {},
   "outputs": [
    {
     "name": "stdout",
     "output_type": "stream",
     "text": [
      "Pertama mari belajar tentang print terlebih dahulu\n",
      "Ada beberapa cara untuk menggabungkan dua teks \n",
      "Pertama : Menggunakan Tambah\n",
      "Abid Ganteng\n",
      "Saudaranya Abid Ganteng\n"
     ]
    }
   ],
   "source": [
    "print(\"Pertama mari belajar tentang print terlebih dahulu\")\n",
    "print(\"Ada beberapa cara untuk menggabungkan dua teks \")\n",
    "print(\"Pertama : Menggunakan Tambah\")\n",
    "\n",
    "\n",
    "\n",
    "nama = \"Abid\"\n",
    "status = \"Ganteng\"\n",
    "\n",
    "print(nama + \" \" + status)\n",
    "print(\"Saudaranya Abid\" + \" \" + status)"
   ]
  },
  {
   "cell_type": "code",
   "execution_count": 14,
   "metadata": {},
   "outputs": [
    {
     "name": "stdout",
     "output_type": "stream",
     "text": [
      "Nama saya : Abid dan saya : Ganteng Umur saya : \n"
     ]
    }
   ],
   "source": [
    "nama = \"Abid\"\n",
    "status = \"Ganteng\"\n",
    "umur = 12\n",
    "\n",
    "print(\"Nama saya : \" + nama + \" dan saya : \" + status+ \" Umur saya : \")"
   ]
  },
  {
   "cell_type": "code",
   "execution_count": 4,
   "metadata": {},
   "outputs": [
    {
     "name": "stdout",
     "output_type": "stream",
     "text": [
      "Kedua, pakai koma\n",
      "Nama saya Abid dan saya  Kaya Raya Umur saya 19\n"
     ]
    }
   ],
   "source": [
    "print(\"Kedua, pakai koma\")\n",
    "\n",
    "\n",
    "nama = \"Abid\"\n",
    "status = \"Kaya Raya\"\n",
    "umur = 19\n",
    "print(\"Nama saya\", nama, \"dan saya \", status, \"Umur saya\", umur)"
   ]
  },
  {
   "cell_type": "code",
   "execution_count": 17,
   "metadata": {},
   "outputs": [
    {
     "name": "stdout",
     "output_type": "stream",
     "text": [
      "Ketiga, pakai formatttt\n",
      "Nama saya BUDI, dan saya Kaya Raya, Umur saya 19\n"
     ]
    }
   ],
   "source": [
    "print(\"Ketiga, pakai formatttt\")\n",
    "\n",
    "nama = \"BUDI\"\n",
    "status = \"Kaya Raya\"\n",
    "umur = 19\n",
    "\n",
    "print(\"Nama saya {}, dan saya {}, Umur saya {}\".format(nama, status, umur))"
   ]
  },
  {
   "cell_type": "code",
   "execution_count": 28,
   "metadata": {},
   "outputs": [
    {
     "name": "stdout",
     "output_type": "stream",
     "text": [
      "PAKAI YANG F\n",
      "Nama saya Jonathan B, dan saya Kaya Raya, Umur saya 19\n"
     ]
    }
   ],
   "source": [
    "print(\"PAKAI YANG F\")\n",
    "\n",
    "nama = input(\"Siapa namanya?\")\n",
    "status = \"Kaya Raya\"\n",
    "umur = 19\n",
    "\n",
    "print(f\"Nama saya {nama}, dan saya {status}, Umur saya {umur}\")"
   ]
  },
  {
   "cell_type": "code",
   "execution_count": null,
   "metadata": {},
   "outputs": [],
   "source": []
  }
 ],
 "metadata": {
  "kernelspec": {
   "display_name": "Python 3",
   "language": "python",
   "name": "python3"
  },
  "language_info": {
   "codemirror_mode": {
    "name": "ipython",
    "version": 3
   },
   "file_extension": ".py",
   "mimetype": "text/x-python",
   "name": "python",
   "nbconvert_exporter": "python",
   "pygments_lexer": "ipython3",
   "version": "3.11.4"
  }
 },
 "nbformat": 4,
 "nbformat_minor": 2
}
