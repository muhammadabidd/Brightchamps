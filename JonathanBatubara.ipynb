{
 "cells": [
  {
   "cell_type": "code",
   "execution_count": 3,
   "metadata": {},
   "outputs": [
    {
     "name": "stdout",
     "output_type": "stream",
     "text": [
      "Hallo semuanya, perkenalkan nama saya ABID\n",
      "Saya senang sekali belajar di brightchamps, huhuy\n",
      "Kali ini saya akan belajar tentang print function and input function\n"
     ]
    }
   ],
   "source": [
    "print(\"Hallo semuanya, perkenalkan nama saya ABID\")\n",
    "print(\"Saya senang sekali belajar di brightchamps, huhuy\")\n",
    "print(\"Kali ini saya akan belajar tentang print function and input function\")"
   ]
  },
  {
   "cell_type": "code",
   "execution_count": 11,
   "metadata": {},
   "outputs": [
    {
     "name": "stdout",
     "output_type": "stream",
     "text": [
      "Pertama mari belajar tentang print terlebih dahulu\n",
      "Ada beberapa cara untuk menggabungkan dua teks \n",
      "Pertama : Menggunakan Tambah\n",
      "Abid Ganteng\n",
      "Saudaranya Abid Ganteng\n"
     ]
    }
   ],
   "source": [
    "print(\"Pertama mari belajar tentang print terlebih dahulu\")\n",
    "print(\"Ada beberapa cara untuk menggabungkan dua teks \")\n",
    "print(\"Pertama : Menggunakan Tambah\")\n",
    "\n",
    "\n",
    "\n",
    "nama = \"Abid\"\n",
    "status = \"Ganteng\"\n",
    "\n",
    "print(nama + \" \" + status)\n",
    "print(\"Saudaranya Abid\" + \" \" + status)"
   ]
  },
  {
   "cell_type": "code",
   "execution_count": 14,
   "metadata": {},
   "outputs": [
    {
     "name": "stdout",
     "output_type": "stream",
     "text": [
      "Nama saya : Abid dan saya : Ganteng Umur saya : \n"
     ]
    }
   ],
   "source": [
    "nama = \"Abid\"\n",
    "status = \"Ganteng\"\n",
    "umur = 12\n",
    "\n",
    "print(\"Nama saya : \" + nama + \" dan saya : \" + status+ \" Umur saya : \")"
   ]
  },
  {
   "cell_type": "code",
   "execution_count": 4,
   "metadata": {},
   "outputs": [
    {
     "name": "stdout",
     "output_type": "stream",
     "text": [
      "Kedua, pakai koma\n",
      "Nama saya Abid dan saya  Kaya Raya Umur saya 19\n"
     ]
    }
   ],
   "source": [
    "print(\"Kedua, pakai koma\")\n",
    "\n",
    "\n",
    "nama = \"Abid\"\n",
    "status = \"Kaya Raya\"\n",
    "umur = 19\n",
    "print(\"Nama saya\", nama, \"dan saya \", status, \"Umur saya\", umur)"
   ]
  },
  {
   "cell_type": "code",
   "execution_count": 17,
   "metadata": {},
   "outputs": [
    {
     "name": "stdout",
     "output_type": "stream",
     "text": [
      "Ketiga, pakai formatttt\n",
      "Nama saya BUDI, dan saya Kaya Raya, Umur saya 19\n"
     ]
    }
   ],
   "source": [
    "print(\"Ketiga, pakai formatttt\")\n",
    "\n",
    "nama = \"BUDI\"\n",
    "status = \"Kaya Raya\"\n",
    "umur = 19\n",
    "\n",
    "print(\"Nama saya {}, dan saya {}, Umur saya {}\".format(nama, status, umur))"
   ]
  },
  {
   "cell_type": "code",
   "execution_count": 28,
   "metadata": {},
   "outputs": [
    {
     "name": "stdout",
     "output_type": "stream",
     "text": [
      "PAKAI YANG F\n",
      "Nama saya Jonathan B, dan saya Kaya Raya, Umur saya 19\n"
     ]
    }
   ],
   "source": [
    "print(\"PAKAI YANG F\")\n",
    "\n",
    "nama = input(\"Siapa namanya?\")\n",
    "status = \"Kaya Raya\"\n",
    "umur = 19\n",
    "\n",
    "print(f\"Nama saya {nama}, dan saya {status}, Umur saya {umur}\")"
   ]
  },
  {
   "cell_type": "code",
   "execution_count": 4,
   "metadata": {},
   "outputs": [
    {
     "name": "stdout",
     "output_type": "stream",
     "text": [
      "30\n"
     ]
    }
   ],
   "source": [
    "# Urutan yang benar itu disebut sebagaiiiiii :::::::::::::::::::::::::::::::::::::::::::::::: AAAAAAAAAAAAAAAAAAAAALLLLLLLLLLLLLLLLLLGGGGGGGGGGGGGGORITMAAAA\n",
    "angka1 = 10\n",
    "angka2 = 20\n",
    "\n",
    "print(angka1 + angka2)"
   ]
  },
  {
   "cell_type": "code",
   "execution_count": 9,
   "metadata": {},
   "outputs": [
    {
     "name": "stdout",
     "output_type": "stream",
     "text": [
      "Saya sudah dewasa\n"
     ]
    }
   ],
   "source": [
    "umursaya = 25\n",
    "\n",
    "if umursaya > 17:\n",
    "    print(\"Saya sudah dewasa\")"
   ]
  },
  {
   "cell_type": "code",
   "execution_count": 19,
   "metadata": {},
   "outputs": [],
   "source": [
    "umursaya = 12\n",
    "umur_siswa = 12\n",
    "siswa1 = 12\n",
    "siswa2 = 12\n",
    "siswa2_siswa = 12\n",
    "_boleh = 12\n",
    "\n",
    "UMUMR = 12"
   ]
  },
  {
   "cell_type": "code",
   "execution_count": 20,
   "metadata": {},
   "outputs": [
    {
     "name": "stdout",
     "output_type": "stream",
     "text": [
      "12\n",
      "13\n",
      "14\n"
     ]
    }
   ],
   "source": [
    "umurku = 12\n",
    "umurmu = 13\n",
    "umurnya = 14\n",
    "\n",
    "print(umurku)\n",
    "print(umurmu)\n",
    "print(umurnya)"
   ]
  },
  {
   "cell_type": "code",
   "execution_count": 21,
   "metadata": {},
   "outputs": [
    {
     "name": "stdout",
     "output_type": "stream",
     "text": [
      "12\n",
      "13\n",
      "14\n"
     ]
    },
    {
     "ename": "",
     "evalue": "",
     "output_type": "error",
     "traceback": [
      "\u001b[1;31mThe Kernel crashed while executing code in the current cell or a previous cell. \n",
      "\u001b[1;31mPlease review the code in the cell(s) to identify a possible cause of the failure. \n",
      "\u001b[1;31mClick <a href='https://aka.ms/vscodeJupyterKernelCrash'>here</a> for more info. \n",
      "\u001b[1;31mView Jupyter <a href='command:jupyter.viewOutput'>log</a> for further details."
     ]
    }
   ],
   "source": [
    "ageku, agemu, agenya = 12, 13, 14\n",
    "\n",
    "print(ageku)\n",
    "print(agemu)\n",
    "print(agenya)"
   ]
  },
  {
   "cell_type": "code",
   "execution_count": 2,
   "metadata": {},
   "outputs": [
    {
     "name": "stdout",
     "output_type": "stream",
     "text": [
      "<class 'int'>\n",
      "<class 'int'>\n"
     ]
    }
   ],
   "source": [
    "angka1 = 1\n",
    "angka2 = 99\n",
    "\n",
    "\n",
    "print(type(angka1))\n",
    "print(type(angka2))"
   ]
  },
  {
   "cell_type": "code",
   "execution_count": 8,
   "metadata": {},
   "outputs": [
    {
     "name": "stdout",
     "output_type": "stream",
     "text": [
      "Nama saya Muhammad Abid, Hobi saya Bermain Basket, dan umur saya 21\n",
      "Nama saya Muhamamd Abid, Hobi saya bermain basket, dan umur saya 22\n"
     ]
    }
   ],
   "source": [
    "# Belajar Cara ngeprint (ada tiga cara)\n",
    "\n",
    "\n",
    "\n",
    "# Cara pertama , menggunakan print biasa\n",
    "\n",
    "nama = \"Muhamamd Abid\"\n",
    "hobi = \"bermain basket\"\n",
    "umur = 22\n",
    "\n",
    "\n",
    "\n",
    "print(\"Nama saya Muhammad Abid, Hobi saya Bermain Basket, dan umur saya 21\")\n",
    "print(\"Nama saya \" + nama +\", Hobi saya \"+ hobi +\", dan umur saya \" + str(umur))"
   ]
  },
  {
   "cell_type": "code",
   "execution_count": 14,
   "metadata": {},
   "outputs": [
    {
     "name": "stdout",
     "output_type": "stream",
     "text": [
      "Nama saya Muhamamd Abid, Hobi saya bermain basket, dan umur saya 22\n"
     ]
    }
   ],
   "source": [
    "# Cara  yang kedua\n",
    "\n",
    "print(\"Nama saya {}, Hobi saya {}, dan umur saya {}\".format(nama, hobi, umur))"
   ]
  },
  {
   "cell_type": "code",
   "execution_count": 26,
   "metadata": {},
   "outputs": [
    {
     "name": "stdout",
     "output_type": "stream",
     "text": [
      "Nama saya SPARUDIN, Hobi saya MAIN BOLAA, dan umur saya 9999999999999999999999999999999999\n"
     ]
    }
   ],
   "source": [
    "# Cara yang ketiga\n",
    "nama = \"SPARUDIN\"\n",
    "hobi = \"MAIN BOLAA\"\n",
    "umur = 9999999999999999999999999999999999\n",
    "\n",
    "print(f\"Nama saya {nama}, Hobi saya {hobi}, dan umur saya {umur}\")"
   ]
  },
  {
   "cell_type": "code",
   "execution_count": 27,
   "metadata": {},
   "outputs": [
    {
     "name": "stdout",
     "output_type": "stream",
     "text": [
      "awaludin\n"
     ]
    }
   ],
   "source": [
    "namaawal = \"awal\"\n",
    "namaakhir = \"udin\"\n",
    "\n",
    "print(namaawal + namaakhir )"
   ]
  },
  {
   "cell_type": "code",
   "execution_count": 29,
   "metadata": {},
   "outputs": [
    {
     "name": "stdout",
     "output_type": "stream",
     "text": [
      "1020\n"
     ]
    }
   ],
   "source": [
    "angka1 = \"10\"\n",
    "angka2 = \"20\"\n",
    "print(angka1+angka2)"
   ]
  },
  {
   "cell_type": "code",
   "execution_count": 30,
   "metadata": {},
   "outputs": [
    {
     "name": "stdout",
     "output_type": "stream",
     "text": [
      "30\n"
     ]
    }
   ],
   "source": [
    "angka1 = 10\n",
    "angka2 = 20\n",
    "print(angka1+angka2)"
   ]
  },
  {
   "cell_type": "code",
   "execution_count": 6,
   "metadata": {},
   "outputs": [
    {
     "name": "stdout",
     "output_type": "stream",
     "text": [
      "hello geng, umur kamu berapa?\n",
      "umur saya 9\n",
      "WaIIIIIIIT INI BELUM BERUMUR NIH\n"
     ]
    }
   ],
   "source": [
    "print(\"hello geng, umur kamu berapa?\")\n",
    "\n",
    "umur = input(\"masukkan umur : \")\n",
    "print(f\"umur saya {umur}\")\n",
    "\n",
    "\n",
    "\n",
    "\n",
    "\n",
    "if int(umur) > 17:\n",
    "    print(\"Selamat anda sudah bisa bikin SIM\")\n",
    "elif int(umur) > 15:\n",
    "    print(\"DIKIT LAGI YA BANG YAK\")\n",
    "else:\n",
    "    print(\"WaIIIIIIIT INI BELUM BERUMUR NIH\")"
   ]
  },
  {
   "cell_type": "code",
   "execution_count": null,
   "metadata": {},
   "outputs": [],
   "source": []
  }
 ],
 "metadata": {
  "kernelspec": {
   "display_name": "Python 3",
   "language": "python",
   "name": "python3"
  },
  "language_info": {
   "codemirror_mode": {
    "name": "ipython",
    "version": 3
   },
   "file_extension": ".py",
   "mimetype": "text/x-python",
   "name": "python",
   "nbconvert_exporter": "python",
   "pygments_lexer": "ipython3",
   "version": "3.12.3"
  }
 },
 "nbformat": 4,
 "nbformat_minor": 2
}
