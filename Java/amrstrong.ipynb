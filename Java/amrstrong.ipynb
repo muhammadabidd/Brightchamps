{
 "cells": [
  {
   "cell_type": "code",
   "execution_count": 18,
   "metadata": {},
   "outputs": [
    {
     "data": {
      "text/plain": [
       "153"
      ]
     },
     "execution_count": 18,
     "metadata": {},
     "output_type": "execute_result"
    }
   ],
   "source": [
    "numbr = 153\n",
    "\n",
    "temp = numbr\n",
    "thesum = 0\n",
    "\n",
    "while temp > 0:\n",
    "\n",
    "\n",
    "    last_digit = temp % 10\n",
    "    cube = last_digit ** 3\n",
    "    temp = temp // 10\n",
    "    thesum = thesum + cube\n",
    "\n",
    "thesum \n",
    "\n",
    "\n",
    "\n"
   ]
  },
  {
   "cell_type": "code",
   "execution_count": 11,
   "metadata": {},
   "outputs": [
    {
     "name": "stdout",
     "output_type": "stream",
     "text": [
      "153\n",
      "Ini adalah angka AMSTRONG\n"
     ]
    }
   ],
   "source": [
    "angka = 153\n",
    "copian = angka\n",
    "total = 0\n",
    "\n",
    "while copian >0:\n",
    "\n",
    "    angkaterakhir = copian % 10\n",
    "    pangkattiga = angkaterakhir * angkaterakhir * angkaterakhir\n",
    "    copian = copian // 10\n",
    "    total = total + pangkattiga\n",
    "\n",
    "\n",
    "print(total)\n",
    "if total == angka:\n",
    "    print(\"Ini adalah angka AMSTRONG\")\n",
    "else : \n",
    "    print(\"INI BUKAN ANGKA AMSTRONG\")"
   ]
  },
  {
   "cell_type": "code",
   "execution_count": 3,
   "metadata": {},
   "outputs": [
    {
     "data": {
      "text/plain": [
       "3"
      ]
     },
     "execution_count": 3,
     "metadata": {},
     "output_type": "execute_result"
    }
   ],
   "source": []
  },
  {
   "cell_type": "code",
   "execution_count": null,
   "metadata": {},
   "outputs": [],
   "source": []
  }
 ],
 "metadata": {
  "kernelspec": {
   "display_name": "Python 3",
   "language": "python",
   "name": "python3"
  },
  "language_info": {
   "codemirror_mode": {
    "name": "ipython",
    "version": 3
   },
   "file_extension": ".py",
   "mimetype": "text/x-python",
   "name": "python",
   "nbconvert_exporter": "python",
   "pygments_lexer": "ipython3",
   "version": "3.11.4"
  }
 },
 "nbformat": 4,
 "nbformat_minor": 2
}
