{
 "cells": [
  {
   "cell_type": "code",
   "execution_count": 23,
   "metadata": {},
   "outputs": [
    {
     "name": "stdout",
     "output_type": "stream",
     "text": [
      "2\n",
      "Desimal Number\n"
     ]
    }
   ],
   "source": [
    "yournumber = 7\n",
    "count = 0\n",
    "\n",
    "# for i in range(1, yournumber+1):\n",
    "#     if yournumber% i == 0:\n",
    "#         count+=1\n",
    "\n",
    "i = 1   \n",
    "\n",
    "while  i <= yournumber:\n",
    "\n",
    "    if yournumber % i == 0:\n",
    "        count+=1\n",
    "\n",
    "    if count > 2:\n",
    "        break\n",
    "    i += 1\n",
    "\n",
    "print(count)\n",
    "\n",
    "\n",
    "if count == 1:\n",
    "    print(\"1 is neither Decimal nor Composite Number\")\n",
    "if count == 2:\n",
    "    print(\"Desimal Number\")\n",
    "else:\n",
    "    print(\"Not Desimal Number\")"
   ]
  },
  {
   "cell_type": "code",
   "execution_count": null,
   "metadata": {},
   "outputs": [],
   "source": []
  }
 ],
 "metadata": {
  "kernelspec": {
   "display_name": "Python 3",
   "language": "python",
   "name": "python3"
  },
  "language_info": {
   "codemirror_mode": {
    "name": "ipython",
    "version": 3
   },
   "file_extension": ".py",
   "mimetype": "text/x-python",
   "name": "python",
   "nbconvert_exporter": "python",
   "pygments_lexer": "ipython3",
   "version": "3.11.4"
  }
 },
 "nbformat": 4,
 "nbformat_minor": 2
}
